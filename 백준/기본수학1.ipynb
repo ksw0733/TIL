{
 "cells": [
  {
   "cell_type": "code",
   "execution_count": 4,
   "metadata": {},
   "outputs": [
    {
     "name": "stdout",
     "output_type": "stream",
     "text": [
      "-1\n"
     ]
    }
   ],
   "source": [
    "## 1712번\n",
    "fixed, cost, price = map(int, input().split())\n",
    "revenue = price - cost\n",
    "\n",
    "if revenue <= 0:\n",
    "    print(-1)\n",
    "else:\n",
    "    day = fixed // revenue + 1\n",
    "    print(day)"
   ]
  },
  {
   "cell_type": "code",
   "execution_count": 7,
   "metadata": {},
   "outputs": [
    {
     "name": "stdout",
     "output_type": "stream",
     "text": [
      "3\n"
     ]
    }
   ],
   "source": [
    "## 2292번\n",
    "n = int(input())\n",
    "m = 1\n",
    "cnt = 1\n",
    "while n > m:\n",
    "    m += cnt*6\n",
    "    cnt += 1\n",
    "print(cnt)"
   ]
  },
  {
   "cell_type": "code",
   "execution_count": 8,
   "metadata": {},
   "outputs": [
    {
     "name": "stdout",
     "output_type": "stream",
     "text": [
      "3/3\n"
     ]
    }
   ],
   "source": [
    "## 1193번\n",
    "num = int(input())\n",
    "\n",
    "line = 0\n",
    "max_num = 0\n",
    "while num > max_num:\n",
    "    line += 1   # 대각선 라인\n",
    "    max_num += line   # 대각선 라인중에서 가장 큰 숫자(마지막번째 숫자)\n",
    "\n",
    "gap = max_num - num\n",
    "if line % 2 == 0:\n",
    "    denominator = line - gap\n",
    "    numerator = gap + 1\n",
    "else:\n",
    "    denominator = gap + 1\n",
    "    numerator = line - gap\n",
    "print(f'{denominator}/{numerator}')"
   ]
  },
  {
   "cell_type": "code",
   "execution_count": 36,
   "metadata": {},
   "outputs": [
    {
     "name": "stdout",
     "output_type": "stream",
     "text": [
      "2\n"
     ]
    }
   ],
   "source": [
    "## 2869번\n",
    "a, b, v = map(int, input().split())\n",
    "\n",
    "print((v - b)//(a - b) + 1 if (v-b)%(a-b) != 0 else (v - b)//(a - b))"
   ]
  },
  {
   "cell_type": "code",
   "execution_count": 6,
   "metadata": {},
   "outputs": [
    {
     "name": "stdout",
     "output_type": "stream",
     "text": [
      "402\n",
      "1203\n"
     ]
    }
   ],
   "source": [
    "## 10250번\n",
    "case_num = int(input())\n",
    "for _ in range(case_num):\n",
    "    h, w, n = map(int, input().split())\n",
    "    y = n % h\n",
    "    x = n // h + 1\n",
    "    if n % h == 0:\n",
    "        x = n // h\n",
    "        y = h\n",
    "    room = y*100+x\n",
    "    print(room)"
   ]
  },
  {
   "cell_type": "code",
   "execution_count": 2,
   "metadata": {},
   "outputs": [
    {
     "name": "stdout",
     "output_type": "stream",
     "text": [
      "6\n",
      "10\n",
      "35\n"
     ]
    }
   ],
   "source": [
    "## 2775번\n",
    "case_num = int(input())\n",
    "\n",
    "for _ in range(case_num):\n",
    "    floor = int(input())\n",
    "    num = int(input())\n",
    "    f0 = [x for x in range(1, num+1)]\n",
    "    for k in range(floor):\n",
    "        for i in range(1, num):\n",
    "            f0[i] += f0[i-1]\n",
    "    print(f0[-1])\n",
    "    "
   ]
  },
  {
   "cell_type": "code",
   "execution_count": null,
   "metadata": {},
   "outputs": [],
   "source": []
  }
 ],
 "metadata": {
  "kernelspec": {
   "display_name": "Python 3.9.7 ('kdig')",
   "language": "python",
   "name": "python3"
  },
  "language_info": {
   "codemirror_mode": {
    "name": "ipython",
    "version": 3
   },
   "file_extension": ".py",
   "mimetype": "text/x-python",
   "name": "python",
   "nbconvert_exporter": "python",
   "pygments_lexer": "ipython3",
   "version": "3.9.7"
  },
  "orig_nbformat": 4,
  "vscode": {
   "interpreter": {
    "hash": "79235f3c426277640c9689d2572c47b913f40843195eeba115616b689febf123"
   }
  }
 },
 "nbformat": 4,
 "nbformat_minor": 2
}
