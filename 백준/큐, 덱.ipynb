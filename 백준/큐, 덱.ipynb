{
 "cells": [
  {
   "cell_type": "code",
   "execution_count": 3,
   "metadata": {},
   "outputs": [
    {
     "name": "stdout",
     "output_type": "stream",
     "text": [
      "1\n",
      "2\n",
      "2\n",
      "0\n",
      "1\n",
      "2\n",
      "-1\n",
      "0\n",
      "1\n",
      "-1\n",
      "0\n",
      "3\n"
     ]
    }
   ],
   "source": [
    "## 18258번\n",
    "import sys\n",
    "from collections import deque\n",
    "\n",
    "# input = sys.stdin.readline\n",
    "\n",
    "n = int(input())\n",
    "que = deque()\n",
    "order = []\n",
    "\n",
    "for _ in range(n):\n",
    "    order.append(input().split())\n",
    "\n",
    "for order in order:\n",
    "    if order[0] == 'push':\n",
    "        que.append(order[1])\n",
    "    elif order[0] == 'pop':\n",
    "        try:\n",
    "            print(que.popleft())\n",
    "        except:\n",
    "            print(-1)\n",
    "    elif order[0] == 'size':\n",
    "        print(len(que))\n",
    "    elif order[0] == 'empty':\n",
    "        if len(que) == 0:\n",
    "            print(1)\n",
    "        else:\n",
    "            print(0)\n",
    "    elif order[0] == 'front':\n",
    "        if len(que) == 0:\n",
    "            print(-1)\n",
    "        else:\n",
    "            print(que[0])\n",
    "    else:\n",
    "        if len(que) == 0:\n",
    "            print(-1)\n",
    "        else:\n",
    "            print(que[-1])\n",
    "\n",
    "    "
   ]
  },
  {
   "cell_type": "code",
   "execution_count": 15,
   "metadata": {},
   "outputs": [
    {
     "name": "stdout",
     "output_type": "stream",
     "text": [
      "deque([1, 2, 3, 4, 5, 6])\n",
      "deque([3, 4, 5, 6, 2])\n",
      "deque([5, 6, 2, 4])\n",
      "deque([2, 4, 6])\n",
      "deque([6, 4])\n",
      "4\n"
     ]
    }
   ],
   "source": [
    "## 2164번\n",
    "import sys\n",
    "from collections import deque\n",
    "\n",
    "# input = sys.stdin.readline\n",
    "\n",
    "n = int(input())\n",
    "que = deque()\n",
    "\n",
    "for i in range(1, n+1):\n",
    "    que.append(i)\n",
    "\n",
    "while len(que) > 1:\n",
    "    que.popleft()\n",
    "    que.rotate(-1)\n",
    "    \n",
    "print(que[0])"
   ]
  },
  {
   "cell_type": "code",
   "execution_count": null,
   "metadata": {},
   "outputs": [],
   "source": []
  }
 ],
 "metadata": {
  "kernelspec": {
   "display_name": "kdig",
   "language": "python",
   "name": "python3"
  },
  "language_info": {
   "codemirror_mode": {
    "name": "ipython",
    "version": 3
   },
   "file_extension": ".py",
   "mimetype": "text/x-python",
   "name": "python",
   "nbconvert_exporter": "python",
   "pygments_lexer": "ipython3",
   "version": "3.9.7"
  },
  "orig_nbformat": 4
 },
 "nbformat": 4,
 "nbformat_minor": 2
}
