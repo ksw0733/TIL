{
 "cells": [
  {
   "cell_type": "code",
   "execution_count": 1,
   "metadata": {},
   "outputs": [
    {
     "name": "stdout",
     "output_type": "stream",
     "text": [
      "3\n"
     ]
    }
   ],
   "source": [
    "## 10807번\n",
    "n = int(input())\n",
    "lst = list(map(int, input().split()))\n",
    "num = int(input())\n",
    "cnt = 0\n",
    "for i in range(len(lst)):\n",
    "    if lst[i] == num:\n",
    "        cnt += 1\n",
    "print(cnt)"
   ]
  },
  {
   "cell_type": "code",
   "execution_count": 4,
   "metadata": {},
   "outputs": [
    {
     "name": "stdout",
     "output_type": "stream",
     "text": [
      "7 35\n"
     ]
    }
   ],
   "source": [
    "## 10818번\n",
    "n = int(input())\n",
    "lst = list(map(int, input().split()))\n",
    "print(min(lst), max(lst))"
   ]
  },
  {
   "cell_type": "code",
   "execution_count": 7,
   "metadata": {},
   "outputs": [
    {
     "name": "stdout",
     "output_type": "stream",
     "text": [
      "9\n",
      "9\n"
     ]
    }
   ],
   "source": [
    "## 2562번\n",
    "lst = [int(input()) for i in range(9)]\n",
    "print(max(lst))\n",
    "print(lst.index(max(lst)) + 1)"
   ]
  },
  {
   "cell_type": "code",
   "execution_count": null,
   "metadata": {},
   "outputs": [],
   "source": [
    "## 5597번\n",
    "students = [i for i in range(1,31)]\n",
    "\n",
    "for _ in range(28):\n",
    "    applied = int(input())\n",
    "    students.remove(applied) #소거\n",
    "\n",
    "print(min(students))\n",
    "print(max(students))"
   ]
  },
  {
   "cell_type": "code",
   "execution_count": 14,
   "metadata": {},
   "outputs": [
    {
     "name": "stdout",
     "output_type": "stream",
     "text": [
      "6\n"
     ]
    }
   ],
   "source": [
    "## 3052번\n",
    "lst = set([int(input())%42 for _ in range(10)])\n",
    "print(len(lst))"
   ]
  },
  {
   "cell_type": "code",
   "execution_count": 28,
   "metadata": {},
   "outputs": [
    {
     "name": "stdout",
     "output_type": "stream",
     "text": [
      "40.0\n"
     ]
    }
   ],
   "source": [
    "## 1546번\n",
    "import sys\n",
    "import numpy as np\n",
    "\n",
    "n = int(input())\n",
    "scr = list(map(int, input().split()))\n",
    "max_scr = max(scr)\n",
    "new_scr = [scr[i]/max_scr*100 for i in range(n)]\n",
    "print(np.mean(new_scr))"
   ]
  },
  {
   "cell_type": "code",
   "execution_count": 29,
   "metadata": {},
   "outputs": [],
   "source": [
    "## 8958번\n",
    "import sys\n",
    "n = int(input())\n",
    "\n",
    "for _ in range(n):\n",
    "    ox_list = list(sys.stdin.readline())\n",
    "    score = 0  \n",
    "    sum_score = 0  # 새로운 ox리스트를 입력 받으면 점수 합계를 리셋한다.\n",
    "    for ox in ox_list:\n",
    "        if ox == 'O':\n",
    "            score += 1  # 'O'가 연속되면 점수가 1점씩 커진다.\n",
    "            sum_score += score  # sum_score = sum_score + score\n",
    "        else:\n",
    "            score = 0\n",
    "    print(sum_score)"
   ]
  },
  {
   "cell_type": "code",
   "execution_count": 30,
   "metadata": {},
   "outputs": [
    {
     "name": "stdout",
     "output_type": "stream",
     "text": [
      "['OOX', 'XXX', 'XOX']\n"
     ]
    }
   ],
   "source": [
    "## 4344번\n",
    "n = int(input())\n",
    "for i in range(n):\n",
    "    score_list = list(map(int, input().split()))\n",
    "    score_avg = sum(score_list[1:]/score_list[0])\n",
    "    cnt = 0\n",
    "    for score in score_list[1:]:\n",
    "        if score > score_avg:\n",
    "            cnt += 1\n",
    "    avg_rate = cnt/score_list[0] * 100\n",
    "    print(f'{avg_rate:.3f}%')"
   ]
  },
  {
   "cell_type": "code",
   "execution_count": null,
   "metadata": {},
   "outputs": [],
   "source": []
  }
 ],
 "metadata": {
  "kernelspec": {
   "display_name": "Python 3.9.7 ('kdig')",
   "language": "python",
   "name": "python3"
  },
  "language_info": {
   "codemirror_mode": {
    "name": "ipython",
    "version": 3
   },
   "file_extension": ".py",
   "mimetype": "text/x-python",
   "name": "python",
   "nbconvert_exporter": "python",
   "pygments_lexer": "ipython3",
   "version": "3.9.7"
  },
  "orig_nbformat": 4,
  "vscode": {
   "interpreter": {
    "hash": "79235f3c426277640c9689d2572c47b913f40843195eeba115616b689febf123"
   }
  }
 },
 "nbformat": 4,
 "nbformat_minor": 2
}
