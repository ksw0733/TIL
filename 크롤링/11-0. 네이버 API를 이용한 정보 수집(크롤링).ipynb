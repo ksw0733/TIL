{
 "cells": [
  {
   "cell_type": "markdown",
   "id": "ba5c5a2c",
   "metadata": {},
   "source": [
    "### 네이버 API를 이용한 지식인 정보 검색\n",
    "- 네이버 개발자센터에 가입 및 인증서 발급"
   ]
  },
  {
   "cell_type": "code",
   "execution_count": 28,
   "id": "4216375f",
   "metadata": {},
   "outputs": [],
   "source": [
    "import os\n",
    "import sys\n",
    "import json\n",
    "import urllib.request\n",
    "import requests\n",
    "import pandas as pd"
   ]
  },
  {
   "cell_type": "markdown",
   "id": "6cf31424",
   "metadata": {},
   "source": [
    "### urllib.request"
   ]
  },
  {
   "cell_type": "code",
   "execution_count": 9,
   "id": "c65669fd",
   "metadata": {},
   "outputs": [],
   "source": [
    "client_id = \"\"\n",
    "client_secret = \"\"\n",
    "\n",
    "encText = urllib.parse.quote(\"제주도\")\n",
    "url = \"https://openapi.naver.com/v1/search/kin?query=\" + encText # json 결과\n",
    "#url = \"https://openapi.naver.com/v1/search/kin.xml?query=\" + encText # xml 결과\n",
    "    \n",
    "request = urllib.request.Request(url)\n",
    "request.add_header(\"X-Naver-Client-Id\",client_id)\n",
    "request.add_header(\"X-Naver-Client-Secret\",client_secret)\n",
    "response = urllib.request.urlopen(request)\n",
    "\n",
    "rescode = response.getcode()\n",
    "if(rescode==200):\n",
    "    response_body = response.read()\n",
    "else:\n",
    "    print(\"Error Code:\" + rescode)"
   ]
  },
  {
   "cell_type": "code",
   "execution_count": 16,
   "id": "665750eb",
   "metadata": {},
   "outputs": [
    {
     "data": {
      "text/plain": [
       "1145852"
      ]
     },
     "execution_count": 16,
     "metadata": {},
     "output_type": "execute_result"
    }
   ],
   "source": [
    "res_json=json.loads(response_body)\n",
    "res_json[\"total\"]"
   ]
  },
  {
   "cell_type": "markdown",
   "id": "739e139a",
   "metadata": {},
   "source": [
    "### requests"
   ]
  },
  {
   "cell_type": "code",
   "execution_count": 18,
   "id": "3a32a083",
   "metadata": {},
   "outputs": [
    {
     "data": {
      "text/plain": [
       "1145861"
      ]
     },
     "execution_count": 18,
     "metadata": {},
     "output_type": "execute_result"
    }
   ],
   "source": [
    "encText = urllib.parse.quote(\"제주도\")\n",
    "\n",
    "url = \"https://openapi.naver.com/v1/search/kin?query=\" + encText # json 결과\n",
    "#url = \"https://openapi.naver.com/v1/search/kin.xml?query=\" + encText # xml 결과\n",
    "    \n",
    "headers = {\"X-Naver-Client-Id\":\"TWoFiP4PRGZBGB6H_JSm\", \n",
    "           \"X-Naver-Client-Secret\":\"TOXDluSLJh\"}\n",
    "\n",
    "res_json=requests.get(url, headers=headers)\n",
    "\n",
    "if res_json.status_code == 200:\n",
    "    res_content = res_json.json()\n",
    "else:\n",
    "        print(\"Error Code:\" + str(res_json.status_code))\n",
    "        sys.exit(0)\n",
    "        \n",
    "res_content[\"total\"]"
   ]
  },
  {
   "cell_type": "markdown",
   "id": "838d5d1b",
   "metadata": {},
   "source": [
    "### 세부 정보를 위한 url 요청"
   ]
  },
  {
   "cell_type": "code",
   "execution_count": 24,
   "id": "3561e2ea",
   "metadata": {},
   "outputs": [
    {
     "name": "stdout",
     "output_type": "stream",
     "text": [
      "dict_keys(['lastBuildDate', 'total', 'start', 'display', 'items'])\n",
      "dict_keys(['title', 'link', 'description'])\n"
     ]
    }
   ],
   "source": [
    "# 데이터의 key 값 확인\n",
    "print(res_content.keys())\n",
    "print(res_content['items'][0].keys())"
   ]
  },
  {
   "cell_type": "code",
   "execution_count": 25,
   "id": "c29df760",
   "metadata": {},
   "outputs": [
    {
     "name": "stdout",
     "output_type": "stream",
     "text": [
      "<b>제주도</b> 신혼여행 질문입니다.\n",
      "\n",
      "https://kin.naver.com/qna/detail.naver?d1id=9&dirId=90112&docId=413278778&qb=7KCc7KO864+E&enc=utf8&section=kin.qna&rank=1&search_sort=0&spq=0\n",
      "\n",
      "... 신혼여행을 5월1일날 <b>제주도</b>로 가게되었는데 그때의 <b>제주도</b> 날씨는 많이 더울까요? 꽃은 어떤 것들이 많이... 질문하신 [<b>제주도</b> 날씨] 관련 답변 드리도록 하겠습니다. 5월에 <b>제주도</b>로 신혼여행을 떠나시는군요? 3월에서 5월까지... \n"
     ]
    }
   ],
   "source": [
    "# 각각의 데이터 확인\n",
    "print(res_content['items'][0]['title'])\n",
    "print()\n",
    "print(res_content['items'][0]['link'])\n",
    "print()\n",
    "print(res_content['items'][0]['description'])"
   ]
  },
  {
   "cell_type": "code",
   "execution_count": 27,
   "id": "c8b1855a",
   "metadata": {},
   "outputs": [
    {
     "data": {
      "text/plain": [
       "['https://kin.naver.com/qna/detail.naver?d1id=9&dirId=90112&docId=413278778&qb=7KCc7KO864+E&enc=utf8&section=kin.qna&rank=1&search_sort=0&spq=0',\n",
       " 'https://kin.naver.com/qna/detail.naver?d1id=9&dirId=90112&docId=412188026&qb=7KCc7KO864+E&enc=utf8&section=kin.qna&rank=2&search_sort=0&spq=0',\n",
       " 'https://kin.naver.com/qna/detail.naver?d1id=9&dirId=9011401&docId=412670660&qb=7KCc7KO864+E&enc=utf8&section=kin.qna&rank=3&search_sort=0&spq=0',\n",
       " 'https://kin.naver.com/qna/detail.naver?d1id=9&dirId=9020602&docId=413295158&qb=7KCc7KO864+E&enc=utf8&section=kin.qna&rank=4&search_sort=0&spq=0',\n",
       " 'https://kin.naver.com/qna/detail.naver?d1id=12&dirId=1214&docId=411913385&qb=7KCc7KO864+E&enc=utf8&section=kin.qna&rank=5&search_sort=0&spq=0',\n",
       " 'https://kin.naver.com/qna/detail.naver?d1id=12&dirId=121602&docId=410479221&qb=7KCc7KO864+E&enc=utf8&section=kin.qna&rank=6&search_sort=0&spq=0',\n",
       " 'https://kin.naver.com/qna/detail.naver?d1id=8&dirId=81302&docId=414096108&qb=7KCc7KO864+E&enc=utf8&section=kin.qna&rank=7&search_sort=0&spq=0',\n",
       " 'https://kin.naver.com/qna/detail.naver?d1id=12&dirId=1214&docId=412172396&qb=7KCc7KO864+E&enc=utf8&section=kin.qna&rank=8&search_sort=0&spq=0',\n",
       " 'https://kin.naver.com/qna/detail.naver?d1id=12&dirId=1206&docId=411801911&qb=7KCc7KO864+E&enc=utf8&section=kin.qna&rank=9&search_sort=0&spq=0',\n",
       " 'https://kin.naver.com/qna/detail.naver?d1id=9&dirId=90112&docId=414216977&qb=7KCc7KO864+E&enc=utf8&section=kin.qna&rank=10&search_sort=0&spq=0']"
      ]
     },
     "execution_count": 27,
     "metadata": {},
     "output_type": "execute_result"
    }
   ],
   "source": [
    "# url 정보 전체 출력\n",
    "url_lst = []\n",
    "for item in res_content['items']:\n",
    "    url_lst.append(item['link'])\n",
    "url_lst"
   ]
  },
  {
   "cell_type": "markdown",
   "id": "a0e2e220",
   "metadata": {},
   "source": [
    "### 가져온 정보에서 제목/링크/요약를 DataFrame로 저장"
   ]
  },
  {
   "cell_type": "code",
   "execution_count": 31,
   "id": "9fbb1634",
   "metadata": {
    "scrolled": true
   },
   "outputs": [
    {
     "data": {
      "text/html": [
       "<div>\n",
       "<style scoped>\n",
       "    .dataframe tbody tr th:only-of-type {\n",
       "        vertical-align: middle;\n",
       "    }\n",
       "\n",
       "    .dataframe tbody tr th {\n",
       "        vertical-align: top;\n",
       "    }\n",
       "\n",
       "    .dataframe thead th {\n",
       "        text-align: right;\n",
       "    }\n",
       "</style>\n",
       "<table border=\"1\" class=\"dataframe\">\n",
       "  <thead>\n",
       "    <tr style=\"text-align: right;\">\n",
       "      <th></th>\n",
       "      <th>title</th>\n",
       "      <th>link</th>\n",
       "      <th>description</th>\n",
       "    </tr>\n",
       "  </thead>\n",
       "  <tbody>\n",
       "    <tr>\n",
       "      <th>0</th>\n",
       "      <td>&lt;b&gt;제주도&lt;/b&gt; 신혼여행 질문입니다.</td>\n",
       "      <td>https://kin.naver.com/qna/detail.naver?d1id=9&amp;...</td>\n",
       "      <td>... 신혼여행을 5월1일날 &lt;b&gt;제주도&lt;/b&gt;로 가게되었는데 그때의 &lt;b&gt;제주도&lt;...</td>\n",
       "    </tr>\n",
       "    <tr>\n",
       "      <th>1</th>\n",
       "      <td>&lt;b&gt;제주도&lt;/b&gt; 3박4일 여행코스</td>\n",
       "      <td>https://kin.naver.com/qna/detail.naver?d1id=9&amp;...</td>\n",
       "      <td>2월 26일 3박4일로 여자친구랑 &lt;b&gt;제주도&lt;/b&gt; 여행을 가려고 하는데 &lt;b&gt;제...</td>\n",
       "    </tr>\n",
       "  </tbody>\n",
       "</table>\n",
       "</div>"
      ],
      "text/plain": [
       "                    title                                               link  \\\n",
       "0  <b>제주도</b> 신혼여행 질문입니다.  https://kin.naver.com/qna/detail.naver?d1id=9&...   \n",
       "1    <b>제주도</b> 3박4일 여행코스  https://kin.naver.com/qna/detail.naver?d1id=9&...   \n",
       "\n",
       "                                         description  \n",
       "0  ... 신혼여행을 5월1일날 <b>제주도</b>로 가게되었는데 그때의 <b>제주도<...  \n",
       "1  2월 26일 3박4일로 여자친구랑 <b>제주도</b> 여행을 가려고 하는데 <b>제...  "
      ]
     },
     "execution_count": 31,
     "metadata": {},
     "output_type": "execute_result"
    }
   ],
   "source": [
    "df=pd.DataFrame(res_content['items'])\n",
    "df.head(2)"
   ]
  },
  {
   "cell_type": "markdown",
   "id": "98a576fd",
   "metadata": {},
   "source": [
    "## 네이버 API에서 20개 정보 가져와 질문정보/답변정보 저장하기\n",
    "- txt 형식으로 저장(키워드_질문.txt, 키워드_답변.txt)"
   ]
  },
  {
   "cell_type": "code",
   "execution_count": 59,
   "id": "92df42eb",
   "metadata": {},
   "outputs": [],
   "source": [
    "import os\n",
    "import sys\n",
    "import json\n",
    "import urllib.request\n",
    "import requests\n",
    "import pandas as pd\n",
    "from bs4 import BeautifulSoup as bs\n",
    "import re"
   ]
  },
  {
   "cell_type": "code",
   "execution_count": 64,
   "id": "da22af0c",
   "metadata": {},
   "outputs": [],
   "source": [
    "# 네이버 API 로그인 후 link 정보 가져와 돌려주기\n",
    "def get_Nav_client(encText, sPage):\n",
    "    url = \"https://openapi.naver.com/v1/search/kin?query=\" + encText # json 결과\n",
    "    url = url + \"&start=\" + str(sPage) + \"&display=20\"\n",
    "\n",
    "    headers = {\"X-Naver-Client-Id\":\"TWoFiP4PRGZBGB6H_JSm\", \n",
    "               \"X-Naver-Client-Secret\":\"TOXDluSLJh\"}\n",
    "\n",
    "    res_content=requests.get(url, headers=headers)\n",
    "\n",
    "    if res_content.status_code == 200:\n",
    "        res_json = res_content.json()\n",
    "    else:\n",
    "        print(\"Error Code:\" + str(res_json.status_code))\n",
    "        sys.exit(0)\n",
    "    \n",
    "    df=pd.DataFrame(res_json['items'])\n",
    "    \n",
    "    return list(df['link'])"
   ]
  },
  {
   "cell_type": "code",
   "execution_count": 68,
   "id": "a4a45744",
   "metadata": {},
   "outputs": [],
   "source": [
    "#link를 이용해 세부 내용 가져와 파일에 기록하기\n",
    "def get_write(url):\n",
    "    kin_html = requests.get(url)\n",
    "\n",
    "    fq = open('c:/pydata/제주도_질문.txt', \"a\")\n",
    "    fa = open('c:/pydata/제주도_답변.txt', \"a\")\n",
    "\n",
    "    if kin_html.status_code != 200 :\n",
    "        print(\"Error Code:\" + str(res_json.status_code))\n",
    "        sys.exit(\"데이터가 없어 강제 종료합니다.\")\n",
    "\n",
    "    kin_soup = bs(kin_html.text, \"html.parser\")\n",
    "\n",
    "    # 제목 가져오기\n",
    "    try:\n",
    "        kin_tit = kin_soup.find(\"div\", class_=\"title\").get_text().replace(\"\\n\", \"\").replace(\"\\t\", \"\")\n",
    "        fq.write(kin_tit+\"\\n\")\n",
    "    except:\n",
    "        fq.write(\"\\n\")\n",
    "\n",
    "    kin_body=kin_soup.find('div', class_=\"c-heading__content\")\n",
    "\n",
    "    # 질문 내용\n",
    "    try:\n",
    "        kin_body=kin_soup.find('div', class_=\"c-heading__content\").text.replace(\"\\n\", \"\").replace(\"\\t\", \"\")\n",
    "        fq.write(kin_body)\n",
    "    except:\n",
    "        fq.write(\"\\n\")\n",
    "\n",
    "    # 답변 내용\n",
    "\n",
    "    for kin_ans in kin_soup.find_all('div', class_=\"se-component se-text se-l-default\"):\n",
    "        fa.write(re.sub(\"[^가-힣 ]\",\"\",kin_ans.text))\n",
    "    fq.write(\"\\n\")\n",
    "\n",
    "    fq.close()\n",
    "    fa.close()"
   ]
  },
  {
   "cell_type": "code",
   "execution_count": 71,
   "id": "e534fa67",
   "metadata": {},
   "outputs": [
    {
     "name": "stdout",
     "output_type": "stream",
     "text": [
      "=== End ===\n"
     ]
    }
   ],
   "source": [
    "encText = urllib.parse.quote(\"제주도\")\n",
    "reg_link=get_Nav_client(encText, 1)\n",
    "\n",
    "# 기록할 빈 파일 생성\n",
    "fq = open('c:/pydata/제주도_질문.txt', \"w\")\n",
    "fa = open('c:/pydata/제주도_답변.txt', \"w\")\n",
    "fq.close()\n",
    "fa.close()\n",
    "\n",
    "# link를 이용해 세부 내용 가져와 파일에 기록하기\n",
    "for link in reg_link:\n",
    "    get_write(link)\n",
    "\n",
    "print(\"=== End ===\")"
   ]
  },
  {
   "cell_type": "markdown",
   "id": "5de83856",
   "metadata": {},
   "source": [
    "### [미션1]  데이터 1000개를 가져와 텍스트 파일로 저장하기\n",
    "- 질문/답변으로 나누어 저장하기\n",
    "- 한번에 가져올수 있는 데이터는 100개"
   ]
  },
  {
   "cell_type": "code",
   "execution_count": null,
   "id": "452e46a1",
   "metadata": {},
   "outputs": [],
   "source": []
  },
  {
   "cell_type": "markdown",
   "id": "b08277c4",
   "metadata": {},
   "source": [
    "### [미션2] 데이터 1000개를 가져와 DataFrame으로 저장하기\n",
    "- 제목/질문내용/답변내용으로 구분해 저장\n",
    "- 답변의 1개의 질문에 대하여 전체 답변을 묶어서 저장(개인별로는 \"\\n\"로 구분해 하나의 index에 저장)\n",
    "- df.loc[0] => 1개 제목/ 1개 질문 / 질문에 대한 답변 전체"
   ]
  },
  {
   "cell_type": "code",
   "execution_count": null,
   "id": "fb8f862f",
   "metadata": {},
   "outputs": [],
   "source": []
  }
 ],
 "metadata": {
  "kernelspec": {
   "display_name": "Python 3 (ipykernel)",
   "language": "python",
   "name": "python3"
  },
  "language_info": {
   "codemirror_mode": {
    "name": "ipython",
    "version": 3
   },
   "file_extension": ".py",
   "mimetype": "text/x-python",
   "name": "python",
   "nbconvert_exporter": "python",
   "pygments_lexer": "ipython3",
   "version": "3.9.7"
  }
 },
 "nbformat": 4,
 "nbformat_minor": 5
}
