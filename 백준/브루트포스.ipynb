{
 "cells": [
  {
   "cell_type": "code",
   "execution_count": 2,
   "metadata": {},
   "outputs": [
    {
     "name": "stdout",
     "output_type": "stream",
     "text": [
      "497\n"
     ]
    }
   ],
   "source": [
    "## 2798번\n",
    "import sys\n",
    "# input = sys.stdin.readline\n",
    "\n",
    "n, m = map(int, input().split())\n",
    "num_list = list(map(int, input().split()))\n",
    "res = 0\n",
    "\n",
    "for i in range(n):\n",
    "    for j in range(i+1, n):\n",
    "        for k in range(j+1, n):\n",
    "            if num_list[i] + num_list[j] + num_list[k] > m:\n",
    "                continue\n",
    "            else:\n",
    "                res = max(res, num_list[i] + num_list[j] + num_list[k])\n",
    "\n",
    "print(res)"
   ]
  },
  {
   "cell_type": "code",
   "execution_count": 1,
   "metadata": {},
   "outputs": [
    {
     "name": "stdout",
     "output_type": "stream",
     "text": [
      "198\n"
     ]
    }
   ],
   "source": [
    "## 2231번\n",
    "import sys\n",
    "# input = sys.stdin.readline\n",
    "\n",
    "n = int(input())\n",
    "result = 0\n",
    "\n",
    "for i in range(1, n+1):\n",
    "    tmp = i + sum(map(int, str(i)))\n",
    "    \n",
    "    if tmp == n:\n",
    "        result = i\n",
    "        break\n",
    "\n",
    "print(result)"
   ]
  },
  {
   "cell_type": "code",
   "execution_count": 21,
   "metadata": {},
   "outputs": [
    {
     "name": "stdout",
     "output_type": "stream",
     "text": [
      "2 2 1 2 5 "
     ]
    }
   ],
   "source": [
    "## 7568번\n",
    "import sys\n",
    "# input = sys.stdin.readline\n",
    "\n",
    "n = int(input())\n",
    "people_list = []\n",
    "res = []\n",
    "for _ in range(n):\n",
    "    w, h = map(int, input().split())\n",
    "    people_list.append((w, h))\n",
    "\n",
    "for i in range(n):\n",
    "    cnt = 0\n",
    "    for j in range(n):\n",
    "        if people_list[i][0] < people_list[j][0] and people_list[i][1] < people_list[j][1]:\n",
    "            cnt += 1\n",
    "    res.append(cnt + 1)\n",
    "\n",
    "for i in res:\n",
    "    print(i, end=' ')"
   ]
  },
  {
   "cell_type": "code",
   "execution_count": null,
   "metadata": {},
   "outputs": [],
   "source": [
    "## 1018번\n",
    "import sys\n",
    "# input = sys.stdin.readline\n",
    "\n",
    "n, m = map(int, input().split())\n",
    "board = []\n",
    "result = []\n",
    " \n",
    "for _ in range(n):\n",
    "    board.append(input())\n",
    " \n",
    "for i in range(n-7):\n",
    "    for j in range(m-7):\n",
    "        draw1 = 0     # 검은색이 아닐때 칠하는 경우\n",
    "        draw2 = 0     # 흰색이 아닐때 칠하는 경우\n",
    " \n",
    "        for a in range(i, i+8):\n",
    "            for b in range(j, j+8):\n",
    "                if (a + b) % 2 == 0:\n",
    "                    if board[a][b] != 'B':\n",
    "                        draw1 += 1\n",
    "                    if board[a][b] != 'W':\n",
    "                        draw2 += 1\n",
    "                else:\n",
    "                    if board[a][b] != 'W':\n",
    "                        draw1 += 1\n",
    "                    if board[a][b] != 'B':\n",
    "                        draw2 += 1\n",
    " \n",
    "        result.append(draw1)\n",
    "        result.append(draw2)\n",
    " \n",
    "print(min(result))"
   ]
  },
  {
   "cell_type": "code",
   "execution_count": 1,
   "metadata": {},
   "outputs": [
    {
     "name": "stdout",
     "output_type": "stream",
     "text": [
      "4666\n"
     ]
    }
   ],
   "source": [
    "## 1436번\n",
    "import sys\n",
    "# input = sys.stdin.readline\n",
    "\n",
    "n = int(input())\n",
    "nth = 666\n",
    "count = 0\n",
    "\n",
    "while True:\n",
    "    if '666' in str(nth):\n",
    "        count += 1\n",
    "    if count == n:\n",
    "        print(nth)\n",
    "        break\n",
    "    \n",
    "    nth+=1"
   ]
  },
  {
   "cell_type": "code",
   "execution_count": null,
   "metadata": {},
   "outputs": [],
   "source": []
  }
 ],
 "metadata": {
  "kernelspec": {
   "display_name": "Python 3.9.7 ('kdig')",
   "language": "python",
   "name": "python3"
  },
  "language_info": {
   "codemirror_mode": {
    "name": "ipython",
    "version": 3
   },
   "file_extension": ".py",
   "mimetype": "text/x-python",
   "name": "python",
   "nbconvert_exporter": "python",
   "pygments_lexer": "ipython3",
   "version": "3.9.7"
  },
  "orig_nbformat": 4,
  "vscode": {
   "interpreter": {
    "hash": "79235f3c426277640c9689d2572c47b913f40843195eeba115616b689febf123"
   }
  }
 },
 "nbformat": 4,
 "nbformat_minor": 2
}
