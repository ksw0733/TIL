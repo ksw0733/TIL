{
 "cells": [
  {
   "cell_type": "code",
   "execution_count": 4,
   "metadata": {},
   "outputs": [
    {
     "name": "stdout",
     "output_type": "stream",
     "text": [
      "-1\n"
     ]
    }
   ],
   "source": [
    "## 1712번\n",
    "fixed, cost, price = map(int, input().split())\n",
    "revenue = price - cost\n",
    "\n",
    "if revenue <= 0:\n",
    "    print(-1)\n",
    "else:\n",
    "    day = fixed // revenue + 1\n",
    "    print(day)"
   ]
  },
  {
   "cell_type": "code",
   "execution_count": 7,
   "metadata": {},
   "outputs": [
    {
     "name": "stdout",
     "output_type": "stream",
     "text": [
      "3\n"
     ]
    }
   ],
   "source": [
    "## 2292번\n",
    "n = int(input())\n",
    "m = 1\n",
    "cnt = 1\n",
    "while n > m:\n",
    "    m += cnt*6\n",
    "    cnt += 1\n",
    "print(cnt)"
   ]
  },
  {
   "cell_type": "code",
   "execution_count": 8,
   "metadata": {},
   "outputs": [
    {
     "name": "stdout",
     "output_type": "stream",
     "text": [
      "3/3\n"
     ]
    }
   ],
   "source": [
    "## 1193번\n",
    "num = int(input())\n",
    "\n",
    "line = 0\n",
    "max_num = 0\n",
    "while num > max_num:\n",
    "    line += 1   # 대각선 라인\n",
    "    max_num += line   # 대각선 라인중에서 가장 큰 숫자(마지막번째 숫자)\n",
    "\n",
    "gap = max_num - num\n",
    "if line % 2 == 0:\n",
    "    denominator = line - gap\n",
    "    numerator = gap + 1\n",
    "else:\n",
    "    denominator = gap + 1\n",
    "    numerator = line - gap\n",
    "print(f'{denominator}/{numerator}')"
   ]
  },
  {
   "cell_type": "code",
   "execution_count": 36,
   "metadata": {},
   "outputs": [
    {
     "name": "stdout",
     "output_type": "stream",
     "text": [
      "2\n"
     ]
    }
   ],
   "source": [
    "## 2869번\n",
    "a, b, v = map(int, input().split())\n",
    "\n",
    "print((v - b)//(a - b) + 1 if (v-b)%(a-b) != 0 else (v - b)//(a - b))"
   ]
  },
  {
   "cell_type": "code",
   "execution_count": 6,
   "metadata": {},
   "outputs": [
    {
     "name": "stdout",
     "output_type": "stream",
     "text": [
      "402\n",
      "1203\n"
     ]
    }
   ],
   "source": [
    "## 10250번\n",
    "case_num = int(input())\n",
    "for _ in range(case_num):\n",
    "    h, w, n = map(int, input().split())\n",
    "    y = n % h\n",
    "    x = n // h + 1\n",
    "    if n % h == 0:\n",
    "        x = n // h\n",
    "        y = h\n",
    "    room = y*100+x\n",
    "    print(room)"
   ]
  },
  {
   "cell_type": "code",
   "execution_count": 2,
   "metadata": {},
   "outputs": [
    {
     "name": "stdout",
     "output_type": "stream",
     "text": [
      "6\n",
      "10\n",
      "35\n"
     ]
    }
   ],
   "source": [
    "## 2775번\n",
    "case_num = int(input())\n",
    "\n",
    "for _ in range(case_num):\n",
    "    floor = int(input())\n",
    "    num = int(input())\n",
    "    f0 = [x for x in range(1, num+1)]\n",
    "    for k in range(floor):\n",
    "        for i in range(1, num):\n",
    "            f0[i] += f0[i-1]\n",
    "    print(f0[-1])\n",
    "    "
   ]
  },
  {
   "cell_type": "code",
   "execution_count": null,
   "metadata": {},
   "outputs": [],
   "source": [
    "## 2839번\n",
    "n = int(input())\n",
    "\n",
    "arr = [5001] * (n+5)   # arr[x]는 x kg 설탕을 옮기는데 필요한 봉지 갯수 n+5는 입력받은 n이 5보다 작으면 index error 가 나기때문에 그걸 방지하기 위함\n",
    "arr[3] = arr[5] = 1    # 3kg 과 5kg 은 각각 봉지가 있어서 1개면 충분 그리고 초기값 지정\n",
    "\n",
    "for i in range(6, n+1):\n",
    "    arr[i] = min(arr[i-3], arr[i-5]) + 1   # i kg이 있을때 i 보다 3kg 적고 5kg 적은게 이미 성립되면 그거에 1개만 추가하면 되니까 둘중 최소값중에 1만 더하는 식으로\n",
    "    \n",
    "print(arr[n] if arr[n] < 5001 else -1)"
   ]
  },
  {
   "cell_type": "code",
   "execution_count": 2,
   "metadata": {},
   "outputs": [
    {
     "name": "stdout",
     "output_type": "stream",
     "text": [
      "18446744073709551615\n"
     ]
    }
   ],
   "source": [
    "## 10757번\n",
    "a, b = map(int, input().split())\n",
    "print(a+b)"
   ]
  },
  {
   "cell_type": "code",
   "execution_count": null,
   "metadata": {},
   "outputs": [],
   "source": []
  }
 ],
 "metadata": {
  "kernelspec": {
   "display_name": "Python 3.9.7 ('kdig')",
   "language": "python",
   "name": "python3"
  },
  "language_info": {
   "codemirror_mode": {
    "name": "ipython",
    "version": 3
   },
   "file_extension": ".py",
   "mimetype": "text/x-python",
   "name": "python",
   "nbconvert_exporter": "python",
   "pygments_lexer": "ipython3",
   "version": "3.9.7"
  },
  "orig_nbformat": 4,
  "vscode": {
   "interpreter": {
    "hash": "79235f3c426277640c9689d2572c47b913f40843195eeba115616b689febf123"
   }
  }
 },
 "nbformat": 4,
 "nbformat_minor": 2
}
