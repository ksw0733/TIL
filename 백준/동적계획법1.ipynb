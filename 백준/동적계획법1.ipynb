{
 "cells": [
  {
   "cell_type": "code",
   "execution_count": 7,
   "metadata": {},
   "outputs": [
    {
     "name": "stdout",
     "output_type": "stream",
     "text": [
      "1 1\n"
     ]
    }
   ],
   "source": [
    "## 24416번\n",
    "\n",
    "import sys\n",
    "# input = sys.stdin.readline\n",
    "\n",
    "n = int(input())\n",
    "fib = [0]*45\n",
    "fib[1], fib[2] = 1, 1\n",
    "cnt_fibonacci = 0\n",
    "cnt_fibo = 0\n",
    "\n",
    "def fibonacci(n):\n",
    "    global cnt_fibonacci\n",
    "    for i in range(3, n+1):\n",
    "        cnt_fibonacci += 1\n",
    "        fib[i] = fib[i-1] + fib[i-2]\n",
    "    \n",
    "    return fib[n]\n",
    "    \n",
    "\n",
    "def fibo(n):\n",
    "    global cnt_fibo\n",
    "    cnt_fibo += 1\n",
    "    if n == 1 or n == 2:\n",
    "        cnt_fibo -= 1\n",
    "        return 1\n",
    "    else:\n",
    "        return fibo(n-1) + fibo(n-2)\n",
    "\n",
    "fibonacci(n)\n",
    "fibo(n)\n",
    "print(cnt_fibo+1, cnt_fibonacci)"
   ]
  },
  {
   "cell_type": "code",
   "execution_count": 2,
   "metadata": {},
   "outputs": [
    {
     "name": "stdout",
     "output_type": "stream",
     "text": [
      "func_w(1, 1, 1) = 2\n",
      "func_w(2, 2, 2) = 4\n",
      "func_w(10, 4, 6) = 523\n",
      "func_w(50, 50, 50) = 1048576\n",
      "func_w(-1, 7, 18) = 1\n"
     ]
    }
   ],
   "source": [
    "## 9184번\n",
    "\n",
    "import sys\n",
    "# input = sys.stdin.readline\n",
    "\n",
    "def func_w(a, b, c):\n",
    "    if a <= 0 or b <= 0 or c <= 0:\n",
    "        return 1\n",
    "\n",
    "    if a > 20 or b > 20 or c > 20:\n",
    "        return func_w(20, 20, 20)\n",
    "    if dp[a][b][c]:\n",
    "        return dp[a][b][c]\n",
    "    if a < b < c:\n",
    "        dp[a][b][c] = func_w(a, b, c-1) + func_w(a, b-1, c-1) - func_w(a, b-1, c)\n",
    "        return dp[a][b][c]\n",
    "    dp[a][b][c] = func_w(a-1, b, c) + func_w(a-1, b-1, c) + func_w(a-1, b, c-1) - func_w(a-1, b-1, c-1)\n",
    "    return dp[a][b][c]\n",
    "\n",
    "dp = [[[0]*21 for _ in range(21)] for _ in range(21)]\n",
    "\n",
    "while True:\n",
    "    a, b, c = map(int, input().split())\n",
    "    if a == -1 and b == -1 and c == -1:\n",
    "        break\n",
    "    print(f'w({a}, {b}, {c}) = {func_w(a, b, c)}')"
   ]
  },
  {
   "cell_type": "code",
   "execution_count": null,
   "metadata": {},
   "outputs": [],
   "source": [
    "## 1904번\n",
    "import sys\n",
    "# input = sys.stdin.readline\n",
    "\n",
    "n = int(input())\n",
    "dp = [0] * 1000001\n",
    "dp[1] = 1\n",
    "dp[2] = 2\n",
    "for i in range(3, n+1):\n",
    "    dp[i] = (dp[i-1] + dp[i-2])%15746\n",
    "print(dp[n])"
   ]
  },
  {
   "cell_type": "code",
   "execution_count": 4,
   "metadata": {},
   "outputs": [
    {
     "name": "stdout",
     "output_type": "stream",
     "text": [
      "3\n",
      "7\n",
      "16\n"
     ]
    }
   ],
   "source": [
    "## 9461번\n",
    "import sys\n",
    "# input = sys.stdin.readline\n",
    "\n",
    "dp = [0]*101\n",
    "dp[1], dp[2], dp[3] = 1, 1, 1\n",
    "for _ in range(int(input())):\n",
    "    n = int(input())\n",
    "    for i in range(4, n+1):\n",
    "        dp[i] = dp[i-2] + dp[i-3]\n",
    "    print(dp[n])"
   ]
  },
  {
   "cell_type": "code",
   "execution_count": null,
   "metadata": {},
   "outputs": [],
   "source": [
    "## 1912번\n",
    "import sys\n",
    "# input = sys.stdin.readline\n",
    "\n",
    "n = int(input())\n",
    "m = list(map(int, input().split(' ')))\n",
    " \n",
    "for i in range(1, n):\n",
    "    m[i] = max(m[i], m[i] + m[i-1])\n",
    "    \n",
    "print(max(m))"
   ]
  },
  {
   "cell_type": "code",
   "execution_count": 4,
   "metadata": {},
   "outputs": [
    {
     "name": "stdout",
     "output_type": "stream",
     "text": [
      "102\n"
     ]
    }
   ],
   "source": [
    "## 1149번\n",
    "import sys\n",
    "# input = sys.stdin.readline\n",
    "\n",
    "n = int(input())\n",
    "RGB = []\n",
    "for i in range(n):\n",
    "    RGB.append(list(map(int, input().split())))\n",
    "    \n",
    "for i in range(1, n):\n",
    "    RGB[i][0] = min(RGB[i-1][1], RGB[i-1][2]) + RGB[i][0]\n",
    "    RGB[i][1] = min(RGB[i-1][0], RGB[i-1][2]) + RGB[i][1]\n",
    "    RGB[i][2] = min(RGB[i-1][0], RGB[i-1][1]) + RGB[i][2]\n",
    "    \n",
    "print(min(RGB[n-1]))\n",
    "    "
   ]
  },
  {
   "cell_type": "code",
   "execution_count": 2,
   "metadata": {},
   "outputs": [
    {
     "name": "stdout",
     "output_type": "stream",
     "text": [
      "30\n"
     ]
    }
   ],
   "source": [
    "## 1932번\n",
    "import sys\n",
    "# input = sys.stdin.readline\n",
    " \n",
    "n = int(input())\n",
    "\n",
    "tri_list = []\n",
    "\n",
    "for _ in range(n):\n",
    "    tri_list.append(list(map(int, input().split())))\n",
    "\n",
    "for i in range(1, n):\n",
    "    for j in range(len(tri_list[i])):\n",
    "        if j == 0:\n",
    "            tri_list[i][j] = tri_list[i][j] + tri_list[i-1][j]\n",
    "        elif j == len(tri_list[i])-1:\n",
    "            tri_list[i][j] = tri_list[i][j] + tri_list[i-1][j-1]\n",
    "        else:\n",
    "            tri_list[i][j] = max(tri_list[i-1][j-1], tri_list[i-1][j]) + tri_list[i][j]\n",
    "            \n",
    "print(max(tri_list[n-1]))\n"
   ]
  },
  {
   "cell_type": "code",
   "execution_count": 4,
   "metadata": {},
   "outputs": [
    {
     "name": "stdout",
     "output_type": "stream",
     "text": [
      "75\n"
     ]
    }
   ],
   "source": [
    "## 2579번\n",
    "import sys\n",
    "# input = sys.stdin.readline\n",
    "\n",
    "n = int(input())\n",
    "stair = []\n",
    "\n",
    "for _ in range(n):\n",
    "    stair.append(int(input()))\n",
    "if n > 2:    \n",
    "    dp = [0] * 500\n",
    "    dp[0] = stair[0]\n",
    "    dp[1] = stair[0] + stair[1]\n",
    "    dp[2] = max(stair[0] + stair[2], stair[1] + stair[2])\n",
    "\n",
    "    for i in range(3, n):\n",
    "        dp[i] = max(dp[i-3] + stair[i-1] + stair[i], dp[i-2] + stair[i])\n",
    "        \n",
    "    print(dp[n-1])\n",
    "    \n",
    "else:\n",
    "    if n == 1:\n",
    "        print(stair[0])\n",
    "    if n == 2:\n",
    "        print(stair[0] + stair[1])\n"
   ]
  },
  {
   "cell_type": "code",
   "execution_count": 18,
   "metadata": {},
   "outputs": [
    {
     "name": "stdout",
     "output_type": "stream",
     "text": [
      "3\n"
     ]
    }
   ],
   "source": [
    "## 1463번\n",
    "import sys\n",
    "# input = sys.stdin.readline\n",
    "\n",
    "N = int(input())\n",
    "\n",
    "dp = [0]*(N+1)\n",
    "\n",
    "for i in range(2, N+1):\n",
    "    \n",
    "    dp[i] = dp[i-1] + 1\n",
    "    if i % 3 == 0:\n",
    "        dp[i] = min(dp[i], dp[i//3] + 1)\n",
    "\n",
    "    if i % 2 == 0:\n",
    "        dp[i] = min(dp[i], dp[i//2] + 1)\n",
    "\n",
    "print(dp[N])"
   ]
  },
  {
   "cell_type": "code",
   "execution_count": 6,
   "metadata": {},
   "outputs": [
    {
     "name": "stdout",
     "output_type": "stream",
     "text": [
      "17\n"
     ]
    }
   ],
   "source": [
    "## 10844번\n",
    "import sys\n",
    "# input = sys.stdin.readline\n",
    "\n",
    "n = int(input())\n",
    "\n",
    "dp = [[0] * 10 for _ in range(n)]\n",
    "\n",
    "dp[0] = [0, 1, 1, 1, 1, 1, 1, 1, 1, 1]\n",
    "\n",
    "for i in range(1, n):\n",
    "    dp[i][0] = dp[i-1][1]\n",
    "    dp[i][9] = dp[i-1][8]\n",
    "    \n",
    "    for j in range(1, 9):\n",
    "        dp[i][j] = dp[i-1][j-1] + dp[i-1][j+1]\n",
    "\n",
    "print(sum(dp[n-1]) % 1000000000)\n"
   ]
  },
  {
   "cell_type": "code",
   "execution_count": 14,
   "metadata": {},
   "outputs": [
    {
     "name": "stdout",
     "output_type": "stream",
     "text": [
      "22\n"
     ]
    }
   ],
   "source": [
    "## 2156번\n",
    "import sys\n",
    "# input = sys.stdin.readline\n",
    "\n",
    "n = int(input())\n",
    "wine = []\n",
    "dp = [0] * n\n",
    "\n",
    "for _ in range(n):\n",
    "    wine.append(int(input()))\n",
    "\n",
    "dp[0] = wine[0]\n",
    "\n",
    "if n > 1:\n",
    "    dp[1] = wine[0] + wine[1]\n",
    "    \n",
    "if n > 2:\n",
    "    dp[2] = max(wine[2] + wine[0], wine[2] + wine[1], dp[1])\n",
    "\n",
    "for i in range(3, n):\n",
    "    dp[i] = max(wine[i] + dp[i-2], wine[i] + wine[i-1] + dp[i-3], dp[i-1])\n",
    "    \n",
    "print(max(dp))"
   ]
  },
  {
   "cell_type": "code",
   "execution_count": 18,
   "metadata": {},
   "outputs": [
    {
     "name": "stdout",
     "output_type": "stream",
     "text": [
      "4\n"
     ]
    }
   ],
   "source": [
    "## 11053번\n",
    "import sys\n",
    "# input = sys.stdin.readline\n",
    "\n",
    "n = int(input())\n",
    "num = list(map(int, input().split()))\n",
    "dp = [0 for _ in range(n)]\n",
    "for i in range(n):\n",
    "    for j in range(i):\n",
    "        if num[i] > num[j] and dp[i] < dp[j]:\n",
    "            dp[i] = dp[j]\n",
    "    dp[i] += 1\n",
    "\n",
    "print(max(dp))\n",
    "        "
   ]
  },
  {
   "cell_type": "code",
   "execution_count": null,
   "metadata": {},
   "outputs": [],
   "source": [
    "## 11054번\n"
   ]
  }
 ],
 "metadata": {
  "kernelspec": {
   "display_name": "Python 3.9.7 ('kdig')",
   "language": "python",
   "name": "python3"
  },
  "language_info": {
   "codemirror_mode": {
    "name": "ipython",
    "version": 3
   },
   "file_extension": ".py",
   "mimetype": "text/x-python",
   "name": "python",
   "nbconvert_exporter": "python",
   "pygments_lexer": "ipython3",
   "version": "3.9.7"
  },
  "orig_nbformat": 4,
  "vscode": {
   "interpreter": {
    "hash": "79235f3c426277640c9689d2572c47b913f40843195eeba115616b689febf123"
   }
  }
 },
 "nbformat": 4,
 "nbformat_minor": 2
}
