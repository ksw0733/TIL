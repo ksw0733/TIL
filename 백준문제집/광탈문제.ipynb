{
 "cells": [
  {
   "cell_type": "code",
   "execution_count": null,
   "metadata": {},
   "outputs": [],
   "source": [
    "## 15591번\n",
    "from collections import deque\n",
    "import sys\n",
    "# input = sys.stdin.readline\n",
    "\n",
    "n, q = map(int, input().split())\n",
    "graph = [[] for _ in range(n+1)]\n",
    "\n",
    "for _ in range(n-1):\n",
    "    a, b, usado = map(int, input().split())\n",
    "    graph[a].append((b, usado))\n",
    "    graph[b].append((a, usado))\n",
    "\n",
    "for _ in range(q):\n",
    "    k, v = map(int, input().split())\n",
    "    visited = [False] * (n + 1)\n",
    "    visited[v] = True\n",
    "    result = 0\n",
    "    q = deque([(v, float('inf'))])\n",
    "    \n",
    "    while q:\n",
    "        v, usado = q.pop()\n",
    "        for next_v, next_usado in graph[v]:\n",
    "            next_usado = min(usado, next_usado)\n",
    "            if next_usado >= k and not visited[next_v]:\n",
    "                result += 1\n",
    "                q.append((next_v, next_usado))\n",
    "                visited[next_v] = True\n",
    "\n",
    "    print(result)"
   ]
  },
  {
   "cell_type": "code",
   "execution_count": null,
   "metadata": {},
   "outputs": [],
   "source": [
    "## 17780번\n"
   ]
  }
 ],
 "metadata": {
  "language_info": {
   "name": "python"
  },
  "orig_nbformat": 4
 },
 "nbformat": 4,
 "nbformat_minor": 2
}
