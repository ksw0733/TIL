{
 "cells": [
  {
   "cell_type": "code",
   "execution_count": 18,
   "id": "59f0e9d6",
   "metadata": {},
   "outputs": [],
   "source": [
    "from selenium.webdriver import Chrome\n",
    "from selenium.webdriver.common.by import By\n",
    "from bs4 import BeautifulSoup as bs \n",
    "import pandas as pd\n",
    "import re\n",
    "import time\n",
    "import sys"
   ]
  },
  {
   "cell_type": "code",
   "execution_count": 5,
   "id": "077d7ec4",
   "metadata": {},
   "outputs": [],
   "source": [
    "# 화면을 아래쪽으로 스크롤\n",
    "def pang_Down():\n",
    "    driver.execute_script('window.scrollTo(0, document.body.scrollHeight)')"
   ]
  },
  {
   "cell_type": "code",
   "execution_count": 24,
   "id": "8cd85b20",
   "metadata": {},
   "outputs": [
    {
     "name": "stdout",
     "output_type": "stream",
     "text": [
      "검색어 입력:제주도맛집\n",
      "스크롤 다운 건수:5\n"
     ]
    },
    {
     "name": "stderr",
     "output_type": "stream",
     "text": [
      "C:\\Users\\user01\\AppData\\Local\\Temp/ipykernel_16540/719783206.py:4: DeprecationWarning: executable_path has been deprecated, please pass in a Service object\n",
      "  driver=Chrome(\"./data/chromedriver.exe\")\n"
     ]
    },
    {
     "name": "stdout",
     "output_type": "stream",
     "text": [
      "로그인 되었습니까?[y/n]:y\n"
     ]
    }
   ],
   "source": [
    "keyword = input(\"검색어 입력:\")\n",
    "cntdown = int(input(\"스크롤 다운 건수:\"))\n",
    "\n",
    "driver=Chrome(\"./data/chromedriver.exe\")\n",
    "\n",
    "# 인스타그램 접속\n",
    "driver.get(\"https://www.instagram.com/\")\n",
    "time.sleep(2)\n",
    "\n",
    "# 인스타그램 로그인\n",
    "userID=\"\"\n",
    "userPW=\"\"\n",
    "\n",
    "# 아이디 입력\n",
    "input_id=driver.find_element(By.CSS_SELECTOR, \"#loginForm > div > div:nth-child(1) > div > label > input\")\n",
    "input_id.send_keys(userID)\n",
    "\n",
    "# 패스워드 입력\n",
    "input_pw=driver.find_element(By.CSS_SELECTOR, \"#loginForm > div > div:nth-child(2) > div > label > input\")\n",
    "input_pw.send_keys(userPW)\n",
    "\n",
    "# 로그인 정보 전송 / 로그인 버튼을 클릭해도 됨\n",
    "input_pw.submit()  \n",
    "time.sleep(3)\n",
    "\n",
    "state = input(\"로그인 되었습니까?[y/n]:\")\n",
    "if state == \"n\" or state == \"ㅜ\" or state == \"N\":\n",
    "    print(\"작업을 종료합니다.\")\n",
    "    driver.close()\n",
    "    sys.exit()"
   ]
  },
  {
   "cell_type": "code",
   "execution_count": 25,
   "id": "f087750c",
   "metadata": {},
   "outputs": [],
   "source": [
    "# 인스타 검색 url 확인 및 사용자 키워드 적용\n",
    "\n",
    "url=\"https://www.instagram.com/explore/tags/\" + keyword\n",
    "driver.get(url)\n",
    "time.sleep(5)\n",
    "\n",
    "body = driver.find_element(By.TAG_NAME, \"body\")"
   ]
  },
  {
   "cell_type": "code",
   "execution_count": 27,
   "id": "8d43bc4c",
   "metadata": {
    "scrolled": true
   },
   "outputs": [
    {
     "data": {
      "text/plain": [
       "['https://www.instagram.com/p/CbqsyZ6BIm-/',\n",
       " 'https://www.instagram.com/p/CbqxeCshE2y/',\n",
       " 'https://www.instagram.com/p/CboUX-2rINL/',\n",
       " 'https://www.instagram.com/p/CbqsyYOBjKe/',\n",
       " 'https://www.instagram.com/p/CbqsybIhLct/',\n",
       " 'https://www.instagram.com/p/CbqsyaJBn-D/',\n",
       " 'https://www.instagram.com/p/CbobuG4BEPZ/',\n",
       " 'https://www.instagram.com/p/CbogW3kv3di/',\n",
       " 'https://www.instagram.com/p/CbojUN_hnHm/',\n",
       " 'https://www.instagram.com/p/CbrLs6XpcXZ/',\n",
       " 'https://www.instagram.com/p/CbrLgXTviWb/',\n",
       " 'https://www.instagram.com/p/CbrLfrRhPW_/',\n",
       " 'https://www.instagram.com/p/CbrLmxSJq1c/',\n",
       " 'https://www.instagram.com/p/CbrLOZ6pyMR/',\n",
       " 'https://www.instagram.com/p/CbrLV8DLZ2V/',\n",
       " 'https://www.instagram.com/p/CbrLZMwrh04/',\n",
       " 'https://www.instagram.com/p/CbrLbgvvMdS/',\n",
       " 'https://www.instagram.com/p/CbrLIlbrZgg/',\n",
       " 'https://www.instagram.com/p/CbrLBm2PZ3B/',\n",
       " 'https://www.instagram.com/p/CbrKvBxPB6k/',\n",
       " 'https://www.instagram.com/p/CbrKvXBvb-m/',\n",
       " 'https://www.instagram.com/p/CbrKuY0roQo/',\n",
       " 'https://www.instagram.com/p/CbrKw-4lavI/',\n",
       " 'https://www.instagram.com/p/CbrKwdCFrHI/',\n",
       " 'https://www.instagram.com/p/CbrKv3shjTN/',\n",
       " 'https://www.instagram.com/p/CbrK0OBpGnn/',\n",
       " 'https://www.instagram.com/p/CbrKhhhPQir/',\n",
       " 'https://www.instagram.com/p/CbrKWVkLeOQ/',\n",
       " 'https://www.instagram.com/p/CbrKUM9PXMq/',\n",
       " 'https://www.instagram.com/p/CbrKSrWrtCu/',\n",
       " 'https://www.instagram.com/p/CbrKQFyLxcz/',\n",
       " 'https://www.instagram.com/p/CbrKb6ApT68/',\n",
       " 'https://www.instagram.com/p/CbrKW6aPS5e/',\n",
       " 'https://www.instagram.com/p/CbrKbFUrbLs/',\n",
       " 'https://www.instagram.com/p/CbrKd9rrqhy/',\n",
       " 'https://www.instagram.com/p/CbrJ_dwJQQi/',\n",
       " 'https://www.instagram.com/p/CbrKHtSPD5o/',\n",
       " 'https://www.instagram.com/p/CbrJY7ILtaN/',\n",
       " 'https://www.instagram.com/p/Cbm4dlUv0H8/',\n",
       " 'https://www.instagram.com/p/CbqsyZ6BIm-/',\n",
       " 'https://www.instagram.com/p/CbqxeCshE2y/',\n",
       " 'https://www.instagram.com/p/CboUX-2rINL/',\n",
       " 'https://www.instagram.com/p/CbqsyYOBjKe/',\n",
       " 'https://www.instagram.com/p/CbqsybIhLct/',\n",
       " 'https://www.instagram.com/p/CbqsyaJBn-D/',\n",
       " 'https://www.instagram.com/p/CbobuG4BEPZ/',\n",
       " 'https://www.instagram.com/p/CbogW3kv3di/',\n",
       " 'https://www.instagram.com/p/CbojUN_hnHm/',\n",
       " 'https://www.instagram.com/p/CbrLs6XpcXZ/',\n",
       " 'https://www.instagram.com/p/CbrLgXTviWb/',\n",
       " 'https://www.instagram.com/p/CbrLfrRhPW_/',\n",
       " 'https://www.instagram.com/p/CbrLmxSJq1c/',\n",
       " 'https://www.instagram.com/p/CbrLOZ6pyMR/',\n",
       " 'https://www.instagram.com/p/CbrLV8DLZ2V/',\n",
       " 'https://www.instagram.com/p/CbrLZMwrh04/',\n",
       " 'https://www.instagram.com/p/CbrLbgvvMdS/',\n",
       " 'https://www.instagram.com/p/CbrLIlbrZgg/',\n",
       " 'https://www.instagram.com/p/CbrLBm2PZ3B/',\n",
       " 'https://www.instagram.com/p/CbrKvBxPB6k/',\n",
       " 'https://www.instagram.com/p/CbrKvXBvb-m/',\n",
       " 'https://www.instagram.com/p/CbrKuY0roQo/',\n",
       " 'https://www.instagram.com/p/CbrKw-4lavI/',\n",
       " 'https://www.instagram.com/p/CbrKwdCFrHI/',\n",
       " 'https://www.instagram.com/p/CbrKv3shjTN/',\n",
       " 'https://www.instagram.com/p/CbrK0OBpGnn/',\n",
       " 'https://www.instagram.com/p/CbrKhhhPQir/',\n",
       " 'https://www.instagram.com/p/CbrKWVkLeOQ/',\n",
       " 'https://www.instagram.com/p/CbrKUM9PXMq/',\n",
       " 'https://www.instagram.com/p/CbrKSrWrtCu/',\n",
       " 'https://www.instagram.com/p/CbrKQFyLxcz/',\n",
       " 'https://www.instagram.com/p/CbrKb6ApT68/',\n",
       " 'https://www.instagram.com/p/CbrKW6aPS5e/',\n",
       " 'https://www.instagram.com/p/CbrKbFUrbLs/',\n",
       " 'https://www.instagram.com/p/CbrKd9rrqhy/',\n",
       " 'https://www.instagram.com/p/CbrJ_dwJQQi/',\n",
       " 'https://www.instagram.com/p/CbrKHtSPD5o/',\n",
       " 'https://www.instagram.com/p/CbrJY7ILtaN/',\n",
       " 'https://www.instagram.com/p/Cbm4dlUv0H8/',\n",
       " 'https://www.instagram.com/p/CbqsyZ6BIm-/',\n",
       " 'https://www.instagram.com/p/CbqxeCshE2y/',\n",
       " 'https://www.instagram.com/p/CboUX-2rINL/',\n",
       " 'https://www.instagram.com/p/CbqsyYOBjKe/',\n",
       " 'https://www.instagram.com/p/CbqsybIhLct/',\n",
       " 'https://www.instagram.com/p/CbqsyaJBn-D/',\n",
       " 'https://www.instagram.com/p/CbobuG4BEPZ/',\n",
       " 'https://www.instagram.com/p/CbogW3kv3di/',\n",
       " 'https://www.instagram.com/p/CbojUN_hnHm/',\n",
       " 'https://www.instagram.com/p/CbrLs6XpcXZ/',\n",
       " 'https://www.instagram.com/p/CbrLgXTviWb/',\n",
       " 'https://www.instagram.com/p/CbrLfrRhPW_/',\n",
       " 'https://www.instagram.com/p/CbrLmxSJq1c/',\n",
       " 'https://www.instagram.com/p/CbrLOZ6pyMR/',\n",
       " 'https://www.instagram.com/p/CbrLV8DLZ2V/',\n",
       " 'https://www.instagram.com/p/CbrLZMwrh04/',\n",
       " 'https://www.instagram.com/p/CbrLbgvvMdS/',\n",
       " 'https://www.instagram.com/p/CbrLIlbrZgg/',\n",
       " 'https://www.instagram.com/p/CbrLBm2PZ3B/',\n",
       " 'https://www.instagram.com/p/CbrKvBxPB6k/',\n",
       " 'https://www.instagram.com/p/CbrKvXBvb-m/',\n",
       " 'https://www.instagram.com/p/CbrKuY0roQo/',\n",
       " 'https://www.instagram.com/p/CbrKw-4lavI/',\n",
       " 'https://www.instagram.com/p/CbrKwdCFrHI/',\n",
       " 'https://www.instagram.com/p/CbrKv3shjTN/',\n",
       " 'https://www.instagram.com/p/CbrK0OBpGnn/',\n",
       " 'https://www.instagram.com/p/CbrKhhhPQir/',\n",
       " 'https://www.instagram.com/p/CbrKWVkLeOQ/',\n",
       " 'https://www.instagram.com/p/CbrKUM9PXMq/',\n",
       " 'https://www.instagram.com/p/CbrKSrWrtCu/',\n",
       " 'https://www.instagram.com/p/CbrKQFyLxcz/',\n",
       " 'https://www.instagram.com/p/CbrKb6ApT68/',\n",
       " 'https://www.instagram.com/p/CbrKW6aPS5e/',\n",
       " 'https://www.instagram.com/p/CbrKbFUrbLs/',\n",
       " 'https://www.instagram.com/p/CbrKd9rrqhy/',\n",
       " 'https://www.instagram.com/p/CbrJ_dwJQQi/',\n",
       " 'https://www.instagram.com/p/CbrKHtSPD5o/',\n",
       " 'https://www.instagram.com/p/CbrJY7ILtaN/',\n",
       " 'https://www.instagram.com/p/Cbm4dlUv0H8/',\n",
       " 'https://www.instagram.com/p/CbqsyZ6BIm-/',\n",
       " 'https://www.instagram.com/p/CbqxeCshE2y/',\n",
       " 'https://www.instagram.com/p/CboUX-2rINL/',\n",
       " 'https://www.instagram.com/p/CbqsyYOBjKe/',\n",
       " 'https://www.instagram.com/p/CbqsybIhLct/',\n",
       " 'https://www.instagram.com/p/CbqsyaJBn-D/',\n",
       " 'https://www.instagram.com/p/CbobuG4BEPZ/',\n",
       " 'https://www.instagram.com/p/CbogW3kv3di/',\n",
       " 'https://www.instagram.com/p/CbojUN_hnHm/',\n",
       " 'https://www.instagram.com/p/CbrLs6XpcXZ/',\n",
       " 'https://www.instagram.com/p/CbrLgXTviWb/',\n",
       " 'https://www.instagram.com/p/CbrLfrRhPW_/',\n",
       " 'https://www.instagram.com/p/CbrLmxSJq1c/',\n",
       " 'https://www.instagram.com/p/CbrLOZ6pyMR/',\n",
       " 'https://www.instagram.com/p/CbrLV8DLZ2V/',\n",
       " 'https://www.instagram.com/p/CbrLZMwrh04/',\n",
       " 'https://www.instagram.com/p/CbrLbgvvMdS/',\n",
       " 'https://www.instagram.com/p/CbrLIlbrZgg/',\n",
       " 'https://www.instagram.com/p/CbrLBm2PZ3B/',\n",
       " 'https://www.instagram.com/p/CbrKvBxPB6k/',\n",
       " 'https://www.instagram.com/p/CbrKvXBvb-m/',\n",
       " 'https://www.instagram.com/p/CbrKuY0roQo/',\n",
       " 'https://www.instagram.com/p/CbrKw-4lavI/',\n",
       " 'https://www.instagram.com/p/CbrKwdCFrHI/',\n",
       " 'https://www.instagram.com/p/CbrKv3shjTN/',\n",
       " 'https://www.instagram.com/p/CbrK0OBpGnn/',\n",
       " 'https://www.instagram.com/p/CbrKhhhPQir/',\n",
       " 'https://www.instagram.com/p/CbrKWVkLeOQ/',\n",
       " 'https://www.instagram.com/p/CbrKUM9PXMq/',\n",
       " 'https://www.instagram.com/p/CbrKSrWrtCu/',\n",
       " 'https://www.instagram.com/p/CbrKQFyLxcz/',\n",
       " 'https://www.instagram.com/p/CbrKb6ApT68/',\n",
       " 'https://www.instagram.com/p/CbrKW6aPS5e/',\n",
       " 'https://www.instagram.com/p/CbrKbFUrbLs/',\n",
       " 'https://www.instagram.com/p/CbrKd9rrqhy/',\n",
       " 'https://www.instagram.com/p/CbrJ_dwJQQi/',\n",
       " 'https://www.instagram.com/p/CbrKHtSPD5o/',\n",
       " 'https://www.instagram.com/p/CbrJY7ILtaN/',\n",
       " 'https://www.instagram.com/p/Cbm4dlUv0H8/',\n",
       " 'https://www.instagram.com/p/CbqsyZ6BIm-/',\n",
       " 'https://www.instagram.com/p/CbqxeCshE2y/',\n",
       " 'https://www.instagram.com/p/CboUX-2rINL/',\n",
       " 'https://www.instagram.com/p/CbqsyYOBjKe/',\n",
       " 'https://www.instagram.com/p/CbqsybIhLct/',\n",
       " 'https://www.instagram.com/p/CbqsyaJBn-D/',\n",
       " 'https://www.instagram.com/p/CbobuG4BEPZ/',\n",
       " 'https://www.instagram.com/p/CbogW3kv3di/',\n",
       " 'https://www.instagram.com/p/CbojUN_hnHm/',\n",
       " 'https://www.instagram.com/p/CbrLs6XpcXZ/',\n",
       " 'https://www.instagram.com/p/CbrLgXTviWb/',\n",
       " 'https://www.instagram.com/p/CbrLfrRhPW_/',\n",
       " 'https://www.instagram.com/p/CbrLmxSJq1c/',\n",
       " 'https://www.instagram.com/p/CbrLOZ6pyMR/',\n",
       " 'https://www.instagram.com/p/CbrLV8DLZ2V/',\n",
       " 'https://www.instagram.com/p/CbrLZMwrh04/',\n",
       " 'https://www.instagram.com/p/CbrLbgvvMdS/',\n",
       " 'https://www.instagram.com/p/CbrLIlbrZgg/',\n",
       " 'https://www.instagram.com/p/CbrLBm2PZ3B/',\n",
       " 'https://www.instagram.com/p/CbrKvBxPB6k/',\n",
       " 'https://www.instagram.com/p/CbrKvXBvb-m/',\n",
       " 'https://www.instagram.com/p/CbrKuY0roQo/',\n",
       " 'https://www.instagram.com/p/CbrKw-4lavI/',\n",
       " 'https://www.instagram.com/p/CbrKwdCFrHI/',\n",
       " 'https://www.instagram.com/p/CbrKv3shjTN/',\n",
       " 'https://www.instagram.com/p/CbrK0OBpGnn/',\n",
       " 'https://www.instagram.com/p/CbrKhhhPQir/',\n",
       " 'https://www.instagram.com/p/CbrKWVkLeOQ/',\n",
       " 'https://www.instagram.com/p/CbrKUM9PXMq/',\n",
       " 'https://www.instagram.com/p/CbrKSrWrtCu/',\n",
       " 'https://www.instagram.com/p/CbrKQFyLxcz/',\n",
       " 'https://www.instagram.com/p/CbrKb6ApT68/',\n",
       " 'https://www.instagram.com/p/CbrKW6aPS5e/',\n",
       " 'https://www.instagram.com/p/CbrKbFUrbLs/',\n",
       " 'https://www.instagram.com/p/CbrKd9rrqhy/',\n",
       " 'https://www.instagram.com/p/CbrJ_dwJQQi/',\n",
       " 'https://www.instagram.com/p/CbrKHtSPD5o/',\n",
       " 'https://www.instagram.com/p/CbrJY7ILtaN/',\n",
       " 'https://www.instagram.com/p/Cbm4dlUv0H8/']"
      ]
     },
     "execution_count": 27,
     "metadata": {},
     "output_type": "execute_result"
    }
   ],
   "source": [
    "# 하이퍼 링크 주소 추출\n",
    "link_url = []\n",
    "\n",
    "for down in range(cntdown):\n",
    "    pang_Down()\n",
    "    #content = body.find_element_by_class_name(\"v1Nh3\")\n",
    "    contents = body.find_elements(By.CLASS_NAME, \"v1Nh3\")\n",
    "    \n",
    "    # 게시글 리스트 URL 추출\n",
    "    for content in contents:\n",
    "        url = content.find_element(By.TAG_NAME, \"a\").get_attribute(\"href\")\n",
    "        link_url.append(url)\n",
    "        \n",
    "link_url=list(set(link_url))  # 중복 데이터 제거"
   ]
  },
  {
   "cell_type": "markdown",
   "id": "f95f7e8b",
   "metadata": {},
   "source": [
    "링크를 이용해 데이터 가져오기"
   ]
  },
  {
   "cell_type": "code",
   "execution_count": 38,
   "id": "8fba2e5f",
   "metadata": {},
   "outputs": [],
   "source": [
    "conttxt = []\n",
    "#for link in link_url:\n",
    "    \n",
    "for i in range(5):    \n",
    "    driver.get(link_url[i])\n",
    "    time.sleep(2)\n",
    "\n",
    "    html =  driver.page_source\n",
    "    soup = bs(html, \"html.parser\")\n",
    "    conttxt.append(soup.find(\"div\", class_=\"C4VMK\").find_all(\"span\")[1].text)"
   ]
  },
  {
   "cell_type": "code",
   "execution_count": 42,
   "id": "ebc4aa51",
   "metadata": {},
   "outputs": [
    {
     "data": {
      "text/plain": [
       "'제주 소금바치순이네불향가득한 매콤한 돌문어볶음!!소면에 양념밥돌문어 같이 먹으면 대박임도민들도 추천하는 맛집이야!같이 갈 사람 태그주소  제주시 구좌읍 해맞이해안로 2196#제주맛집 #제주도맛집 #제주공항근처맛집 #제주시맛집 #애월맛집 #중문맛집 #제주공항맛집 #서귀포맛집 #산방산맛집 #신제주맛집 #제주시청맛집 #제주애월맛집 #월정리맛집 #제주여행 #제주핫플'"
      ]
     },
     "execution_count": 42,
     "metadata": {},
     "output_type": "execute_result"
    }
   ],
   "source": [
    "# 정규식 표현을 이용한 불필요한 데이터 제거하기\n",
    "re.sub('[^0-9a-zA-Zㄱ-ㅣ가-힣#?! ]' ,\"\", conttxt[0])"
   ]
  },
  {
   "cell_type": "markdown",
   "id": "189da3b5",
   "metadata": {},
   "source": [
    "아이디, 본문, 해시태그, 좋아요, 댓글 가져와 DataFrame으로 출력"
   ]
  },
  {
   "cell_type": "code",
   "execution_count": 44,
   "id": "946c9013",
   "metadata": {},
   "outputs": [
    {
     "data": {
      "text/plain": [
       "'travel_seasia'"
      ]
     },
     "execution_count": 44,
     "metadata": {},
     "output_type": "execute_result"
    }
   ],
   "source": [
    "# 아이디 가져오기\n",
    "soup.find(\"div\", class_=\"C4VMK\").find(\"a\").get_text()"
   ]
  },
  {
   "cell_type": "code",
   "execution_count": 51,
   "id": "2ff26d70",
   "metadata": {},
   "outputs": [
    {
     "data": {
      "text/plain": [
       "'제주도 동쪽 갈치 1등.jpg하루에 갈치만 150마리 판다고 함..ㄷㄷㄷㄷㄷㄷㄷㄷ히밥이 먹고 극찬한 보리김치도 여기 꺼였음!!+ 고등어조림이랑 같이 나오는 세트 강츄⠀출처: @muk__dam⠀'"
      ]
     },
     "execution_count": 51,
     "metadata": {},
     "output_type": "execute_result"
    }
   ],
   "source": [
    "# 본문 가져오기\n",
    "soup.find('div', class_=\"MOdxS\").find('span').text.split(\"#\")[0]"
   ]
  },
  {
   "cell_type": "code",
   "execution_count": 53,
   "id": "f9ed39f8",
   "metadata": {},
   "outputs": [
    {
     "name": "stdout",
     "output_type": "stream",
     "text": [
      "#제주맛집\n",
      "#성산갈치맛집\n",
      "#동행스타그램\n"
     ]
    }
   ],
   "source": [
    "# 해시태그 가져오기\n",
    "tags = soup.find('div', class_=\"MOdxS\").find_all('a')\n",
    "for tag in tags:\n",
    "    if \"#\" in tag.text:\n",
    "        print(tag.text)"
   ]
  },
  {
   "cell_type": "code",
   "execution_count": 71,
   "id": "77d29cb9",
   "metadata": {},
   "outputs": [
    {
     "data": {
      "text/plain": [
       "'seoungyunnni'"
      ]
     },
     "execution_count": 71,
     "metadata": {},
     "output_type": "execute_result"
    }
   ],
   "source": [
    "# 댓글 가져오기\n",
    "li_soup=soup.find(\"div\", class_=\"EtaWk\").find_all(\"li\", class_=\"gElp9 rUo9f\")[2]\n",
    "li_soup.find_all(\"a\")[1].text\n",
    "li_soup.find(\"span\").text"
   ]
  },
  {
   "cell_type": "markdown",
   "id": "ec540506",
   "metadata": {},
   "source": [
    "### url을 이용해 인스타그램 정보 크롤\n",
    "- 아이디, 내용, 해시태그\n",
    "- 잘 되시면 repuests 모듈로도 적용해 보세요"
   ]
  },
  {
   "cell_type": "code",
   "execution_count": null,
   "id": "c8079de8",
   "metadata": {},
   "outputs": [],
   "source": []
  }
 ],
 "metadata": {
  "kernelspec": {
   "display_name": "Python 3 (ipykernel)",
   "language": "python",
   "name": "python3"
  },
  "language_info": {
   "codemirror_mode": {
    "name": "ipython",
    "version": 3
   },
   "file_extension": ".py",
   "mimetype": "text/x-python",
   "name": "python",
   "nbconvert_exporter": "python",
   "pygments_lexer": "ipython3",
   "version": "3.9.7"
  }
 },
 "nbformat": 4,
 "nbformat_minor": 5
}
