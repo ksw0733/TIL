{
 "cells": [
  {
   "cell_type": "code",
   "execution_count": 4,
   "metadata": {},
   "outputs": [
    {
     "name": "stdout",
     "output_type": "stream",
     "text": [
      "3 * 1 = 3\n",
      "3 * 2 = 6\n",
      "3 * 3 = 9\n",
      "3 * 4 = 12\n",
      "3 * 5 = 15\n",
      "3 * 6 = 18\n",
      "3 * 7 = 21\n",
      "3 * 8 = 24\n",
      "3 * 9 = 27\n"
     ]
    }
   ],
   "source": [
    "## 2739번\n",
    "a = int(input())\n",
    "for i in range(1, 10):\n",
    "    print(f\"{a} * {i} = {a*i}\")"
   ]
  },
  {
   "cell_type": "code",
   "execution_count": 7,
   "metadata": {},
   "outputs": [],
   "source": [
    "## 10950번\n",
    "import sys\n",
    "a = int(input())\n",
    "for i in range (a):\n",
    "    b, c = map(int, input().split())\n",
    "    print(b + c)"
   ]
  },
  {
   "cell_type": "code",
   "execution_count": 1,
   "metadata": {},
   "outputs": [
    {
     "name": "stdout",
     "output_type": "stream",
     "text": [
      "15\n"
     ]
    }
   ],
   "source": [
    "## 8393번\n",
    "a = int(input())\n",
    "b = 0\n",
    "for i in range(a):\n",
    "    b += a\n",
    "    a -= 1\n",
    "print(b)"
   ]
  },
  {
   "cell_type": "code",
   "execution_count": 3,
   "metadata": {},
   "outputs": [],
   "source": [
    "## 25304번\n",
    "import sys\n",
    "\n",
    "a = int(input())\n",
    "b = int(input())\n",
    "e = 0\n",
    "for i in range(b):\n",
    "    c, d = map(int, sys.stdin.readline().split())\n",
    "    e += c*d\n",
    "if e == a:\n",
    "    print('YES')\n",
    "else:\n",
    "    print('NO')"
   ]
  },
  {
   "cell_type": "code",
   "execution_count": null,
   "metadata": {},
   "outputs": [],
   "source": [
    "## 15552번\n",
    "import sys\n",
    "\n",
    "a = int(input())\n",
    "for i in range(a):\n",
    "    b, c = map(int, sys.stdin.readline().split())\n",
    "    print(b+c)"
   ]
  },
  {
   "cell_type": "code",
   "execution_count": null,
   "metadata": {},
   "outputs": [],
   "source": [
    "## 11021번\n",
    "import sys\n",
    "a = int(input())\n",
    "for i in range(a):\n",
    "    b, c = map(int, sys.stdin.readline().split())\n",
    "    print(f\"Case #{i+1}: {b+c}\")"
   ]
  },
  {
   "cell_type": "code",
   "execution_count": null,
   "metadata": {},
   "outputs": [],
   "source": [
    "## 11022번\n",
    "import sys\n",
    "a = int(input())\n",
    "for i in range(a):\n",
    "    b, c = map(int, sys.stdin.readline().split())\n",
    "    print(f\"Case #{i+1}: {b} + {c} = {b+c}\")"
   ]
  },
  {
   "cell_type": "code",
   "execution_count": 10,
   "metadata": {},
   "outputs": [
    {
     "name": "stdout",
     "output_type": "stream",
     "text": [
      "*\n",
      "**\n",
      "***\n",
      "****\n",
      "*****\n"
     ]
    }
   ],
   "source": [
    "## 2438번\n",
    "a = int(input())\n",
    "for i in range(a):\n",
    "    i += 1\n",
    "    print(\"*\"*i)"
   ]
  },
  {
   "cell_type": "code",
   "execution_count": 29,
   "metadata": {},
   "outputs": [
    {
     "name": "stdout",
     "output_type": "stream",
     "text": [
      "    *\n",
      "   **\n",
      "  ***\n",
      " ****\n",
      "*****\n"
     ]
    }
   ],
   "source": [
    "## 2439번\n",
    "a = int(input())\n",
    "for i in range(a):\n",
    "    i += 1\n",
    "    print((\"*\"*(i)).rjust(a))     # rjust(n): n만큼 오른쪽 정렬"
   ]
  },
  {
   "cell_type": "code",
   "execution_count": 3,
   "metadata": {},
   "outputs": [
    {
     "name": "stdout",
     "output_type": "stream",
     "text": [
      "<generator object <genexpr> at 0x00000150FBD65350>\n"
     ]
    }
   ],
   "source": [
    "## 10871번\n",
    "import sys\n",
    "# a, b = map(int, input().split())\n",
    "# c = list(map(int, input().split()))\n",
    "# print(c[i] for i in range(len(c)) if c[i] < b)\n",
    "\n",
    "a,b = map(int, input().split())\n",
    "c = list(map(int, input().split()))\n",
    "\n",
    "for i in c:\n",
    "    if i < b:\n",
    "        print(i, end=\" \")"
   ]
  },
  {
   "cell_type": "code",
   "execution_count": 2,
   "metadata": {},
   "outputs": [
    {
     "name": "stdout",
     "output_type": "stream",
     "text": [
      "2\n",
      "5\n",
      "5\n",
      "7\n",
      "17\n",
      "18\n"
     ]
    }
   ],
   "source": [
    "## 10952번\n",
    "import sys\n",
    "while True:\n",
    "    a, b = map(int, input().split())\n",
    "    if a == b == 0:\n",
    "        break\n",
    "    print(a+b)"
   ]
  },
  {
   "cell_type": "code",
   "execution_count": null,
   "metadata": {},
   "outputs": [],
   "source": [
    "## 10951번\n",
    "import sys\n",
    "while True:\n",
    "    try:\n",
    "        a, b = map(int, sys.stdin.readline().split())\n",
    "        print(a+b)\n",
    "    except:\n",
    "        break"
   ]
  },
  {
   "cell_type": "code",
   "execution_count": 3,
   "metadata": {},
   "outputs": [
    {
     "name": "stdout",
     "output_type": "stream",
     "text": [
      "4\n"
     ]
    }
   ],
   "source": [
    "## 1110번\n",
    "n = int(input())\n",
    "num = n\n",
    "cnt = 0\n",
    "\n",
    "while True:\n",
    "    a = num//10\n",
    "    b = num%10\n",
    "    c = (a+b)%10\n",
    "    num = (b*10)+c\n",
    "    cnt += 1\n",
    "    if num == n:\n",
    "        print(cnt)\n",
    "        break"
   ]
  },
  {
   "cell_type": "code",
   "execution_count": null,
   "metadata": {},
   "outputs": [],
   "source": []
  }
 ],
 "metadata": {
  "kernelspec": {
   "display_name": "Python 3.9.7 ('kdig')",
   "language": "python",
   "name": "python3"
  },
  "language_info": {
   "codemirror_mode": {
    "name": "ipython",
    "version": 3
   },
   "file_extension": ".py",
   "mimetype": "text/x-python",
   "name": "python",
   "nbconvert_exporter": "python",
   "pygments_lexer": "ipython3",
   "version": "3.9.7"
  },
  "orig_nbformat": 4,
  "vscode": {
   "interpreter": {
    "hash": "79235f3c426277640c9689d2572c47b913f40843195eeba115616b689febf123"
   }
  }
 },
 "nbformat": 4,
 "nbformat_minor": 2
}
