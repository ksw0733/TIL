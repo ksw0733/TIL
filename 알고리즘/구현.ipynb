{
 "cells": [
  {
   "cell_type": "code",
   "execution_count": 49,
   "metadata": {},
   "outputs": [
    {
     "name": "stdout",
     "output_type": "stream",
     "text": [
      "TUE\n"
     ]
    }
   ],
   "source": [
    "## 1924번\n",
    "\n",
    "x, y = map(int, input().split())\n",
    "\n",
    "day = ['MON', 'TUE', 'WED', 'THU', 'FRI', 'SAT', 'SUN']\n",
    "\n",
    "month = [31, 28, 31, 30, 31, 30, 31, 31, 30, 31, 30, 31]\n",
    "\n",
    "mon_dif = x - 1\n",
    "day_dif = (y - 1 + sum(month[:mon_dif])) % 7\n",
    "print(day[day_dif])\n"
   ]
  },
  {
   "cell_type": "code",
   "execution_count": 8,
   "metadata": {},
   "outputs": [
    {
     "name": "stdout",
     "output_type": "stream",
     "text": [
      "<3, 6, 2, 7, 5, 1, 4>\n"
     ]
    }
   ],
   "source": [
    "## 1158번\n",
    "from collections import deque\n",
    "n, k = map(int, input().split())\n",
    "\n",
    "lst = deque(i for i in range(1, n+1))\n",
    "yose = deque()\n",
    "\n",
    "while lst:\n",
    "    lst.rotate(1 - k)\n",
    "    yose.append(lst.popleft())\n",
    "\n",
    "print(str(list(yose)).replace('[', '<').replace(']', '>'))\n",
    "# deque의 경우 print(*yose)로 출력하면 큐 안에 요소들만 띄어쓰기 기준으로 출력할 수 있음"
   ]
  },
  {
   "cell_type": "code",
   "execution_count": 11,
   "metadata": {},
   "outputs": [
    {
     "name": "stdout",
     "output_type": "stream",
     "text": [
      "1\n"
     ]
    }
   ],
   "source": [
    "## 10988번\n",
    "\n",
    "word = str(input())\n",
    "check = word[::-1]\n",
    "if word == check:\n",
    "    print(1)\n",
    "else:\n",
    "    print(0)"
   ]
  },
  {
   "cell_type": "code",
   "execution_count": 25,
   "metadata": {},
   "outputs": [
    {
     "name": "stdout",
     "output_type": "stream",
     "text": [
      "1\n"
     ]
    }
   ],
   "source": [
    "## 2303번\n",
    "from itertools import combinations\n",
    "\n",
    "n = int(input())\n",
    "card = [list(map(int, input().split())) for _ in range(n)]\n",
    "max_card = []\n",
    "res = 0\n",
    "res_max = 0\n",
    "for i in range(n):\n",
    "    card_mix = list(combinations(card[i], 3))\n",
    "    max_value = 0\n",
    "    for mix in card_mix:\n",
    "        max_value = max(sum(mix) % 10, max_value)\n",
    "    if max_value >= res_max:\n",
    "        res = i + 1\n",
    "        res_max = max_value\n",
    "\n",
    "print(res)"
   ]
  },
  {
   "cell_type": "code",
   "execution_count": 2,
   "metadata": {},
   "outputs": [
    {
     "name": "stdout",
     "output_type": "stream",
     "text": [
      "3 40\n"
     ]
    }
   ],
   "source": [
    "## 15702번\n",
    "n, m = map(int, input().split())\n",
    "score_list = list(map(int, input().split()))\n",
    "\n",
    "student = [list(map(str, input().split())) for _ in range(m)]\n",
    "score = 0\n",
    "\n",
    "for i in range(m):\n",
    "    student[i][0] = int(student[i][0])\n",
    "    tmp = 0\n",
    "    for j in range(n):\n",
    "        if student[i][j+1] == 'O':\n",
    "            tmp += score_list[j]\n",
    "    \n",
    "    student[i].append(tmp)\n",
    "      \n",
    "student.sort(key=lambda x: (-x[-1], x[0]))\n",
    "\n",
    "print(student[0][0], student[0][-1])"
   ]
  },
  {
   "cell_type": "code",
   "execution_count": null,
   "metadata": {},
   "outputs": [],
   "source": [
    "## 15702번 임시 왜 안돼는지 모르겠음...\n",
    "n, m = map(int, input().split())\n",
    "score_list = list(map(int, input().split()))\n",
    "\n",
    "student = [list(map(str, input().split())) for _ in range(m)]\n",
    "score = 0\n",
    "ans = 0\n",
    "for i in range(m):\n",
    "    tmp = 0\n",
    "    for j in range(n):\n",
    "        if student[i][j+1] == 'O':\n",
    "            tmp += score_list[j]\n",
    "    if tmp >= score:\n",
    "        ans = int(student[i][0])\n",
    "        score = tmp\n",
    "        if tmp == score:\n",
    "          if int(ans) > int(student[i][0]):\n",
    "              ans = int(student[i][0])\n",
    "      \n",
    "\n",
    "print(ans, score)"
   ]
  },
  {
   "cell_type": "code",
   "execution_count": 16,
   "metadata": {},
   "outputs": [
    {
     "name": "stdout",
     "output_type": "stream",
     "text": [
      "6\n"
     ]
    }
   ],
   "source": [
    "## 1049번\n",
    "n, m = map(int, input().split())\n",
    "price_set = 1000\n",
    "price_single = 1000\n",
    "for _ in range(m):\n",
    "    a, b = map(int, input().split())\n",
    "    price_set = min(a, price_set)\n",
    "    price_single = min(b, price_single)\n",
    "\n",
    "res = min(price_set * ((n//6) + 1), price_single*n, price_set * (n//6) + price_single * (n%6))\n",
    "print(res)"
   ]
  },
  {
   "cell_type": "code",
   "execution_count": 17,
   "metadata": {},
   "outputs": [
    {
     "name": "stdout",
     "output_type": "stream",
     "text": [
      "1\n"
     ]
    }
   ],
   "source": [
    "## 11652번\n",
    "n = int(input())\n",
    "dic = {}\n",
    "for i in range(n):\n",
    "    num = int(input())\n",
    "    if num in dic.keys():\n",
    "        dic[num] += 1\n",
    "    else:\n",
    "        dic[num] = 1\n",
    "\n",
    "dic = sorted(dic.items(), key = lambda x:(-x[1], x[0]))\n",
    "print(dic[0][0])"
   ]
  },
  {
   "cell_type": "code",
   "execution_count": null,
   "metadata": {},
   "outputs": [],
   "source": [
    "## 1920번\n"
   ]
  }
 ],
 "metadata": {
  "kernelspec": {
   "display_name": "kdig",
   "language": "python",
   "name": "python3"
  },
  "language_info": {
   "codemirror_mode": {
    "name": "ipython",
    "version": 3
   },
   "file_extension": ".py",
   "mimetype": "text/x-python",
   "name": "python",
   "nbconvert_exporter": "python",
   "pygments_lexer": "ipython3",
   "version": "3.9.7"
  },
  "orig_nbformat": 4
 },
 "nbformat": 4,
 "nbformat_minor": 2
}
