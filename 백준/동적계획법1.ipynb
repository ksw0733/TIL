{
 "cells": [
  {
   "cell_type": "code",
   "execution_count": 7,
   "metadata": {},
   "outputs": [
    {
     "name": "stdout",
     "output_type": "stream",
     "text": [
      "1 1\n"
     ]
    }
   ],
   "source": [
    "## 24416번\n",
    "\n",
    "import sys\n",
    "# input = sys.stdin.readline\n",
    "\n",
    "n = int(input())\n",
    "fib = [0]*45\n",
    "fib[1], fib[2] = 1, 1\n",
    "cnt_fibonacci = 0\n",
    "cnt_fibo = 0\n",
    "\n",
    "def fibonacci(n):\n",
    "    global cnt_fibonacci\n",
    "    for i in range(3, n+1):\n",
    "        cnt_fibonacci += 1\n",
    "        fib[i] = fib[i-1] + fib[i-2]\n",
    "    \n",
    "    return fib[n]\n",
    "    \n",
    "\n",
    "def fibo(n):\n",
    "    global cnt_fibo\n",
    "    cnt_fibo += 1\n",
    "    if n == 1 or n == 2:\n",
    "        cnt_fibo -= 1\n",
    "        return 1\n",
    "    else:\n",
    "        return fibo(n-1) + fibo(n-2)\n",
    "\n",
    "fibonacci(n)\n",
    "fibo(n)\n",
    "print(cnt_fibo+1, cnt_fibonacci)"
   ]
  },
  {
   "cell_type": "code",
   "execution_count": null,
   "metadata": {},
   "outputs": [],
   "source": []
  }
 ],
 "metadata": {
  "kernelspec": {
   "display_name": "Python 3.9.7 ('kdig')",
   "language": "python",
   "name": "python3"
  },
  "language_info": {
   "codemirror_mode": {
    "name": "ipython",
    "version": 3
   },
   "file_extension": ".py",
   "mimetype": "text/x-python",
   "name": "python",
   "nbconvert_exporter": "python",
   "pygments_lexer": "ipython3",
   "version": "3.9.7"
  },
  "orig_nbformat": 4,
  "vscode": {
   "interpreter": {
    "hash": "79235f3c426277640c9689d2572c47b913f40843195eeba115616b689febf123"
   }
  }
 },
 "nbformat": 4,
 "nbformat_minor": 2
}
