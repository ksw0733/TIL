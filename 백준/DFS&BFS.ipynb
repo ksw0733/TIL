{
 "cells": [
  {
   "cell_type": "code",
   "execution_count": null,
   "metadata": {},
   "outputs": [],
   "source": [
    "## 1260번\n",
    "import sys\n",
    "from collections import deque\n",
    "\n",
    "input = sys.stdin.readline\n",
    "\n",
    "def dfs(v):\n",
    "    visited_dfs[v] = True\n",
    "    print(v, end=' ')\n",
    "    for i in range(1, n+1):\n",
    "        if not visited_dfs[i] and graph[v][i]:\n",
    "            dfs(i)\n",
    "\n",
    "def bfs(v):\n",
    "    q = deque([v])\n",
    "    visited_bfs[v] = True\n",
    "    while q:\n",
    "        v = q.popleft()\n",
    "        print(v, end=' ')\n",
    "        for i in range(1, n+1):\n",
    "            if not visited_bfs[i] and graph[v][i]:\n",
    "                q.append(i)\n",
    "                visited_bfs[i] = True\n",
    "\n",
    "n, m, v = map(int, input().split())\n",
    "graph = [[False] * (n + 1) for _ in range(n+1)]\n",
    "\n",
    "for _ in range(m):\n",
    "    a, b = map(int, input().split())\n",
    "    graph[a][b] = True\n",
    "    graph[b][a] = True\n",
    "\n",
    "visited_dfs = [False] * (n+1)\n",
    "visited_bfs = [False] * (n+1)\n",
    "\n",
    "dfs(v)\n",
    "print()\n",
    "bfs(v)\n"
   ]
  },
  {
   "cell_type": "code",
   "execution_count": null,
   "metadata": {},
   "outputs": [],
   "source": []
  }
 ],
 "metadata": {
  "language_info": {
   "name": "python"
  },
  "orig_nbformat": 4
 },
 "nbformat": 4,
 "nbformat_minor": 2
}
