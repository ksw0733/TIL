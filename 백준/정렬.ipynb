{
 "cells": [
  {
   "cell_type": "code",
   "execution_count": 2,
   "metadata": {},
   "outputs": [
    {
     "name": "stdout",
     "output_type": "stream",
     "text": [
      "1\n",
      "2\n",
      "3\n",
      "4\n",
      "9\n"
     ]
    }
   ],
   "source": [
    "## 2750번\n",
    "import sys\n",
    "input = sys.stdin.readline\n",
    "n = int(input())\n",
    "num_list = []\n",
    "for _ in range(n):\n",
    "    num_list.append(int(input()))\n",
    "    \n",
    "for i in range(1, len(num_list)):\n",
    "    while (i>0) & (num_list[i] < num_list[i-1]):\n",
    "        num_list[i], num_list[i-1] = num_list[i-1], num_list[i]\n",
    "        \n",
    "        i -= 1\n",
    "for n in num_list:\n",
    "    print(n)    "
   ]
  },
  {
   "cell_type": "code",
   "execution_count": 6,
   "metadata": {},
   "outputs": [
    {
     "name": "stdout",
     "output_type": "stream",
     "text": [
      "34\n",
      "30\n"
     ]
    }
   ],
   "source": [
    "## 2587번\n",
    "import sys\n",
    "input = sys.stdin.readline\n",
    "\n",
    "num_list = []\n",
    "for i in range(5):\n",
    "    num_list.append(int(input()))\n",
    "\n",
    "for i in range(1, len(num_list)):\n",
    "    while (i>0) & (num_list[i] < num_list[i-1]):\n",
    "        num_list[i], num_list[i-1] = num_list[i-1], num_list[i]\n",
    "        \n",
    "        i -= 1\n",
    "\n",
    "print(int(sum(num_list)/5), num_list[2], sep='\\n')"
   ]
  },
  {
   "cell_type": "code",
   "execution_count": 8,
   "metadata": {},
   "outputs": [
    {
     "name": "stdout",
     "output_type": "stream",
     "text": [
      "93\n"
     ]
    }
   ],
   "source": [
    "## 25305번\n",
    "import sys\n",
    "input = sys.stdin.readline\n",
    "n, k = map(int, input().split())\n",
    "\n",
    "score_list = list(map(int, input().split()))\n",
    "\n",
    "for i in range(1, len(score_list)):\n",
    "    while (i>0) & (score_list[i]> score_list[i-1]):\n",
    "        score_list[i], score_list[i-1] = score_list[i-1], score_list[i]\n",
    "        i -= 1\n",
    "\n",
    "print(score_list[k-1])"
   ]
  },
  {
   "cell_type": "code",
   "execution_count": 9,
   "metadata": {},
   "outputs": [
    {
     "name": "stdout",
     "output_type": "stream",
     "text": [
      "5\n",
      "4\n",
      "3\n",
      "2\n",
      "1\n"
     ]
    }
   ],
   "source": [
    "## 2751번\n",
    "import sys\n",
    "input = sys.stdin.readline\n",
    "\n",
    "n = int(input())\n",
    "num_list = []\n",
    "\n",
    "for _ in range(n):\n",
    "    num_list.append(int(input()))\n",
    "            \n",
    "for n in sorted(num_list):\n",
    "    print(n)    "
   ]
  },
  {
   "cell_type": "code",
   "execution_count": null,
   "metadata": {},
   "outputs": [],
   "source": [
    "## 10989번\n",
    "import sys\n",
    "input = sys.stdin.readline\n",
    "arr = [0]*10000\n",
    "\n",
    "for _ in range(int(input())):\n",
    "    a = int(input())\n",
    "    arr[a-1] += 1\n",
    "    \n",
    "for i in range(10000):\n",
    "    if arr[i] != 0:\n",
    "        for j in range(arr[i]):\n",
    "            print(i+1)"
   ]
  },
  {
   "cell_type": "code",
   "execution_count": null,
   "metadata": {},
   "outputs": [],
   "source": [
    "## 2108번\n",
    "import sys\n",
    "from collections import Counter\n",
    "\n",
    "input = sys.stdin.readline\n",
    "\n",
    "num_list = []\n",
    "for _ in range(int(input())):\n",
    "    num_list.append(int(input()))\n",
    " \n",
    "# 산술평균 - 다 더해서 / n\n",
    "print(round(sum(num_list)/n))\n",
    " \n",
    "# 중앙값 - 오름차순 -> 중간값\n",
    "num_list.sort()\n",
    "print(num_list[n//2])\n",
    " \n",
    "# 최빈값 - 빈출\n",
    "cnt_list = Counter(num_list).most_common()\n",
    "if len(cnt_list) > 1 and cnt_list[0][1]==cnt_list[1][1]: #최빈값 2개 이상\n",
    "    print(cnt_list[1][0])\n",
    "else:\n",
    "    print(cnt_list[0][0])\n",
    " \n",
    "# 범위 - 최댓값-최솟값\n",
    "print(max(num_list)-min(num_list))\n"
   ]
  },
  {
   "cell_type": "code",
   "execution_count": 4,
   "metadata": {},
   "outputs": [
    {
     "name": "stdout",
     "output_type": "stream",
     "text": [
      "65321"
     ]
    }
   ],
   "source": [
    "## 1427번\n",
    "n = list(map(int, str(input())))\n",
    "\n",
    "n.sort(reverse=True)\n",
    "for i in n:\n",
    "    print(i, end='')"
   ]
  },
  {
   "cell_type": "code",
   "execution_count": 5,
   "metadata": {},
   "outputs": [
    {
     "name": "stdout",
     "output_type": "stream",
     "text": [
      "1 -1\n",
      "1 1\n",
      "2 2\n",
      "3 3\n",
      "3 4\n"
     ]
    }
   ],
   "source": [
    "## 11650번\n",
    "import sys\n",
    "input = sys.stdin.readline\n",
    "\n",
    "cor = []\n",
    "for i in range(int(input())):\n",
    "    [x, y] = list(map(int, input().split()))\n",
    "    cor.append([x, y])\n",
    "\n",
    "cor = sorted(cor)\n",
    "\n",
    "for i in cor:\n",
    "    print(i[0], i[1])\n"
   ]
  },
  {
   "cell_type": "code",
   "execution_count": 7,
   "metadata": {},
   "outputs": [
    {
     "name": "stdout",
     "output_type": "stream",
     "text": [
      "1 -1\n",
      "1 2\n",
      "2 2\n",
      "3 3\n",
      "0 4\n"
     ]
    }
   ],
   "source": [
    "## 11651번\n",
    "import sys\n",
    "input = sys.stdin.readline\n",
    "\n",
    "cor = []\n",
    "for i in range(int(input())):\n",
    "    [x, y] = list(map(int, input().split()))\n",
    "    rev = [y, x]\n",
    "    cor.append(rev)\n",
    "\n",
    "cor = sorted(cor)\n",
    "\n",
    "for i in cor:\n",
    "    print(i[1], i[0])"
   ]
  },
  {
   "cell_type": "code",
   "execution_count": 14,
   "metadata": {},
   "outputs": [
    {
     "name": "stdout",
     "output_type": "stream",
     "text": [
      "i\n",
      "im\n",
      "it\n",
      "no\n",
      "but\n",
      "more\n",
      "wait\n",
      "wont\n",
      "yours\n",
      "cannot\n",
      "hesitate\n"
     ]
    }
   ],
   "source": [
    "## 1181번\n",
    "import sys\n",
    "input = sys.stdin.readline\n",
    "\n",
    "word_list = []\n",
    "\n",
    "for i in range(int(input())):\n",
    "    word_list.append(input().rstrip())\n",
    "\n",
    "word_list = sorted(list(set(word_list)))\n",
    "word_list.sort(key = len)\n",
    "\n",
    "for word in word_list:\n",
    "    print(word)"
   ]
  },
  {
   "cell_type": "code",
   "execution_count": null,
   "metadata": {},
   "outputs": [],
   "source": []
  }
 ],
 "metadata": {
  "kernelspec": {
   "display_name": "Python 3.9.7 ('kdig')",
   "language": "python",
   "name": "python3"
  },
  "language_info": {
   "codemirror_mode": {
    "name": "ipython",
    "version": 3
   },
   "file_extension": ".py",
   "mimetype": "text/x-python",
   "name": "python",
   "nbconvert_exporter": "python",
   "pygments_lexer": "ipython3",
   "version": "3.9.7"
  },
  "orig_nbformat": 4,
  "vscode": {
   "interpreter": {
    "hash": "79235f3c426277640c9689d2572c47b913f40843195eeba115616b689febf123"
   }
  }
 },
 "nbformat": 4,
 "nbformat_minor": 2
}
