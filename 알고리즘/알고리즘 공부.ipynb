{
 "cells": [
  {
   "attachments": {},
   "cell_type": "markdown",
   "metadata": {},
   "source": [
    "### 스택\n",
    "  - 먼저 들어온 데이터가 나중에 나가는 형태\n",
    "  - 입구와 출구가 동일\n",
    "  - push(삽입): append, pop(삭제): pop 메서드를 이용해 사용\n",
    "  - 재귀 알고리즘, 방문기록, 실행취소 등등에 사용"
   ]
  },
  {
   "cell_type": "code",
   "execution_count": 2,
   "metadata": {},
   "outputs": [
    {
     "name": "stdout",
     "output_type": "stream",
     "text": [
      "[1, 3, 2, 5]\n",
      "[5, 2, 3, 1]\n"
     ]
    }
   ],
   "source": [
    "## 스택\n",
    "\n",
    "stack = []\n",
    "stack.append(5)  # 리스트의 끝에 데이터 추가\n",
    "stack.append(2)\n",
    "stack.append(3)\n",
    "stack.append(7)\n",
    "stack.pop()      # 나중에 들어온 데이터가 먼저 나가기 때문에 7이 삭제\n",
    "stack.append(1)\n",
    "stack.append(4)\n",
    "stack.pop()\n",
    "\n",
    "print(stack[::-1])  # 최상단(가장 나중에 들어온, 오른쪽) 원소부터 출력\n",
    "print(stack)  # 최하단(가장 먼저 들어온, 왼쪽) 원소부터 출력"
   ]
  },
  {
   "attachments": {},
   "cell_type": "markdown",
   "metadata": {},
   "source": [
    "### 큐\n",
    " - 먼저 들어온 데이터가 먼저 나가는 선입선출 형태\n",
    " - push(삽입): append, pop(삭제): popleft 메서드를 이용해 사용\n",
    " - 일반적인 리스트로 구현시 시간복잡도가 O(N) 이지만 파이썬의 deque 라이브러리를 이용시 시간복잡도가 O(1)이 되어 매우 빠름\n",
    " - 다만 deque 라이브러리의 경우 무작위 접근의 시간복잡도가 O(N)이고 내부적으로 linked list를 사용해 n번째 데이터 접근에 n번의 순회가 필요함\n",
    " - 너비우선탐색(BFS), 캐시(Cache) 구현, 우선순위 작업 예약 등등에 사용\n",
    " "
   ]
  },
  {
   "cell_type": "code",
   "execution_count": 3,
   "metadata": {},
   "outputs": [
    {
     "name": "stdout",
     "output_type": "stream",
     "text": [
      "deque([3, 7, 1, 4])\n",
      "deque([4, 1, 7, 3])\n",
      "[4, 1, 7, 3]\n"
     ]
    }
   ],
   "source": [
    "## 큐\n",
    "\n",
    "from collections import deque\n",
    "\n",
    "# 큐(Queue) 구현을 위해 deque 라이브러리 사용\n",
    "# deque 라이브러리의 경우 stack 자료구조에도 사용할 수 있는 편리한 list-like 매서드\n",
    "\n",
    "queue = deque()\n",
    "\n",
    "queue.append(5)\n",
    "queue.append(2)\n",
    "queue.append(3)\n",
    "queue.append(7)\n",
    "queue.popleft()  # queue의 첫번째 값인 5 삭제\n",
    "queue.append(1)\n",
    "queue.append(4)\n",
    "queue.popleft()  # 맨 첫번째 값인 2 삭제\n",
    "\n",
    "print(queue)  # 먼저 들어온 순서대로 출력\n",
    "queue.reverse()  # 역순으로 바꾸기\n",
    "print(queue)  # 나중에 들어온 원소부터 출력\n",
    "print(list(queue))  # deque객체를 list 형식으로 바꾸고 싶을때 list로 감싸면됨"
   ]
  },
  {
   "attachments": {},
   "cell_type": "markdown",
   "metadata": {},
   "source": [
    "### "
   ]
  },
  {
   "attachments": {},
   "cell_type": "markdown",
   "metadata": {},
   "source": [
    "### 우선순위에 따라 데이터를 꺼내는 자료구조\n",
    "- 우선순위가 가장 높은 데이터부터 추출\n",
    "- 단순 리스트 or 힙(heap)을 이용하여 구현\n",
    "- 리스트를 이용시 삽입 삭제의 시간복잡도가 O(1), O(N) 이지만 힙은 O(logN)으로 삽입 삭제의 시간복잡도가 동일"
   ]
  },
  {
   "attachments": {},
   "cell_type": "markdown",
   "metadata": {},
   "source": [
    "#### 완전 이진 트리\n",
    "- 완전 이진 트리란 루트노드부터 시작하여 왼쪽 자식노드 오른쪽 자식노드 순서대로 데이터가 차례대로 삽입되는 트리"
   ]
  },
  {
   "attachments": {},
   "cell_type": "markdown",
   "metadata": {},
   "source": [
    "##### 힙(heap)의 특징\n",
    "- 힙은 완전 이진트리 자료구조의 일종\n",
    "- 힙에서는 항상 루트노드(root node)를 제거\n",
    "- 최소힙(min heap)\n",
    "    - 루트노드가 가장 작은 값을 가짐\n",
    "    - 따라서 값이 가장 작은 데이터가 우선적으로 제거\n",
    "- 최대힙(max heap)\n",
    "    - 루트노드가 가장 큰 값을 가짐\n",
    "    - 따라서 값이 가장 큰 데이터가 우선적으로 제거\n",
    "- 최소 힙 구성함수: Min-Heapify()\n",
    "    - 상향식: 부모노드로 거슬러 올라가며, 부모보다 자신의 값이 더 작은경우에 위치를 교체\n",
    "    - 하향식: 자식노드로 거슬러 내려가며 더 값이 작은 자식노드와 위치를 교체\n",
    "    - 원소가 제거될 때는 가장 마지막 노드가 루트 노드로 오도록 위치를 변경\n",
    "    - 그 후 루트노드에서 하샹식으로 Heapify()를 진행"
   ]
  },
  {
   "cell_type": "code",
   "execution_count": 3,
   "metadata": {},
   "outputs": [
    {
     "name": "stdout",
     "output_type": "stream",
     "text": [
      "1\n",
      "1\n",
      "2\n",
      "2\n",
      "2\n",
      "3\n",
      "5\n",
      "6\n",
      "12\n",
      "78\n"
     ]
    }
   ],
   "source": [
    "## 우선순위 큐\n",
    "import sys\n",
    "import heapq\n",
    "\n",
    "# input = sys.stdin.readline\n",
    "# 파이썬의 경우 heapq는 기본적으로 min heap을 지원\n",
    "\n",
    "\n",
    "# 구조 이해를 위해 함수를 만들었지만 heapq.heapify(list)를 이용하여 사용하면 됨\n",
    "def heapsort(iterable):\n",
    "    h = []\n",
    "    result = []\n",
    "    # 모든 원소를 차례대로 힙에 삽입\n",
    "    for value in iterable:\n",
    "        heapq.heappush(h, value)\n",
    "    # 힙에 삽입된 모든 원소를 차례대로 꺼내어 담기\n",
    "    # 만약 max heap을 사용하고 싶다면 -를 붙여서 데이터를 꺼내면 됨\n",
    "    for i in range(len(h)):\n",
    "        result.append(heapq.heappop(h))\n",
    "    return result\n",
    "\n",
    "n = int(input())\n",
    "arr = []\n",
    "\n",
    "for i in range(n):\n",
    "    arr.append(int(input()))\n",
    "\n",
    "res = heapsort(arr)     # 내장된 모듈인 heapq.heapify(res)를 이용해도 됨\n",
    "\n",
    "# min heap으로 작동하기 때문에 오름차순 정렬이됨\n",
    "for i in range(n):\n",
    "    print(res[i])"
   ]
  },
  {
   "attachments": {},
   "cell_type": "markdown",
   "metadata": {},
   "source": [
    "### 그리디\n",
    " - 현재 상황에서 지금 당장 좋은것만 고르는 방법을 의미\n",
    " - 그리디 해법은 정당성 분석이 중요\n",
    "   - 단순히 가장 좋아보이는 것을 반복적으로 선택해도 최적의 해를 구할수 있는지 검토필요\n",
    " - 일반적인 상황에서 그리디 알고리즘은 최적애 해를 보장할 수 없을때가 많음"
   ]
  },
  {
   "attachments": {},
   "cell_type": "markdown",
   "metadata": {},
   "source": [
    "#### 문제 1) 거스름 돈\n",
    "  - 손님에게 거스름돈을 줄때 500, 100, 50, 10원짜리 동전을 어떻게 줘야 최소의 갯수로 줄 수 있을까?\n",
    "    - 가장 큰 화폐단위부터 돈을 거슬러 주면 된다.\n",
    "    - ex) 1260원이면 500원 2개 100원 2개 50원 1개 10원 1개 총 6개\n",
    "  - 위와 같은 방식이 최적의 해를 보장하는 이유는?\n",
    "    - 가지고 있는 동전의 큰 단위가 항상 작은 단위의 배수이기 때문에 작은 단위의 동전들을 종합해 다른해가 나올 수 없기 때문\n",
    "    - 만약 800원을 거슬러 주는데 동전이 500, 400, 100 이라면?\n",
    "    - 같은 알고리즘 이라면 500원 1개 100원 3개가 최적해가 될테지만 실제론 400원 2개가 정답. 500이 400의 배수가 아니기 때문에 틀린 방법이됨\n",
    "  "
   ]
  },
  {
   "cell_type": "code",
   "execution_count": 1,
   "metadata": {},
   "outputs": [
    {
     "name": "stdout",
     "output_type": "stream",
     "text": [
      "6\n"
     ]
    }
   ],
   "source": [
    "## 그리디 문제 1 예시\n",
    "\n",
    "n = 1260\n",
    "count = 0\n",
    "\n",
    "# 큰 단위의 화폐부터 차례대로 확인\n",
    "array = [500, 100, 50, 10]\n",
    "\n",
    "for coin in array:\n",
    "    count += n // coin # 해당 화폐로 거슬러 줄 수 있는 동전의 개수 세기\n",
    "    n %= coin\n",
    "    \n",
    "print(count)\n",
    "\n",
    "## 시간복잡도는 동전의 수가 K일때 O(K)이며 동전의 종류에만 영향을 받고 금액과는 상관없음"
   ]
  },
  {
   "attachments": {},
   "cell_type": "markdown",
   "metadata": {},
   "source": [
    "#### 문제 2) 1이 될 때까지\n",
    "  - 어떠한 수 N이 1이 될 때까지 다음의 두 과정 중 하나를 반복적으로 수행 단 두번째 연산은 N이 K로 나누어 떨어질때만 가능\n",
    "    1. N에서 1을 뺌\n",
    "    2. N을 K로 나눔\n",
    "    - ex) N = 17, K = 4라 하면 최초 1번의 과정을 수행후 N = 16됨. 이후 2번의 과정을 두번 수행하면 N = 1이 되며 전체 과정은 3회\n",
    "  - 가장 최소한으로 수행하는 방법은?\n",
    "    - 가능하면 나누는 작업을 먼저 수행\n",
    "  - 위와 같은 방법이 최적의 해를 보장하는 이유는?\n",
    "    - N이 아무리 큰 수여도 K로 계속 나눈다면 빼는것보다 N의 수를 빠르게 줄일 수 있기 때문 "
   ]
  },
  {
   "cell_type": "code",
   "execution_count": 23,
   "metadata": {},
   "outputs": [
    {
     "name": "stdout",
     "output_type": "stream",
     "text": [
      "2\n"
     ]
    }
   ],
   "source": [
    "## 그리디 문제 2 예시\n",
    "n, k = map(int, input().split())\n",
    "\n",
    "result = 0\n",
    "\n",
    "while True:\n",
    "    # N이 K보다 작을 때 반복문 탈출\n",
    "    if n < k:\n",
    "        break\n",
    "    \n",
    "    # N이 K로 나누어 떨어지는 수가 될 때까지 빼기\n",
    "    target = (n // k) * k   # N이 K로 나누어 떨어지지 않을 때 가장 가까운 나누어 떨어지는 수를 찾음\n",
    "    result += (n - target)  # 나누어 떨어지는 가장 가까운 수가 되려면 1을 몇번 빼야하는지, 즉 작업을 몇번 반복해야 하는지 한번에 계산\n",
    "    n = target\n",
    "\n",
    "    \n",
    "    # K로 나누기\n",
    "    result += 1\n",
    "    n //= k\n",
    "\n",
    "# 0 < N < K인 경우 N이 1이 될때까지 1씩 빼기\n",
    "result += (n-1)\n",
    "print(result)\n",
    "\n",
    "## 위와 같이 N이 K로 나누어 떨어지는 가장 가까운 수를 찾아 한번에 계산하면 일일이 나눠지는지 비교하며 1씩 빼는것보다 시간 복잡도가 감소하여 log(K)가 된다."
   ]
  },
  {
   "attachments": {},
   "cell_type": "markdown",
   "metadata": {},
   "source": [
    "#### 문제 3) 곱하기 혹은 더하기\n",
    "  - 각 자리가 숫자로만 이루어진 문자열 S가 주어졌을때, 왼쪽부터 오른쪽으로 하나씩 모든 숫자를 확인하며 숫자사이에 * 혹은 + 연산자를 넣어 결과적으로 가장 큰 수를 만듬. 단, 모든 연산은 왼쪽부터 순서대로 시행\n",
    "    - ex) S = 02984 일때 가장 큰 수는 ((((0+2)* 9)* 8)* 4) = 576\n",
    "  - 가장 큰 수를 만드는 방법은?\n",
    "    - 0, 1을 제외한 모든경우 *가 +보다 더 큰값을 만듬 따라서 두 수 중에서 하나라도 1 이하인 경우는 더하며 두 수가 모두 2 이상이면 곱하는 것이 옳은방법"
   ]
  },
  {
   "cell_type": "code",
   "execution_count": 1,
   "metadata": {},
   "outputs": [
    {
     "name": "stdout",
     "output_type": "stream",
     "text": [
      "11760\n"
     ]
    }
   ],
   "source": [
    "## 그리디 문제 3 예시\n",
    "data = input()\n",
    "\n",
    "# 첫 번째 문자를 숫자로 변경하여 대입\n",
    "result = int(data[0])\n",
    "\n",
    "for i in range(1, len(data)):\n",
    "    # 두 수 중에서 하나라도 1 이하인 경우, 곱하기 보다는 더하기 수행\n",
    "    num = int(data[i])\n",
    "    if num <= 1 or result <= 1:\n",
    "        result += num\n",
    "    else:\n",
    "        result *= num\n",
    "\n",
    "print(result)"
   ]
  },
  {
   "attachments": {},
   "cell_type": "markdown",
   "metadata": {},
   "source": [
    "#### 문제 4) 모험가 길드\n",
    "  - 모험가 N명을 대상으로 '공포도'를 측정, 모험가 그룹을 구성할때는 공포도가 X인 모험가는 반드시 X명 이상으로 구성한 모험가 그룹에 참여해야함\n",
    "    - ex) 공포도가 2 3 1 2 2 일때 그룹 1에 1, 2, 3을 그룹 2에 공포도가 2인 남은 두명을 넣어 총 2개의 그룹을 만들 수 있음\n",
    "  - 이때 N명의 모험가에 대한 정보가 주어졌을때, 여행을 떠날 수 있는 '그룹수'의 최댓값은?\n",
    "    - 오름차순 정렬 이후 공포도가 낮은 모험가부터 하나씩 확인\n",
    "    - 앞에서부터 공포도를 확인하며 현재 그룹에 포함된 모험가의 수가 현재 확인하고 있는 공포보 보다 크거나 갖다면 이를 그룹으로 설정\n",
    "  - 이와 같은 방법이 최적해를 보장하는 이유는?\n",
    "    - 공포도가 오름차순으로 정렬되어 있어 항상 최소한의 모험가의 수만 포함하여 그룹을 결성하게되므로 그룹의 수는 최대가됨"
   ]
  },
  {
   "cell_type": "code",
   "execution_count": 3,
   "metadata": {},
   "outputs": [
    {
     "name": "stdout",
     "output_type": "stream",
     "text": [
      "2\n"
     ]
    }
   ],
   "source": [
    "## 그리디 문제 4 예시\n",
    "n = int(input())\n",
    "data = list(map(int, input().split()))\n",
    "data.sort()\n",
    "\n",
    "result = 0  # 총 그룹의 수\n",
    "count = 0  # 현재 그룹에 포함된 모험가의 수\n",
    "\n",
    "for i in data:  # 공포도를 낮은 것부터 하나씩 확인\n",
    "    count += 1  # 현재 그룹에 해당 모험가를 포함\n",
    "    if count >= i:  # 현재 그룹에 포함된 모험가의 수가 현재의 공포도 이상이라면, 그룹 결성\n",
    "        result += 1  # 총 그룹의 수 증가\n",
    "        count = 0  # 현재 그룹에 포함된 모험가의 수 초기화\n",
    "\n",
    "print(result)"
   ]
  },
  {
   "attachments": {},
   "cell_type": "markdown",
   "metadata": {},
   "source": [
    "### 구현\n",
    "  - 머릿속에 있는 알고리즘을 소스코드로 바꾸는 과정\n",
    "  - 알고리즘 대회에서 구현유형의 문제는?\n",
    "    - 풀이를 떠올리는 것은 쉽지만 코드로 옮기기 어려운 문제\n",
    "  - ex)\n",
    "    - 알고리즘은 간단한데 코드가 지나칠만큼 길어지는 문제\n",
    "    - 실수 연산을 다루고, 특정 소수점 자리까지 출력해야 하는 문제\n",
    "    - 문자열을 특정한 기준에 따라서 끊어 처리해야 하는 문제\n",
    "    - 적절한 라이브러리를 찾아서 사용해야 하는 문제\n",
    "  - 일반적으로 알고리즘 문제에서의 2차원 공간은 행렬의 의미로 사용\n",
    "    - 시뮬레이션 및 완전탐색 문제에서는 2차원 공간에서의 방향벡터가 자주 활용\n"
   ]
  },
  {
   "attachments": {},
   "cell_type": "markdown",
   "metadata": {},
   "source": [
    "#### 문제 1) 상하좌우\n",
    "  - 여행가 A는 N * N 크기의 정사각형 공간위에 서있음. 이 공간은 1 X 1 크기의 정사각형으로 나누어져 있는데 가장 왼쪽 위 좌표는 (1,1), 가장 오른쪽 아래 좌표는 (N, N). A는 상, 하, 좌, 우 방향으로 이동할 수 있으며, 시작 좌표는 항상 (1, 1)\n",
    "  - A는 계획서에 따라 이동하는데 계획서는 하나의 줄에 띄어쓰기를 기준으로 L, R, U, D중 하나의 문자가 반복적으로 적혀있으며 각 문자의 의미는 왼쪽, 오른쪽, 위, 아래로 한칸 이동\n",
    "  - 이때 여행가 A가 N * N 크기의 공간을 벗어나는 움직임은 무시"
   ]
  },
  {
   "cell_type": "code",
   "execution_count": null,
   "metadata": {},
   "outputs": [],
   "source": [
    "## 구현 문제 1 예시\n",
    "n = int(input())\n",
    "x, y = 1, 1\n",
    "plans = input().split()\n",
    "\n",
    "# L, R, U, D에 따른 이동 방향\n",
    "dx = [0, 0, -1, 1]\n",
    "dy = [-1, 1, 0, 0]\n",
    "move_types = ['L', 'R', 'U', 'D']\n",
    "\n",
    "# 이동 계획을 하나씩 확인하기\n",
    "for plan in plans:\n",
    "    # 이동 후 좌표 구하기\n",
    "    for i in range(len(move_types)):\n",
    "        if plan == move_types[i]:\n",
    "            nx = x + dx[i]\n",
    "            ny = y + dy[i]\n",
    "        # 공간을 벗어나는 경우 무시\n",
    "        if nx < 1 or ny < 1 or nx > n or ny > n:\n",
    "            continue\n",
    "    # 이동 수행\n",
    "    x, y = nx, ny\n",
    "\n",
    "print(x, y)"
   ]
  },
  {
   "attachments": {},
   "cell_type": "markdown",
   "metadata": {},
   "source": [
    "#### 문제 2) 시각\n",
    "  - 정수 N이 입력되면 00시 00분 00초부터 N시 59분 59초까지의 모든 시간중에서 3이 하나라도 포함되는 모든 경우의 수를 구하는 문제\n",
    "  - 이 문제는 대표적인 완전탐색 문제유형으로 가능한 모든 시간의 경우를 하나씩 세서 풀 수 있는 문제\n",
    "  - 단순히 시간을 1씩 증가시키며 3이 하나라도 포함되어 있는지 확인"
   ]
  },
  {
   "cell_type": "code",
   "execution_count": 1,
   "metadata": {},
   "outputs": [
    {
     "name": "stdout",
     "output_type": "stream",
     "text": [
      "4725\n"
     ]
    }
   ],
   "source": [
    "## 구현 문제 2 예시\n",
    "\n",
    "# 시간 입력받기\n",
    "h = int(input())\n",
    "\n",
    "count = 0\n",
    "for i in range(h+1):\n",
    "    for j in range(60):\n",
    "        for k in range(60):\n",
    "            # 매 시간안에 '3'이 포함되어 있다면 카운트 증가\n",
    "            if '3' in str(i) + str(j) + str(k):\n",
    "                count += 1\n",
    "\n",
    "print(count)"
   ]
  },
  {
   "attachments": {},
   "cell_type": "markdown",
   "metadata": {},
   "source": [
    "#### 문제 3) 체스판 나이트\n",
    "  - 8 X 8 좌표평면에서 나이트말이 이동할 수 있는 경우의 수 출력,\n",
    "  위치를 표현할 때는 1부터 8로 표현하며 열 위치를 표현할 때는 a부터 h로 표현"
   ]
  },
  {
   "cell_type": "code",
   "execution_count": 4,
   "metadata": {},
   "outputs": [
    {
     "name": "stdout",
     "output_type": "stream",
     "text": [
      "3\n"
     ]
    }
   ],
   "source": [
    "## 구현 문제 3 예시\n",
    "\n",
    "# 현재 나이트의 위치 입력받기\n",
    "input_data = input()\n",
    "row = int(input_data[1])\n",
    "col = int(ord(input_data[0])) - int(ord('a')) + 1\n",
    "\n",
    "# 나이트가 이동할 수 있는 8가지 방향 정의\n",
    "steps = [(-2, -1), (-1, -2), (1, -2), (2, -1), (2, 1), (1, 2), (-1, 2), (-2, 1)]\n",
    "\n",
    "# 8가지 방향에 대하여 각 위치로 이동이 가능한지 확인\n",
    "result = 0\n",
    "for step in steps:\n",
    "    # 이동하고자 하는 위치 확인\n",
    "    next_row = row + step[0]\n",
    "    next_col = col + step[1]\n",
    "    # 해당 위치로 이동이 가능하다면 카운트 증가\n",
    "    if next_row >= 1 and next_row <= 8 and next_col >= 1 and next_col <= 8:\n",
    "        result += 1\n",
    "        \n",
    "print(result)"
   ]
  },
  {
   "attachments": {},
   "cell_type": "markdown",
   "metadata": {},
   "source": [
    "#### 문제 4) 문자열 재정렬\n",
    "  - 알파벳 대문자와 숫자(0~9)로만 구성된 문자열을 알파벳은 오름차순으로 정렬하고 그 뒤에 모든 숫자를 더한값을 붙여서 출력\n",
    "    - ex) K1KA5CB7 -> ABCKK13\n",
    "  - 문자열이 입력되었을 때 문자를 하나씩 확인\n",
    "    - 숫자인 경우 따로 합계를 계산\n",
    "    - 알파벳은 별도의 리스트에 저장\n",
    "  - 결과적으로 리스트에 저장된 알파벳을 정렬하고 합계를 뒤에 이어붙여 출력"
   ]
  },
  {
   "cell_type": "code",
   "execution_count": 5,
   "metadata": {},
   "outputs": [
    {
     "name": "stdout",
     "output_type": "stream",
     "text": [
      "ABCKK13\n"
     ]
    }
   ],
   "source": [
    "## 구현 문제 4 예시\n",
    "\n",
    "data = input()\n",
    "result = []\n",
    "value = 0\n",
    "\n",
    "for word in data:\n",
    "    # 알파벳인 경우 결과리스트에 삽입\n",
    "    if word.isalpha():\n",
    "        result.append(word)\n",
    "    # 숫자는 따로 더하기\n",
    "    else:\n",
    "        value += int(word)\n",
    "\n",
    "result.sort()\n",
    "\n",
    "if value != 0:\n",
    "    result.append(str(value))\n",
    "    \n",
    "print(''.join(result))"
   ]
  },
  {
   "attachments": {},
   "cell_type": "markdown",
   "metadata": {},
   "source": [
    "### DFS & BFS"
   ]
  },
  {
   "attachments": {},
   "cell_type": "markdown",
   "metadata": {},
   "source": [
    "#### DFS(Depth-First Search) 깊이 우선 탐색\n",
    "  - DFS는 그래프에서 깊은 부분을 우선적으로 탐색하는 알고리즘\n",
    "  - DFS는 스택 자료구조(or 재귀함수)를 이용하며, 구체적인 동작과정은 다음과 같음\n",
    "    1. 탐색 시작 노드를 스택에 삽입하고 방문처리\n",
    "    2. 스택의 최상단 노드에 방문하지 않은 인접한 노드가 하나라도 있으면 그 노드를 스택에 넣고 방문처리. 방문하지 않은 인접노드가 없으면 스택에서 최상단 노드를 꺼냄\n",
    "    3. 2번의 과정을 수행할 수 없을 때까지 반복"
   ]
  },
  {
   "cell_type": "code",
   "execution_count": 2,
   "metadata": {},
   "outputs": [
    {
     "name": "stdout",
     "output_type": "stream",
     "text": [
      "1 2 7 6 8 3 4 5 "
     ]
    }
   ],
   "source": [
    "## DFS 예제\n",
    "\n",
    "# DFS 메서드 정의\n",
    "def dfs(graph, v, visited):\n",
    "    # 현재 노드를 방문처리\n",
    "    visited[v] = True\n",
    "    print(v, end=' ')\n",
    "    # 현재 노드와 연결된 다른 노드를 재귀적으로 방문\n",
    "    for i in graph[v]:\n",
    "        if not visited[i]:\n",
    "            dfs(graph, i, visited)\n",
    "\n",
    "# 각 노드가 연결된 정보를 표현(그래프를 2차원 리스트로)\n",
    "graph = [\n",
    "    [],   # 단순히 노드번호를 1번으로 맞추기 위해 빈 리스트를 설정\n",
    "    [2, 3, 8],\n",
    "    [1, 7],\n",
    "    [1, 4, 5],\n",
    "    [3, 5],\n",
    "    [3, 4],\n",
    "    [7],\n",
    "    [2, 6, 8],\n",
    "    [1, 7]\n",
    "]\n",
    "\n",
    "# 각 노드가 방문된 정보를 표현 (1차원 리스트)\n",
    "visited = [False] * 9\n",
    "\n",
    "# 정의된 DFS 함수 호출\n",
    "dfs(graph, 1, visited)"
   ]
  },
  {
   "attachments": {},
   "cell_type": "markdown",
   "metadata": {},
   "source": [
    "#### BFS(Breadth-First Search) 너비 우선 탐색\n",
    "  - BFS는 그래프에서 가까운 노드부터 우선적으로 탐색하는 알고리즘\n",
    "  - BFS는 큐 자료구조를 이용하며 동작과정은 다음과 같음\n",
    "    1. 탐색 시작 노드를 큐에 삽입하고 방문처리\n",
    "    2. 큐에서 노드를 꺼낸 뒤에 해당 노드의 인접 노드 중에서 방문하지 않은 노드를 모두 큐에 삽입하고 방문처리\n",
    "    3. 2번의 과정을 수행할 수 없을 때까지 반복"
   ]
  },
  {
   "cell_type": "code",
   "execution_count": 1,
   "metadata": {},
   "outputs": [
    {
     "name": "stdout",
     "output_type": "stream",
     "text": [
      "1 2 3 8 7 4 5 6 "
     ]
    }
   ],
   "source": [
    "## BFS 예제\n",
    "\n",
    "from collections import deque\n",
    "\n",
    "# BFS 메서드 정의\n",
    "def bfs(graph, start, visited):\n",
    "    # 큐(Queue) 구현을 위해 deque 라이브러리 사용\n",
    "    queue = deque([start])\n",
    "    #현재 노드를 방문처리\n",
    "    visited[start] = True\n",
    "    # 큐가 빌 때까지 반복\n",
    "    while queue:\n",
    "        # 큐에서 하나의 원소를 뽑아 출력\n",
    "        v = queue.popleft()\n",
    "        print(v, end=' ')\n",
    "        # 아직 방문하지 않은 인접노드를 큐에 삽입\n",
    "        for i in graph[v]:\n",
    "            if not visited[i]:\n",
    "                queue.append(i)\n",
    "                visited[i] = True\n",
    "\n",
    "# 각 노드가 연결된 정보를 표현(그래프를 2차원 리스트로)\n",
    "graph = [\n",
    "    [],   # 단순히 노드번호를 1번으로 맞추기 위해 빈 리스트를 설정\n",
    "    [2, 3, 8],\n",
    "    [1, 7],\n",
    "    [1, 4, 5],\n",
    "    [3, 5],\n",
    "    [3, 4],\n",
    "    [7],\n",
    "    [2, 6, 8],\n",
    "    [1, 7]\n",
    "]\n",
    "\n",
    "# 각 노드가 방문된 정보를 표현 (1차원 리스트)\n",
    "visited = [False] * 9\n",
    "\n",
    "# 정의된 BFS 함수 호출\n",
    "bfs(graph, 1, visited)"
   ]
  },
  {
   "attachments": {},
   "cell_type": "markdown",
   "metadata": {},
   "source": [
    "#### DFS & BFS 문제 1) 아이스크림 만들기\n",
    "  - N X M 크기의 얼음틀에 구명이 뚫려있는 부분은 0, 칸막이가 존재하는 부분은 1로 표시, 구명이 뚫려있는 부분끼리 상, 하, 좌, 우로 붙어있는 경우 서로 연결되어 있는것으로 간주. 이때 얼음틀의 모양이 주어졌을때 생성되는 총 아이스크림의 갯수는?\n",
    "    - ex) 4x5 얼음틀에서 \n",
    "    00110\n",
    "    00011\n",
    "    11111\n",
    "    00000\n",
    "    와 같은 얼음틀이 있을때 생성되는 아이스크림은 총 3개"
   ]
  },
  {
   "cell_type": "code",
   "execution_count": 3,
   "metadata": {},
   "outputs": [
    {
     "name": "stdout",
     "output_type": "stream",
     "text": [
      "3\n"
     ]
    }
   ],
   "source": [
    "# DFS로 특정 노드를 방문하고 연결된 모든 노드들도 방문\n",
    "def dfs(x, y):\n",
    "    # 주어진 범위를 벗어나는 경우에는 즉시 종료\n",
    "    if x<=-1 or x >= n or y <= -1 or y >= m:\n",
    "        return False\n",
    "    # 현재 노드를 아직 방문하지 않았다면\n",
    "    if graph[x][y] == 0:\n",
    "        # 해당 노드를 방문처리\n",
    "        graph[x][y] = 1\n",
    "        # 상, 하, 좌, 우의 위치들도 재귀적으로 호출\n",
    "        dfs(x-1, y)\n",
    "        dfs(x+1, y)\n",
    "        dfs(x, y-1)\n",
    "        dfs(x, y+1)\n",
    "        return True\n",
    "    return False\n",
    "\n",
    "# n, m을 공백을 기준으로 구분하여 입력받기\n",
    "n, m = map(int, input().split())\n",
    "\n",
    "# 2차원 리스트의 맵 정보 입력받기\n",
    "graph = []\n",
    "for i in range(n):\n",
    "    graph.append(list(map(int, input())))\n",
    "    \n",
    "# 모든 노드에 대하여 음료수 채우기\n",
    "result = 0\n",
    "for i in range(n):\n",
    "    for j in range(m):\n",
    "        # 현재 위치에서 DFS 수행\n",
    "        if dfs(i, j) == True:\n",
    "            result += 1\n",
    "            \n",
    "print(result)"
   ]
  },
  {
   "attachments": {},
   "cell_type": "markdown",
   "metadata": {},
   "source": [
    "#### DFS & BFS 문제 2) 미로탈출\n",
    "  - N X M 크기의 직사각형 형태의 미로에서 탈출\n",
    "  - 현재 위치는 (1, 1)이며 미로의 출구는 (N, M)에 위치하며 한 번에 한 칸씩만 이동 이때 막혀있는 길은 0으로, 갈 수 있는 길은 1로 표시될때 움직여야 하는 최소 칸의 개수는?(단, 칸을 셀때는 시작칸과 마지막 칸을 모두 포함해서 계산)"
   ]
  },
  {
   "cell_type": "code",
   "execution_count": null,
   "metadata": {},
   "outputs": [],
   "source": [
    "# BFS\n",
    "from collections import deque\n",
    "\n",
    "def bfs(x, y):\n",
    "    # 큐(Queue) 구현을 위해 deque 라이브러리 사용\n",
    "    queue = deque()\n",
    "    queue.append((x, y))\n",
    "    while queue:\n",
    "        x, y = queue.popleft()\n",
    "        # 현재 위치에서 4가지 방향으로의 위치 확인\n",
    "        for i in range(4):\n",
    "            nx = x + dx[i]\n",
    "            ny = y + dy[i]\n",
    "            # 미로 찾기 공간을 벗어난 경우 무시\n",
    "            if nx < 0 or nx >= n or ny < 0 or ny >= m:\n",
    "                continue\n",
    "            # 벽인 경우 무시\n",
    "            if graph[nx][ny] == 0:\n",
    "                continue\n",
    "            # 해당 노드를 처음 방문하는 경우에만 최단 거리 기록\n",
    "            if graph[nx][ny] == 1:\n",
    "                graph[nx][ny] = graph[nx][ny] + 1\n",
    "                queue.append((nx, ny))\n",
    "    # 가장 오른쪽 아래까지의 최단 거리 반환\n",
    "    return graph[n-1][m-1]\n",
    "\n",
    "# N, M을 공백을 기준으로 구분하여 입력받기\n",
    "n, m = map(int, input().split())\n",
    "# 2차원 리스트의 맵 정보 입력 받기\n",
    "graph = []\n",
    "for i in range(n):\n",
    "    graph.append(list(map(int, input())))\n",
    "    \n",
    "# 이동할 4가지 방향 정의 (상, 하, 좌, 우)\n",
    "dx = [-1, 1, 0, 0]\n",
    "dy = [0, 0, -1, 1]\n",
    "\n",
    "# BFS를 수행한 결과 출력\n",
    "print(bfs(0,0))"
   ]
  },
  {
   "attachments": {},
   "cell_type": "markdown",
   "metadata": {},
   "source": [
    "### 정렬\n",
    "  - 정렬이란 데이터를 특정한 기준에 따라 순서대로 나열하는것\n",
    "  - 일반적으로 문제 상황에 따라서 적절한 정렬 알고리즘이 공식처럼 사용\n",
    "  "
   ]
  },
  {
   "attachments": {},
   "cell_type": "markdown",
   "metadata": {},
   "source": [
    "#### 선택정렬\n",
    "  - 처리되지 않은 데이터 중에서 가장 작은 데이터를 선택해 맨 앞에 있는 데이터와 바꾸는 것을 반복\n",
    "  - 선택정렬은 N번 만큼 가장 작은 수를 찾아서 맨 앞으로 보내야하므로 시간 복잡도는 O(N^2)가됨"
   ]
  },
  {
   "cell_type": "code",
   "execution_count": 1,
   "metadata": {},
   "outputs": [
    {
     "name": "stdout",
     "output_type": "stream",
     "text": [
      "[0, 1, 2, 3, 4, 5, 6, 7, 8, 9]\n"
     ]
    }
   ],
   "source": [
    "# 선택정렬 예시\n",
    "array = [7, 5, 9, 0, 3, 1, 6, 2, 4, 8]\n",
    "\n",
    "for i in range(len(array)):\n",
    "    min_index = i  # 가장 작은 원소의 인덱스\n",
    "    for j in range(i+1, len(array)):\n",
    "        if array[min_index] > array[j]:\n",
    "            min_index = j\n",
    "    # 스와프\n",
    "    array[i], array[min_index] = array[min_index], array[i]\n",
    "    \n",
    "print(array)"
   ]
  },
  {
   "attachments": {},
   "cell_type": "markdown",
   "metadata": {},
   "source": [
    "#### 삽입정렬\n",
    "  - 처리되지 않은 데이터를 하나씩 골라 적절한 위치에 삽입\n",
    "  - 선택 정렬에 비해 구현 난이도는 높지만 일반적으로 더 효율적으로 동작\n",
    "  - 삽입정렬의 시간복잡도는 O(N^2)이며 선택정렬과 마찬가지로 반복문이 두번 중첩되어 사용\n",
    "  - 삽입정렬은 현재 리스트의 데이터가 거의 정렬되어 있는 상태라면 매우 빠르게 동작\n",
    "    - 최선의 경우 O(N)의 시간 복잡도를 가짐"
   ]
  },
  {
   "cell_type": "code",
   "execution_count": 3,
   "metadata": {},
   "outputs": [
    {
     "name": "stdout",
     "output_type": "stream",
     "text": [
      "[0, 1, 2, 3, 4, 5, 6, 7, 8, 9]\n"
     ]
    }
   ],
   "source": [
    "# 삽입정렬 예시\n",
    "array = [7, 5, 9, 0, 3, 1, 6, 2, 4, 8]\n",
    "\n",
    "for i in range(1, len(array)):\n",
    "    for j in range(i, 0, -1):  # 인덱스 i부터 1까지 1씩 감소하며 반복\n",
    "        if array[j] < array[j-1]:\n",
    "            array[j], array[j-1] = array[j-1], array[j]\n",
    "        else:   # 자기보다 작은 데이터를 만나면 그 위치에서 멈춤\n",
    "            break\n",
    "\n",
    "print(array)"
   ]
  },
  {
   "attachments": {},
   "cell_type": "markdown",
   "metadata": {},
   "source": [
    "#### 퀵정렬\n",
    "  - 기준 데이터를 설정하고 그 기준보다 큰 데이터와 작은 데이터의 위치를 바꾸는 방법\n",
    "  - 일반적인 상황에서 가장 많이 사용되는 정렬 알고리즘 중 하나\n",
    "  - 병합 정렬과 더불어 대부분의 프로그래밍 언어의 정렬 라이브러리의 근간이 되는 알고리즘. 과정은 다음과 같음\n",
    "    - 가장 기본적인 퀵 정렬은 첫 번째 데이터를 기준 데이터(Pivot)로 설정\n",
    "    - Pivot 설정 후 Pivot보다 작은값(오른쪽에서부터 시작)과 큰값(왼쪽에서부터 시작)의 위치를 서로 변경\n",
    "    - 같은 과정을 반복후 작은값과 큰값이 서로 교차하면 작은값과 Pivot값의 위치를 변경\n",
    "    - 그러면 Pivot 값을 기준으로 왼쪽은 Pivot보다 작은값이 오른쪽은 Pivot보다 큰 값으로 나뉘게 되는데 이렇게 Pivot을 기준으로 데이터 묶음을 나누는 작업을 분할(Divide)라고함\n",
    "    - 분할 후 왼쪽묶음과 오른쪽묶음에 대해 각각 퀵정렬을 다시 시행\n",
    "    - 따라서 퀵정렬은 재귀함수 형태를 띔\n",
    "  - 이상적인 경우 분할이 절반씩 일어난다면 시간복잡도는 O(NlogN)이 됨. 최악의 경우에는 O(N^2)의 시간복잡도를 가짐"
   ]
  },
  {
   "cell_type": "code",
   "execution_count": 19,
   "metadata": {},
   "outputs": [
    {
     "name": "stdout",
     "output_type": "stream",
     "text": [
      "[0, 1, 2, 3, 4, 5, 6, 7, 8, 9]\n"
     ]
    }
   ],
   "source": [
    "# 퀵정렬 예시\n",
    "array = [5, 7, 9, 0, 3, 1, 6, 2, 4, 8]\n",
    "\n",
    "def quick_sort(array, start, end):\n",
    "    if start >= end:   # 원소가 1개인 경우 종료\n",
    "        return\n",
    "    pivot = start   # 피벗은 첫 번째 원소\n",
    "    left = start + 1\n",
    "    right = end\n",
    "    while(left <= right):\n",
    "        # 피벗보다 큰 데이터를 찾을 때까지 반복\n",
    "        while(left <= end and array[left] <= array[pivot]):\n",
    "            left += 1\n",
    "        # 피벗보다 작은 데이터를 찾을 때가지 반복\n",
    "        while(right > start and array[right] >= array[pivot]):\n",
    "            right -= 1\n",
    "        if(left > right):  # 엇갈렷다면 작은 데이터와 피벗을 교체\n",
    "            array[right], array[pivot] = array[pivot], array[right]\n",
    "        else:   # 엇갈리지 않았다면 작은 데이터와 큰 데이터를 교체\n",
    "            array[left], array[right] = array[right], array[left]\n",
    "        \n",
    "    # 분할 이후 왼쪽 부분과 오른쪽 부분에서 각각 정렬 수행\n",
    "    quick_sort(array, start, right - 1)\n",
    "    quick_sort(array, right + 1, end)\n",
    "    \n",
    "quick_sort(array, 0, len(array)-1)\n",
    "print(array)"
   ]
  },
  {
   "cell_type": "code",
   "execution_count": 1,
   "metadata": {},
   "outputs": [
    {
     "name": "stdout",
     "output_type": "stream",
     "text": [
      "[0, 1, 2, 3, 4, 5, 6, 7, 8, 9]\n"
     ]
    }
   ],
   "source": [
    "# 퀵정렬 예시2(좀 더 간단하게)\n",
    "array = [5, 7, 9, 0, 3, 1, 6, 2, 4, 8]\n",
    "\n",
    "def quick_sort2(array):\n",
    "    # 리스트가 하나 이하의 원소만 담고있다면 종료\n",
    "    if len(array) <= 1:\n",
    "        return array\n",
    "    pivot = array[0]   # 피벗은 첫번째 원소\n",
    "    tail = array[1:]   # 피벗을 제외한 리스트\n",
    "    \n",
    "    left_side = [x for x in tail if x <= pivot]   # 분할된 왼쪽 부분\n",
    "    right_side = [x for x in tail if x > pivot]   # 분할된 오른쪽 부분\n",
    "    \n",
    "    return quick_sort2(left_side) + [pivot] + quick_sort2(right_side)\n",
    "\n",
    "print(quick_sort2(array))"
   ]
  },
  {
   "attachments": {},
   "cell_type": "markdown",
   "metadata": {},
   "source": [
    "#### 계수정렬\n",
    "  - 특정한 조건이 부합할 때만 사용할 수 있지만 매우 빠르게 동작하는 알고리즘\n",
    "    - 계수 정렬은 데이터의 크기 범위가 제한되어 정수 형태로 표현할 수 있을때 사용가능\n",
    "  - 데이터의 개수가 N, 데이터(양수)중 최댓값이 K일때 최악의 경우에도 수행시간 O(N+K)를 보장\n",
    "  - 과정은 다음과 같음\n",
    "    - 가장 작은 데이터부터 가장 큰 데이터까지의 범위가 모두 담길 수 있도록 리스트를 생성\n",
    "      - ex) 데이터의 범위가 0~9라면 인덱스번호가 9까지 존재하는 리스트를 생성\n",
    "    - 데이터를 하나씩 확인하며 데이터의 값과 동일한 인덱스의 리스트값을 1씩 증가\n",
    "    - 모든 데이터값에 반복하면 결과적으로 최종 리스트에는 각 데이터가 몇번씩 등장했는지 횟수가 기록됨\n",
    "    - 결과를 확인할 때는 리스트의 첫번째 데이터부터 하나씩 그 값만큼 인덱스를 반복하여 출력\n",
    "  - 계수정렬은 때에 따라서 심각한 비효율성을 초래할 수도 있음\n",
    "    - 만약 데이터가 0과 999,999로 단 2개만 존재한다면?\n",
    "  - 계수정렬은 동일한 값을 가지는 데이터가 여러 개 등장할 때 효과적으로 사용가능\n",
    "  "
   ]
  },
  {
   "cell_type": "code",
   "execution_count": 2,
   "metadata": {},
   "outputs": [
    {
     "name": "stdout",
     "output_type": "stream",
     "text": [
      "0 0 1 1 2 2 3 4 5 5 6 7 8 9 9 "
     ]
    }
   ],
   "source": [
    "# 계수정렬 예시\n",
    "# 모든 원소의 값이 0보다 크다고 가정\n",
    "array = [7, 5, 9, 0, 3, 1, 6, 2, 9, 1, 4, 8, 0, 5, 2]\n",
    "# 모든 범위를 포함하는 리스트 선언(모든 값은 0으로 초기화)\n",
    "count = [0] * (max(array) + 1)\n",
    "\n",
    "for i in range(len(array)):\n",
    "    count[array[i]] += 1   # 각 데이터에 해당하는 인덱스의 값 증가\n",
    "\n",
    "for i in range(len(count)):   # 리스트에 기록된 정렬 정보 확인\n",
    "    for j in range(count[i]):\n",
    "        print(i, end=' ')   # 띄어쓰기를 구분으로 등장한 횟수만큼 인덱스 출력\n",
    "\n"
   ]
  },
  {
   "attachments": {},
   "cell_type": "markdown",
   "metadata": {},
   "source": [
    "#### 정렬 알고리즘 비교\n",
    "  - 선택정렬: O(N^2), O(N)의 시간, 공간 복잡도, 아이디어가 매우 간단\n",
    "  - 삽입정렬: O(N^2), O(N)의 시간, 공간 복잡도, 데이터가 거의 정렬되어 있다면 가장 빠른 속도\n",
    "  - 퀵정렬: O(NlogN), O(N)의 시간, 공간 복잡도, 대부분의 경우에 가장 적합하며 충분히 빠름\n",
    "  - 계수정렬: O(N + K), O(N + K)의 시간, 공간 복잡도, 데이터의 크기가 한정되어 있는 경우에만 사용이 가능하지만 매우 빠름\n",
    "  - 추가적으로 대부분의 프로그래밍 언어에서 지원하는 표준 정렬 라이브러리는 최악의 경우에도 O(NlogN)을 보장하도록 설계되어 있음"
   ]
  },
  {
   "attachments": {},
   "cell_type": "markdown",
   "metadata": {},
   "source": [
    "#### 문제 1) 두 배열의 원소 교체\n",
    "  - 두 개의 배열 A와 B가 있을때 두 배열은 N개의 원소로 구성되어 있으며 배열의 원소는 모두 자연수\n",
    "  - 최대 K번의 바꿔치기 연산을 수행가능, 바꿔치기 연산이란 배열 A에 있는 원소 하나와 배열 B에 있는 원소 하나를 골라서 두 원소를 서로 바꾸는것\n",
    "  - 최종 목표는 배열 A의 모든 원소의 합이 최대가 되도록 하는 것\n",
    "  - N, K 그리고 배열 A와 B의 정보가 주어졌을 때, 최대 K번의 바꿔치기 연산을 수행하여 만들 수 있는 배열 A의 모든 원소의 합의 최댓값은? "
   ]
  },
  {
   "cell_type": "code",
   "execution_count": null,
   "metadata": {},
   "outputs": [],
   "source": [
    "n, k = map(int, input().split())\n",
    "a = list(map(int, input().split()))\n",
    "b = list(map(int, input().split()))\n",
    "\n",
    "a.sort()\n",
    "b.sort(reverse=True)\n",
    "\n",
    "for i in range(k):\n",
    "    if a[i] < b[i]:\n",
    "        a[i], b[i] = b[i], a[i]\n",
    "    else:\n",
    "        break\n",
    "\n",
    "print(sum(a))"
   ]
  }
 ],
 "metadata": {
  "kernelspec": {
   "display_name": "kdig",
   "language": "python",
   "name": "python3"
  },
  "language_info": {
   "codemirror_mode": {
    "name": "ipython",
    "version": 3
   },
   "file_extension": ".py",
   "mimetype": "text/x-python",
   "name": "python",
   "nbconvert_exporter": "python",
   "pygments_lexer": "ipython3",
   "version": "3.9.7"
  },
  "orig_nbformat": 4,
  "vscode": {
   "interpreter": {
    "hash": "79235f3c426277640c9689d2572c47b913f40843195eeba115616b689febf123"
   }
  }
 },
 "nbformat": 4,
 "nbformat_minor": 2
}
