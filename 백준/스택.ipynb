{
 "cells": [
  {
   "cell_type": "code",
   "execution_count": 9,
   "metadata": {},
   "outputs": [
    {
     "name": "stdout",
     "output_type": "stream",
     "text": [
      "2\n",
      "2\n",
      "0\n",
      "2\n",
      "1\n",
      "-1\n",
      "0\n",
      "1\n",
      "-1\n",
      "0\n",
      "3\n"
     ]
    }
   ],
   "source": [
    "## 10828번\n",
    "import sys\n",
    "from collections import deque\n",
    "stack = deque()\n",
    "# input = sys.stdin.readline\n",
    "\n",
    "n = int(input())\n",
    "order = []\n",
    "\n",
    "for _ in range(n):\n",
    "    order.append(input().split())\n",
    "\n",
    "for order in order:\n",
    "    if order[0] == 'push':\n",
    "        stack.append(order[1])\n",
    "    elif order[0] == 'pop':\n",
    "        try:\n",
    "            print(stack[-1])\n",
    "            stack.pop()\n",
    "        except:\n",
    "            print(-1)\n",
    "    elif order[0] == 'size':\n",
    "        print(len(stack))\n",
    "    elif order[0] == 'empty':\n",
    "        if len(stack) == 0:\n",
    "            print(1)\n",
    "        else:\n",
    "            print(0)\n",
    "    if order[0] == 'top':\n",
    "        try:\n",
    "            print(stack[-1])\n",
    "        except:\n",
    "            print(-1)"
   ]
  },
  {
   "cell_type": "code",
   "execution_count": 12,
   "metadata": {},
   "outputs": [
    {
     "name": "stdout",
     "output_type": "stream",
     "text": [
      "7\n"
     ]
    }
   ],
   "source": [
    "## 10773번\n",
    "import sys\n",
    "from collections import deque\n",
    "\n",
    "# input = sys.stdin.readline\n",
    "stack = deque()\n",
    "\n",
    "n = int(input())\n",
    "for _ in range(n):\n",
    "    num = int(input())\n",
    "    if num == 0:\n",
    "        stack.pop()\n",
    "    else:\n",
    "        stack.append(num)\n",
    "\n",
    "print(sum(stack))"
   ]
  },
  {
   "cell_type": "code",
   "execution_count": null,
   "metadata": {},
   "outputs": [],
   "source": []
  }
 ],
 "metadata": {
  "kernelspec": {
   "display_name": "kdig",
   "language": "python",
   "name": "python3"
  },
  "language_info": {
   "codemirror_mode": {
    "name": "ipython",
    "version": 3
   },
   "file_extension": ".py",
   "mimetype": "text/x-python",
   "name": "python",
   "nbconvert_exporter": "python",
   "pygments_lexer": "ipython3",
   "version": "3.9.7"
  },
  "orig_nbformat": 4
 },
 "nbformat": 4,
 "nbformat_minor": 2
}
