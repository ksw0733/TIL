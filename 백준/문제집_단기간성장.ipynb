{
 "cells": [
  {
   "cell_type": "code",
   "execution_count": null,
   "metadata": {},
   "outputs": [],
   "source": [
    "## 12865번\n",
    "n, k = map(int, input().split())\n",
    "\n",
    "thing = [[0,0]]\n",
    "d = [[0]*(k+1) for _ in range(n+1)]\n",
    "\n",
    "for i in range(n):\n",
    "    thing.append(list(map(int, input().split())))\n",
    "\n",
    "for i in range(1, n+1):\n",
    "    for j in range(1, k+1):\n",
    "        w = thing[i][0]\n",
    "        v = thing[i][1]\n",
    "\n",
    "        if j < w:\n",
    "            d[i][j] = d[i-1][j]\n",
    "        else:\n",
    "            d[i][j] = max(d[i-1][j], d[i-1][j-w]+v)\n",
    "\n",
    "print(d[n][k])"
   ]
  },
  {
   "cell_type": "code",
   "execution_count": null,
   "metadata": {},
   "outputs": [],
   "source": [
    "## 1655번\n",
    "import heapq\n",
    "import sys\n",
    "\n",
    "n = int(sys.stdin.readline())\n",
    "\n",
    "leftHeap = []\n",
    "rightHeap = []\n",
    "for i in range(n):\n",
    "    num = int(sys.stdin.readline())\n",
    "\n",
    "    if len(leftHeap) == len(rightHeap):\n",
    "        heapq.heappush(leftHeap, -num)\n",
    "    else:\n",
    "        heapq.heappush(rightHeap, num)\n",
    "\n",
    "    if rightHeap and rightHeap[0] < -leftHeap[0]:\n",
    "        leftValue = heapq.heappop(leftHeap)\n",
    "        rightValue = heapq.heappop(rightHeap)\n",
    "\n",
    "        heapq.heappush(leftHeap, -rightValue)\n",
    "        heapq.heappush(rightHeap, -leftValue)\n",
    "\n",
    "    print(-leftHeap[0])"
   ]
  },
  {
   "cell_type": "code",
   "execution_count": null,
   "metadata": {},
   "outputs": [],
   "source": []
  }
 ],
 "metadata": {
  "kernelspec": {
   "display_name": "Python 3.9.7 ('kdig')",
   "language": "python",
   "name": "python3"
  },
  "language_info": {
   "name": "python",
   "version": "3.9.7"
  },
  "orig_nbformat": 4,
  "vscode": {
   "interpreter": {
    "hash": "79235f3c426277640c9689d2572c47b913f40843195eeba115616b689febf123"
   }
  }
 },
 "nbformat": 4,
 "nbformat_minor": 2
}
