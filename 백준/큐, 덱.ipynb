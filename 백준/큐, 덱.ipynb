{
 "cells": [
  {
   "cell_type": "code",
   "execution_count": 3,
   "metadata": {},
   "outputs": [
    {
     "name": "stdout",
     "output_type": "stream",
     "text": [
      "1\n",
      "2\n",
      "2\n",
      "0\n",
      "1\n",
      "2\n",
      "-1\n",
      "0\n",
      "1\n",
      "-1\n",
      "0\n",
      "3\n"
     ]
    }
   ],
   "source": [
    "## 18258번\n",
    "import sys\n",
    "from collections import deque\n",
    "\n",
    "# input = sys.stdin.readline\n",
    "\n",
    "n = int(input())\n",
    "que = deque()\n",
    "order = []\n",
    "\n",
    "for _ in range(n):\n",
    "    order.append(input().split())\n",
    "\n",
    "for order in order:\n",
    "    if order[0] == 'push':\n",
    "        que.append(order[1])\n",
    "    elif order[0] == 'pop':\n",
    "        try:\n",
    "            print(que.popleft())\n",
    "        except:\n",
    "            print(-1)\n",
    "    elif order[0] == 'size':\n",
    "        print(len(que))\n",
    "    elif order[0] == 'empty':\n",
    "        if len(que) == 0:\n",
    "            print(1)\n",
    "        else:\n",
    "            print(0)\n",
    "    elif order[0] == 'front':\n",
    "        if len(que) == 0:\n",
    "            print(-1)\n",
    "        else:\n",
    "            print(que[0])\n",
    "    else:\n",
    "        if len(que) == 0:\n",
    "            print(-1)\n",
    "        else:\n",
    "            print(que[-1])\n",
    "\n",
    "    "
   ]
  },
  {
   "cell_type": "code",
   "execution_count": 15,
   "metadata": {},
   "outputs": [
    {
     "name": "stdout",
     "output_type": "stream",
     "text": [
      "deque([1, 2, 3, 4, 5, 6])\n",
      "deque([3, 4, 5, 6, 2])\n",
      "deque([5, 6, 2, 4])\n",
      "deque([2, 4, 6])\n",
      "deque([6, 4])\n",
      "4\n"
     ]
    }
   ],
   "source": [
    "## 2164번\n",
    "import sys\n",
    "from collections import deque\n",
    "\n",
    "# input = sys.stdin.readline\n",
    "\n",
    "n = int(input())\n",
    "que = deque()\n",
    "\n",
    "for i in range(1, n+1):\n",
    "    que.append(i)\n",
    "\n",
    "while len(que) > 1:\n",
    "    que.popleft()\n",
    "    que.rotate(-1)\n",
    "    \n",
    "print(que[0])"
   ]
  },
  {
   "cell_type": "code",
   "execution_count": 26,
   "metadata": {},
   "outputs": [
    {
     "name": "stdout",
     "output_type": "stream",
     "text": [
      "<3, 6, 9, 2, 7, 1, 8, 5, 10, 4>\n"
     ]
    }
   ],
   "source": [
    "## 11866번\n",
    "import sys\n",
    "from collections import deque\n",
    "\n",
    "# input = sys.stdin.readline\n",
    "\n",
    "n, k = map(int, input().split())\n",
    "que = deque(i for i in range(1, n+1))\n",
    "res = []\n",
    "\n",
    "while len(que) != 0:\n",
    "    que.rotate(-k+1)\n",
    "    res.append(que.popleft())\n",
    "\n",
    "print('<', end='')\n",
    "for i in range(len(res)-1):\n",
    "    print(\"%d, \"%res[i], end='')\n",
    "print(res[-1], end='')\n",
    "print('>')"
   ]
  },
  {
   "cell_type": "code",
   "execution_count": 27,
   "metadata": {},
   "outputs": [
    {
     "name": "stdout",
     "output_type": "stream",
     "text": [
      "1\n",
      "2\n",
      "5\n"
     ]
    }
   ],
   "source": [
    "## 1966번\n",
    "import sys\n",
    "from collections import deque\n",
    "\n",
    "# input = sys.stdin.readline\n",
    "\n",
    "n = int(input())\n",
    "for i in range(n):\n",
    "    cnt = 0\n",
    "    m, k = map(int, input().split())\n",
    "    que = deque(list(map(int, input().split())))\n",
    "    idx = deque(list(range(m)))\n",
    "    \n",
    "    while que:\n",
    "        if que[0] == max(que):\n",
    "            cnt += 1\n",
    "            que.popleft()\n",
    "            pop_idx = idx.popleft()\n",
    "            if pop_idx == k:\n",
    "                print(cnt)\n",
    "        else:\n",
    "            que.append(que.popleft())\n",
    "            idx.append(idx.popleft())\n",
    "        "
   ]
  },
  {
   "cell_type": "code",
   "execution_count": 29,
   "metadata": {},
   "outputs": [
    {
     "name": "stdout",
     "output_type": "stream",
     "text": [
      "2\n",
      "1\n",
      "2\n",
      "0\n",
      "2\n",
      "1\n",
      "-1\n",
      "0\n",
      "1\n",
      "-1\n",
      "0\n",
      "3\n"
     ]
    }
   ],
   "source": [
    "## 18258번\n",
    "import sys\n",
    "from collections import deque\n",
    "\n",
    "# input = sys.stdin.readline\n",
    "\n",
    "n = int(input())\n",
    "deque = deque()\n",
    "\n",
    "for i in range(n):\n",
    "    order = input().split()\n",
    "\n",
    "    if order[0] == \"push_front\":\n",
    "        deque.appendleft(order[1])\n",
    "    elif order[0] == \"push_back\":\n",
    "        deque.append(order[1])\n",
    "    elif order[0] == \"pop_front\":\n",
    "        if deque:\n",
    "            print(deque[0])    \n",
    "            deque.popleft()\n",
    "        else:\n",
    "            print(\"-1\")\n",
    "    elif order[0] == \"pop_back\":\n",
    "        if deque:\n",
    "            print(deque[len(deque) - 1])    \n",
    "            deque.pop()\n",
    "        else:\n",
    "            print(\"-1\")\n",
    "    elif order[0] == \"size\":\n",
    "        print(len(deque))\n",
    "    elif order[0] == \"empty\":\n",
    "        if deque:\n",
    "            print(\"0\")\n",
    "        else:\n",
    "            print(\"1\")\n",
    "    elif order[0] == \"front\":\n",
    "        if deque:\n",
    "            print(deque[0])\n",
    "        else:\n",
    "            print(\"-1\")\n",
    "    elif order[0] == \"back\":\n",
    "        if deque:\n",
    "            print(deque[len(deque) - 1])\n",
    "        else:\n",
    "            print(\"-1\")\n",
    "    "
   ]
  },
  {
   "cell_type": "code",
   "execution_count": 32,
   "metadata": {},
   "outputs": [
    {
     "name": "stdout",
     "output_type": "stream",
     "text": [
      "14\n"
     ]
    }
   ],
   "source": [
    "## 1021번\n",
    "import sys\n",
    "from collections import deque\n",
    "\n",
    "# input = sys.stdin.readline\n",
    "\n",
    "n, m = map(int, input().split())\n",
    "deque = deque([x for x in range(1, n+1)])\n",
    "position = list(map(int, input().split()))\n",
    "cnt = 0\n",
    "\n",
    "for i in position:\n",
    "    while True:\n",
    "        if deque[0] == i:\n",
    "            deque.popleft()\n",
    "            break\n",
    "        else:\n",
    "            if deque.index(i) < len(deque)/2:\n",
    "                while deque[0] != i:\n",
    "                    deque.rotate(-1)\n",
    "                    cnt += 1\n",
    "            else:\n",
    "                while deque[0] != i:\n",
    "                    deque.rotate(1)\n",
    "                    cnt += 1\n",
    "\n",
    "print(cnt)"
   ]
  },
  {
   "cell_type": "code",
   "execution_count": 70,
   "metadata": {},
   "outputs": [
    {
     "name": "stdout",
     "output_type": "stream",
     "text": [
      "[2,1]\n",
      "error\n",
      "[1,2,3,5,8]\n",
      "error\n"
     ]
    }
   ],
   "source": [
    "## 5430번\n",
    "import sys\n",
    "from collections import deque\n",
    "\n",
    "# input = sys.stdin.readline\n",
    "\n",
    "t = int(input())\n",
    "for _ in range(t):\n",
    "    p = input()\n",
    "    n = int(input())\n",
    "    q = deque(input()[1:-1].split(','))\n",
    "    flag = 0\n",
    "    \n",
    "    if n == 0:\n",
    "        q = []\n",
    "    \n",
    "    for command in p:\n",
    "        if command == 'R':\n",
    "            flag += 1\n",
    "        elif command == 'D':\n",
    "            if len(q) == 0:\n",
    "                print('error')\n",
    "                break\n",
    "            else:\n",
    "                if flag % 2 == 1:\n",
    "                    q.pop()\n",
    "                else:\n",
    "                    q.popleft()\n",
    "    else:\n",
    "        if flag % 2 == 1:\n",
    "            q.reverse()\n",
    "        print('[' + ','.join(q) + ']')"
   ]
  },
  {
   "cell_type": "code",
   "execution_count": null,
   "metadata": {},
   "outputs": [],
   "source": []
  }
 ],
 "metadata": {
  "kernelspec": {
   "display_name": "kdig",
   "language": "python",
   "name": "python3"
  },
  "language_info": {
   "codemirror_mode": {
    "name": "ipython",
    "version": 3
   },
   "file_extension": ".py",
   "mimetype": "text/x-python",
   "name": "python",
   "nbconvert_exporter": "python",
   "pygments_lexer": "ipython3",
   "version": "3.9.7"
  },
  "orig_nbformat": 4
 },
 "nbformat": 4,
 "nbformat_minor": 2
}
