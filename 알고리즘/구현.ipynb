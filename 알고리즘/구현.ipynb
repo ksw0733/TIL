{
 "cells": [
  {
   "cell_type": "code",
   "execution_count": 49,
   "metadata": {},
   "outputs": [
    {
     "name": "stdout",
     "output_type": "stream",
     "text": [
      "TUE\n"
     ]
    }
   ],
   "source": [
    "## 1924번\n",
    "\n",
    "x, y = map(int, input().split())\n",
    "\n",
    "day = ['MON', 'TUE', 'WED', 'THU', 'FRI', 'SAT', 'SUN']\n",
    "\n",
    "month = [31, 28, 31, 30, 31, 30, 31, 31, 30, 31, 30, 31]\n",
    "\n",
    "mon_dif = x - 1\n",
    "day_dif = (y - 1 + sum(month[:mon_dif])) % 7\n",
    "print(day[day_dif])\n"
   ]
  },
  {
   "cell_type": "code",
   "execution_count": 8,
   "metadata": {},
   "outputs": [
    {
     "name": "stdout",
     "output_type": "stream",
     "text": [
      "<3, 6, 2, 7, 5, 1, 4>\n"
     ]
    }
   ],
   "source": [
    "## 1158번\n",
    "from collections import deque\n",
    "n, k = map(int, input().split())\n",
    "\n",
    "lst = deque(i for i in range(1, n+1))\n",
    "yose = deque()\n",
    "\n",
    "while lst:\n",
    "    lst.rotate(1 - k)\n",
    "    yose.append(lst.popleft())\n",
    "\n",
    "print(str(list(yose)).replace('[', '<').replace(']', '>'))\n",
    "# deque의 경우 print(*yose)로 출력하면 큐 안에 요소들만 띄어쓰기 기준으로 출력할 수 있음"
   ]
  },
  {
   "cell_type": "code",
   "execution_count": 11,
   "metadata": {},
   "outputs": [
    {
     "name": "stdout",
     "output_type": "stream",
     "text": [
      "1\n"
     ]
    }
   ],
   "source": [
    "## 10988번\n",
    "\n",
    "word = str(input())\n",
    "check = word[::-1]\n",
    "if word == check:\n",
    "    print(1)\n",
    "else:\n",
    "    print(0)"
   ]
  },
  {
   "cell_type": "code",
   "execution_count": 25,
   "metadata": {},
   "outputs": [
    {
     "name": "stdout",
     "output_type": "stream",
     "text": [
      "1\n"
     ]
    }
   ],
   "source": [
    "## 2303번\n",
    "from itertools import combinations\n",
    "\n",
    "n = int(input())\n",
    "card = [list(map(int, input().split())) for _ in range(n)]\n",
    "max_card = []\n",
    "res = 0\n",
    "res_max = 0\n",
    "for i in range(n):\n",
    "    card_mix = list(combinations(card[i], 3))\n",
    "    max_value = 0\n",
    "    for mix in card_mix:\n",
    "        max_value = max(sum(mix) % 10, max_value)\n",
    "    if max_value >= res_max:\n",
    "        res = i + 1\n",
    "        res_max = max_value\n",
    "\n",
    "print(res)"
   ]
  },
  {
   "cell_type": "code",
   "execution_count": 30,
   "metadata": {},
   "outputs": [
    {
     "name": "stdout",
     "output_type": "stream",
     "text": [
      "[10, 20, 10]\n"
     ]
    }
   ],
   "source": [
    "## 15702번\n",
    "n, m = map(int, input().split())\n",
    "score = list(map(int, input().split()))\n",
    "\n",
    "student = [list(map(str, input().split())) for _ in range(m)]\n",
    "\n"
   ]
  },
  {
   "cell_type": "code",
   "execution_count": null,
   "metadata": {},
   "outputs": [],
   "source": []
  }
 ],
 "metadata": {
  "kernelspec": {
   "display_name": "kdig",
   "language": "python",
   "name": "python3"
  },
  "language_info": {
   "codemirror_mode": {
    "name": "ipython",
    "version": 3
   },
   "file_extension": ".py",
   "mimetype": "text/x-python",
   "name": "python",
   "nbconvert_exporter": "python",
   "pygments_lexer": "ipython3",
   "version": "3.9.7"
  },
  "orig_nbformat": 4
 },
 "nbformat": 4,
 "nbformat_minor": 2
}
