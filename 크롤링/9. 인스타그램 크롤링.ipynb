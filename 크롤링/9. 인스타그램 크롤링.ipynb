{
 "cells": [
  {
   "cell_type": "markdown",
   "id": "800b75a8",
   "metadata": {},
   "source": [
    "## 인스타그램 해시태그 크롤링\n",
    "- 셀레니움을 이용한 크롤링\n",
    "- 결과에 대한 단어 분석"
   ]
  },
  {
   "cell_type": "code",
   "execution_count": 6,
   "id": "ee82c5d9",
   "metadata": {},
   "outputs": [],
   "source": [
    "from selenium.webdriver import Chrome\n",
    "from selenium.webdriver.common.by import By\n",
    "from bs4 import BeautifulSoup as bs\n",
    "import pandas as pd\n",
    "import time"
   ]
  },
  {
   "cell_type": "markdown",
   "id": "e8aa4cee",
   "metadata": {},
   "source": [
    "#### 1. 인스타그램 로그인"
   ]
  },
  {
   "cell_type": "code",
   "execution_count": 16,
   "id": "80477a78",
   "metadata": {},
   "outputs": [
    {
     "name": "stderr",
     "output_type": "stream",
     "text": [
      "C:\\Users\\user01\\AppData\\Local\\Temp/ipykernel_30712/868728599.py:2: DeprecationWarning: executable_path has been deprecated, please pass in a Service object\n",
      "  driver=Chrome(\"./data/chromedriver.exe\")   # driver=Chrome(\"c:/pydata/chromedriver.exe\")\n"
     ]
    }
   ],
   "source": [
    "# 드라이브 실행\n",
    "driver=Chrome(\"./data/chromedriver.exe\")   # driver=Chrome(\"c:/pydata/chromedriver.exe\")\n",
    "\n",
    "# 인스타그램 접속\n",
    "driver.get(\"https://www.instagram.com/\")\n",
    "time.sleep(2)"
   ]
  },
  {
   "cell_type": "code",
   "execution_count": 17,
   "id": "d94d2892",
   "metadata": {},
   "outputs": [],
   "source": [
    "# 인스타그램 로그인\n",
    "userID=\"\"\n",
    "userPW=\"\"\n",
    "\n",
    "#driver.find_element_by_css_selector(\"#loginForm > div > div:nth-child(1) > div > label > input\").click()\n",
    "input_id=driver.find_element(By.CSS_SELECTOR, \"#loginForm > div > div:nth-child(1) > div > label > input\")\n",
    "input_id.clear()\n",
    "input_id.send_keys(userID)\n",
    "\n",
    "input_pw=driver.find_element(By.CSS_SELECTOR, \"#loginForm > div > div:nth-child(2) > div > label > input\")\n",
    "input_pw.clear()\n",
    "input_pw.send_keys(userPW)\n",
    "\n",
    "input_pw.submit()  # 데이터 전송\n",
    "time.sleep(3)"
   ]
  },
  {
   "cell_type": "markdown",
   "id": "deb751aa",
   "metadata": {},
   "source": [
    "#### 2. 인스타그램에서 검색 url로 접속하기"
   ]
  },
  {
   "cell_type": "code",
   "execution_count": 19,
   "id": "4c7c6641",
   "metadata": {
    "scrolled": true
   },
   "outputs": [
    {
     "name": "stdout",
     "output_type": "stream",
     "text": [
      "검색어 입력:제주도맛집\n"
     ]
    }
   ],
   "source": [
    "# 인스타 검색 url 확인 및 사용자 키워드 적용\n",
    "keyword = input(\"검색어 입력:\")\n",
    "\n",
    "url=\"https://www.instagram.com/explore/tags/\" + keyword\n",
    "driver.get(url)"
   ]
  },
  {
   "cell_type": "markdown",
   "id": "b92eaf7c",
   "metadata": {},
   "source": [
    "#### 3. 게시글 가져오기"
   ]
  },
  {
   "cell_type": "code",
   "execution_count": 47,
   "id": "6b4fda87",
   "metadata": {},
   "outputs": [],
   "source": [
    "# 첫번째 게시물 클릭\n",
    "#driver.find_element_by_css_selector(\"div._9AhH0\").click()\n",
    "driver.find_element(By.CSS_SELECTOR,\"div._9AhH0\").click()\n",
    "time.sleep(3)"
   ]
  },
  {
   "cell_type": "code",
   "execution_count": 48,
   "id": "ff8987af",
   "metadata": {
    "scrolled": false
   },
   "outputs": [
    {
     "data": {
      "text/plain": [
       "'<광고>산도롱맨도롱 🍜 갈비국수는 흑돼지 생갈비로 만든 국수이고 두 종류입니다1. 홍갈비국수: 매콤한 육수로 강렬한 인상을 주는 맛2. 백갈비국수: 진한 육수 본연의 맛을 즐기고 싶은 분들께 추천 두분이 방문하신다면 홍갈비국수와 백갈비국수를 하나씩 시켜 나눠드시면 정말 좋구요. 커플세트등 다양하게 즐길 수 있는 메뉴들을 구성해 두었습니다 오늘도 산도롱맨도롱하세요💕✔손소독제 항시 배치 (입장시 입구부터 손소독제 마스크 착용후 입장 가능합니다⛔)▪️오픈시간: 07:30 - 17:00▪️전화: 064-782-5105▪️제주시 구좌읍 해맞이해안로 2284▪️매주 화요일 휴무✴️ 07:30~10:00 여유롭게 식사가 가능합니다.#제주맛집 #제주도맛집 #성산맛집 #성산일출봉맛집 #종달리맛집 #구좌맛집 #제주고기국수 #제주고기국수맛집#세화맛집 #김녕맛집 #광치기해변맛집 #비자림맛집 #종달리맛집 #우도맛집'"
      ]
     },
     "execution_count": 48,
     "metadata": {},
     "output_type": "execute_result"
    }
   ],
   "source": [
    "# 첫번째 게시물 정보 가져오기\n",
    "html =  driver.page_source\n",
    "soup = bs(html, \"html.parser\")\n",
    "#print(soup)\n",
    "\n",
    "#content = soup.select(\"div.C4VMK > div.MOdxS > span\")\n",
    "content = soup.find(\"div\", class_=\"C4VMK\").find_all(\"span\")[1].text\n",
    "content"
   ]
  },
  {
   "cell_type": "code",
   "execution_count": 56,
   "id": "442b0908",
   "metadata": {
    "scrolled": true
   },
   "outputs": [],
   "source": [
    "# 다음 게시물로 이동(두번째)\n",
    "#driver.find_element(By.CSS_SELECTOR,\"div.l8mY4 > button.wpO6b\").click()\n",
    "driver.find_element(By.XPATH, \"/html/body/div[6]/div[2]/div/div/button\").click()\n",
    "time.sleep(3)"
   ]
  },
  {
   "cell_type": "code",
   "execution_count": 62,
   "id": "15fdfe9e",
   "metadata": {},
   "outputs": [],
   "source": [
    "# 두번째 이후 게시물 이동\n",
    "driver.find_element(By.XPATH, \"/html/body/div[6]/div[2]/div/div[2]/button\").click()\n",
    "time.sleep(3)"
   ]
  },
  {
   "cell_type": "code",
   "execution_count": 63,
   "id": "e8cc9d3d",
   "metadata": {},
   "outputs": [],
   "source": [
    "# 첫번째 게시물 클릭\n",
    "def get_first(driver):\n",
    "    #driver.find_element_by_css_selector(\"div._9AhH0\").click()\n",
    "    driver.find_element(By.CSS_SELECTOR,\"div._9AhH0\").click()\n",
    "    time.sleep(3)"
   ]
  },
  {
   "cell_type": "code",
   "execution_count": 82,
   "id": "9340dcd7",
   "metadata": {},
   "outputs": [],
   "source": [
    "# 첫번째 게시물 정보 가져오기\n",
    "def get_content(driver):\n",
    "    html =  driver.page_source\n",
    "    soup = bs(html, \"html.parser\")\n",
    "    #print(soup)\n",
    "\n",
    "    #content = soup.select(\"div.C4VMK > div.MOdxS > span\")\n",
    "    content = soup.find(\"div\", class_=\"C4VMK\").find_all(\"span\")[1].text\n",
    "    \n",
    "    # 협찬/광고가 아닌 데이터만 출력하기\n",
    "    if content.split(\"#\")[0][:4] == \"<협찬>\" or content.split(\"#\")[0][:4] == \"<광고>\":\n",
    "        pass\n",
    "    else:\n",
    "        print(content.split(\"#\")[0])  # 내용만 출력하기\n",
    "    print()"
   ]
  },
  {
   "cell_type": "code",
   "execution_count": 74,
   "id": "7e1da1a4",
   "metadata": {},
   "outputs": [],
   "source": [
    "# 다음 내용으로 이동하기\n",
    "def get_next(driver, cnt):\n",
    "    if cnt == 0:\n",
    "        driver.find_element(By.XPATH, \"/html/body/div[6]/div[2]/div/div/button\").click()\n",
    "        time.sleep(3)\n",
    "    else:\n",
    "        driver.find_element(By.XPATH, \"/html/body/div[6]/div[2]/div/div[2]/button\").click()\n",
    "        time.sleep(3)"
   ]
  },
  {
   "cell_type": "code",
   "execution_count": 80,
   "id": "7012a3a6",
   "metadata": {
    "scrolled": true
   },
   "outputs": [
    {
     "name": "stdout",
     "output_type": "stream",
     "text": [
      "검색어 입력:제주도맛집\n",
      "<협찬>재철 식재료로 매일 신선한 스시,숙성회를 맛보실수 있는 스시오타루🏠제주 제주시 인다2길 30🏠제주 제주시 아라일동 6117-8🕓매일 11:30 - 22:00(브레이크타임 15:00 - 17:00)☎064-752-5271🌟포장가능🌟스시오타루\n",
      "\n",
      "<협찬>재철 식재료로 매일 신선한 스시,숙성회를 맛보실수 있는 스시오타루🏠제주 제주시 인다2길 30🏠제주 제주시 아라일동 6117-8🕓매일 11:30 - 22:00(브레이크타임 15:00 - 17:00)☎064-752-5271🌟포장가능🌟스시오타루\n",
      "\n",
      ".🐙제주 소금바치순이네🐙불향가득한 매콤한 돌문어볶음!!소면에 양념+밥+돌문어 같이 먹으면 대박임👍도민들도 추천하는 맛집이야!@@@같이 갈 사람 태그@@@주소 : 제주시 구좌읍 해맞이해안로 2196..\n",
      "\n",
      "\n",
      "\n"
     ]
    }
   ],
   "source": [
    "# 인스타 검색 url 확인 및 사용자 키워드 적용\n",
    "keyword = input(\"검색어 입력:\")\n",
    "\n",
    "url=\"https://www.instagram.com/explore/tags/\" + keyword\n",
    "driver.get(url)\n",
    "time.sleep(5)\n",
    "\n",
    "get_first(driver)\n",
    "\n",
    "for i in range(5):\n",
    "    get_content(driver)\n",
    "    get_next(driver, i)"
   ]
  },
  {
   "cell_type": "code",
   "execution_count": null,
   "id": "85a030c0",
   "metadata": {},
   "outputs": [],
   "source": []
  }
 ],
 "metadata": {
  "kernelspec": {
   "display_name": "Python 3 (ipykernel)",
   "language": "python",
   "name": "python3"
  },
  "language_info": {
   "codemirror_mode": {
    "name": "ipython",
    "version": 3
   },
   "file_extension": ".py",
   "mimetype": "text/x-python",
   "name": "python",
   "nbconvert_exporter": "python",
   "pygments_lexer": "ipython3",
   "version": "3.9.7"
  }
 },
 "nbformat": 4,
 "nbformat_minor": 5
}
