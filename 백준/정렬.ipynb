{
 "cells": [
  {
   "cell_type": "code",
   "execution_count": 2,
   "metadata": {},
   "outputs": [
    {
     "name": "stdout",
     "output_type": "stream",
     "text": [
      "1\n",
      "2\n",
      "3\n",
      "4\n",
      "9\n"
     ]
    }
   ],
   "source": [
    "## 2750번\n",
    "import sys\n",
    "input = sys.stdin.readline\n",
    "n = int(input())\n",
    "num_list = []\n",
    "for _ in range(n):\n",
    "    num_list.append(int(input()))\n",
    "    \n",
    "for i in range(1, len(num_list)):\n",
    "    while (i>0) & (num_list[i] < num_list[i-1]):\n",
    "        num_list[i], num_list[i-1] = num_list[i-1], num_list[i]\n",
    "        \n",
    "        i -= 1\n",
    "for n in num_list:\n",
    "    print(n)    "
   ]
  },
  {
   "cell_type": "code",
   "execution_count": 6,
   "metadata": {},
   "outputs": [
    {
     "name": "stdout",
     "output_type": "stream",
     "text": [
      "34\n",
      "30\n"
     ]
    }
   ],
   "source": [
    "## 2587번\n",
    "import sys\n",
    "input = sys.stdin.readline\n",
    "\n",
    "num_list = []\n",
    "for i in range(5):\n",
    "    num_list.append(int(input()))\n",
    "\n",
    "for i in range(1, len(num_list)):\n",
    "    while (i>0) & (num_list[i] < num_list[i-1]):\n",
    "        num_list[i], num_list[i-1] = num_list[i-1], num_list[i]\n",
    "        \n",
    "        i -= 1\n",
    "\n",
    "print(int(sum(num_list)/5), num_list[2], sep='\\n')"
   ]
  },
  {
   "cell_type": "code",
   "execution_count": 8,
   "metadata": {},
   "outputs": [
    {
     "name": "stdout",
     "output_type": "stream",
     "text": [
      "93\n"
     ]
    }
   ],
   "source": [
    "## 25305번\n",
    "import sys\n",
    "input = sys.stdin.readline\n",
    "n, k = map(int, input().split())\n",
    "\n",
    "score_list = list(map(int, input().split()))\n",
    "\n",
    "for i in range(1, len(score_list)):\n",
    "    while (i>0) & (score_list[i]> score_list[i-1]):\n",
    "        score_list[i], score_list[i-1] = score_list[i-1], score_list[i]\n",
    "        i -= 1\n",
    "\n",
    "print(score_list[k-1])"
   ]
  },
  {
   "cell_type": "code",
   "execution_count": 9,
   "metadata": {},
   "outputs": [
    {
     "name": "stdout",
     "output_type": "stream",
     "text": [
      "5\n",
      "4\n",
      "3\n",
      "2\n",
      "1\n"
     ]
    }
   ],
   "source": [
    "## 2751번\n",
    "import sys\n",
    "input = sys.stdin.readline\n",
    "\n",
    "n = int(input())\n",
    "num_list = []\n",
    "\n",
    "for _ in range(n):\n",
    "    num_list.append(int(input()))\n",
    "            \n",
    "for n in sorted(num_list):\n",
    "    print(n)    "
   ]
  },
  {
   "cell_type": "code",
   "execution_count": null,
   "metadata": {},
   "outputs": [],
   "source": []
  }
 ],
 "metadata": {
  "kernelspec": {
   "display_name": "Python 3.9.7 ('kdig')",
   "language": "python",
   "name": "python3"
  },
  "language_info": {
   "codemirror_mode": {
    "name": "ipython",
    "version": 3
   },
   "file_extension": ".py",
   "mimetype": "text/x-python",
   "name": "python",
   "nbconvert_exporter": "python",
   "pygments_lexer": "ipython3",
   "version": "3.9.7"
  },
  "orig_nbformat": 4,
  "vscode": {
   "interpreter": {
    "hash": "79235f3c426277640c9689d2572c47b913f40843195eeba115616b689febf123"
   }
  }
 },
 "nbformat": 4,
 "nbformat_minor": 2
}
