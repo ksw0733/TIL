{
 "cells": [
  {
   "attachments": {},
   "cell_type": "markdown",
   "metadata": {},
   "source": [
    "### 이진탐색\n",
    "  - 순차탐색: 리스트 안에 있는 특정한 데이터를 찾기 위해 앞에서부터 데이터를 하나씩 확인하는 방법\n",
    "  - 이진탐색: 정렬되어 있는 리스트에서 탐색 범위를 절반씩 좁혀가며 데이터를 탐색\n",
    "    - 이진탐색은 시작점, 끝점, 중간점을 이용하여 탐색범위를 설정\n",
    "    - 단계마다 탐색범위를 2로 나누는것과 동일하므로 연산횟수는 log에 비례\n",
    "    - 즉, 이진탐색은 탐색범위를 절반씩 줄이며 시간복잡도는 O(log N)을 보장"
   ]
  },
  {
   "cell_type": "code",
   "execution_count": 1,
   "metadata": {},
   "outputs": [
    {
     "name": "stdout",
     "output_type": "stream",
     "text": [
      "4\n"
     ]
    }
   ],
   "source": [
    "# 이진탐색 재귀적 구현\n",
    "def binary_search(array, target, start, end):\n",
    "    if start > end:\n",
    "        return None\n",
    "    mid = (start + end) // 2\n",
    "    # 찾은 경우 중간점 인덱스 반환\n",
    "    if array[mid] == target:\n",
    "        return mid\n",
    "    # 중간점의 값보다 찾고자 하는 값이 작은경우 왼쪽 확인\n",
    "    elif array[mid] > target:\n",
    "        return binary_search(array, target, start, mid-1)\n",
    "    # 중간점의 값보다 찾고자 하는 값이 큰 경우 오른쪽 확인\n",
    "    else:\n",
    "        return binary_search(array, target, mid + 1, end)\n",
    "\n",
    "# n과 target 입력받기\n",
    "n, target = list(map(int, input().split()))\n",
    "# 전체 원소 입력받기\n",
    "array = list(map(int, input().split()))\n",
    "\n",
    "# 이진탐색 수행결과 출력\n",
    "result = binary_search(array, target, 0, n-1)\n",
    "if result == None:\n",
    "    print('원소가 존재하지 않습니다.')\n",
    "else:\n",
    "    print(result + 1)"
   ]
  },
  {
   "cell_type": "code",
   "execution_count": 2,
   "metadata": {},
   "outputs": [
    {
     "name": "stdout",
     "output_type": "stream",
     "text": [
      "원소가 존재하지 않습니다.\n"
     ]
    }
   ],
   "source": [
    "# 이진탐색 반복문 구현\n",
    "def binary_search(array, target, start, end):\n",
    "    while start <= end:\n",
    "        mid = (start + end) // 2\n",
    "        if array[mid] == target:\n",
    "            return mid\n",
    "        elif array[mid] > target:\n",
    "            end = mid -1\n",
    "        else:\n",
    "            start = mid + 1\n",
    "    return None\n",
    "    \n",
    "# n과 target 입력받기\n",
    "n, target = list(map(int, input().split()))\n",
    "# 전체 원소 입력받기\n",
    "array = list(map(int, input().split()))\n",
    "\n",
    "# 이진탐색 수행결과 출력\n",
    "result = binary_search(array, target, 0, n-1)\n",
    "if result == None:\n",
    "    print('원소가 존재하지 않습니다.')\n",
    "else:\n",
    "    print(result + 1)"
   ]
  },
  {
   "cell_type": "code",
   "execution_count": 5,
   "metadata": {},
   "outputs": [
    {
     "name": "stdout",
     "output_type": "stream",
     "text": [
      "2\n",
      "6\n"
     ]
    }
   ],
   "source": [
    "# 파이썬 이진탐색 라이브러리\n",
    "# 정렬된 순서를 유지하면서 배열 a에 x를 삽입할 가장 왼쪽, 오른쪽 인덱스를 반환\n",
    "from bisect import bisect_left, bisect_right\n",
    "\n",
    "# 값이 [left_value, right_value]인 데이터의 개수를 반환하는 함수\n",
    "def count_by_range(a, left_value, right_value):\n",
    "    right_index = bisect_right(a, right_value)\n",
    "    left_index = bisect_left(a, left_value)\n",
    "    return right_index - left_index\n",
    "\n",
    "a = [1, 2, 3, 3, 3, 3, 4, 4, 8, 9]\n",
    "\n",
    "# 값이 4인 데이터 개수 출력\n",
    "print(count_by_range(a, 4, 4))\n",
    "# 값이 [-1, 3] 범위에 있는 데이터 개수 출력\n",
    "print(count_by_range(a, -1, 3))"
   ]
  },
  {
   "attachments": {},
   "cell_type": "markdown",
   "metadata": {},
   "source": [
    "### 파라메트릭 서치\n",
    "  - 파라메트릭 서치란 최적화 문제를 결정문제('예' 혹은 '아니오')로 바꾸어 해결하는 기법\n",
    "    - ex) 특정한 조건을 만족하는 가장 알맞은 값을 빠르게 찾는 최적화 문제\n",
    "  - 일반적으로 코딩테스트에서 파라메트릭 서치 문제는 이진 탐색을 이용하여 해결 할 수 있음"
   ]
  },
  {
   "attachments": {},
   "cell_type": "markdown",
   "metadata": {},
   "source": [
    "### 이진탐색 문제 1\n",
    "  - 떡집에서 떡을 잘라줄때 절단기에 높이(h)를 지정하면 줄지어진 떡을 한번에 절단. 높이가 h보다 크면 잘리고 낮은떡은 잘리지 않음\n",
    "    - ex) 높이가 19, 14, 10, 17,인 떡이 있고 절단기 높이가 15라면 자른 뒤 떡의 높이는 15, 14, 19, 15가 되고 잘린떡의 길이는 4, 0, 0, 2가 됨 잘린떡의 길이의 합인 4+0+0+2 = 6이 손님이 가져가는 떡의 양\n",
    "  - 손님이 왔을때 요청한 길이가 m 일때 적어도 m만큼의 떡을 얻기 위해 절단기에 설정할 수 있는 높이 h의 최대값은?\n",
    "  - 적절한 높이를 찾을 때까지 이진 탐색을 수행하여 높이 h를 반복해서 조정해야됨\n",
    "  - 현재 높이로 자르면 조건을 만족할 수 있는가? 를 확인한 뒤에 조건의 만족여부(yes or no)에 따라서 탐색범위를 좁혀서 해결\n",
    "  - 절단기의 높이는 0부터 10억까지\n",
    "    - 이렇게 탐색범위가 크다면? 이진탐색부터 생각"
   ]
  },
  {
   "cell_type": "code",
   "execution_count": 1,
   "metadata": {},
   "outputs": [
    {
     "name": "stdout",
     "output_type": "stream",
     "text": [
      "15\n"
     ]
    }
   ],
   "source": [
    "# 떡의 갯수(n)와 요청한 떡의 길이(m)을 입력\n",
    "n, m = list(map(int, input().split(' ')))\n",
    "# 각 떡의 개별 높이 정보를 입력\n",
    "array = list(map(int, input().split()))\n",
    "\n",
    "# 이진 탐색을 위한 시작점과 끝점 설정\n",
    "start = 0\n",
    "end = max(array)\n",
    "\n",
    "# 이진탐색 수행\n",
    "result = 0\n",
    "while (start <= end):\n",
    "    total = 0\n",
    "    mid = (start + end) // 2\n",
    "    for x in array:\n",
    "        # 잘랐을 때의 떡의 양 계산\n",
    "        if x > mid:\n",
    "            total += x - mid\n",
    "    # 떡의 양이 부족한 경우 더 많이 자르기(왼쪽 부분 탐색)\n",
    "    if total < m:\n",
    "        end = mid - 1\n",
    "    # 떡의 양이 많으면 더 조금 자르기(오른쪽 부분 탐색)\n",
    "    else:\n",
    "        result = mid   # 최대한 덜 잘랐을 때가 정답이므로, 여기에서 result에 기록\n",
    "        start = mid + 1\n",
    "        \n",
    "print(result)"
   ]
  },
  {
   "attachments": {},
   "cell_type": "markdown",
   "metadata": {},
   "source": [
    "### 이진탐색 문제 2\n",
    "  - N개의 원소를 포함하고 있는 수열이 오름차순 정렬되어 있을때 이 수열에서 x가 등장하는 횟수는?\n",
    "    - ex) {1, 2, 2, 2, 2, 3}이 있을때 x = 2라면, 2인 원소개 4개이므로 4를 출력\n",
    "  - 단, 이 문제는 시간복잡도 O(log N)으로 설계해야함"
   ]
  },
  {
   "cell_type": "code",
   "execution_count": 2,
   "metadata": {},
   "outputs": [
    {
     "name": "stdout",
     "output_type": "stream",
     "text": [
      "3\n"
     ]
    }
   ],
   "source": [
    "from bisect import bisect_left, bisect_right\n",
    "\n",
    "# 값이 left_value, right_value인 데이터의 개수를 반환하는 함수\n",
    "def count_by_range(array, left_value, right_value):\n",
    "    right_index = bisect_right(array, right_value)\n",
    "    left_index = bisect_left(array, left_value)\n",
    "    return right_index - left_index\n",
    "\n",
    "n, x = map(int, input().split())\n",
    "array = list(map(int, input().split()))\n",
    "\n",
    "count = count_by_range(array, x, x)\n",
    "\n",
    "if count == 0:\n",
    "    print(-1)\n",
    "else:\n",
    "    print(count)"
   ]
  },
  {
   "cell_type": "code",
   "execution_count": null,
   "metadata": {},
   "outputs": [],
   "source": []
  }
 ],
 "metadata": {
  "kernelspec": {
   "display_name": "kdig",
   "language": "python",
   "name": "python3"
  },
  "language_info": {
   "codemirror_mode": {
    "name": "ipython",
    "version": 3
   },
   "file_extension": ".py",
   "mimetype": "text/x-python",
   "name": "python",
   "nbconvert_exporter": "python",
   "pygments_lexer": "ipython3",
   "version": "3.9.7"
  },
  "orig_nbformat": 4
 },
 "nbformat": 4,
 "nbformat_minor": 2
}
