{
 "cells": [
  {
   "attachments": {},
   "cell_type": "markdown",
   "metadata": {},
   "source": [
    "### 스택\n",
    "  - 먼저 들어온 데이터가 나중에 나가는 형태\n",
    "  - 입구와 출구가 동일\n",
    "  - push(삽입): append, pop(삭제): pop 메서드를 이용해 사용\n",
    "  - 재귀 알고리즘, 방문기록, 실행취소 등등에 사용"
   ]
  },
  {
   "cell_type": "code",
   "execution_count": 2,
   "metadata": {},
   "outputs": [
    {
     "name": "stdout",
     "output_type": "stream",
     "text": [
      "[1, 3, 2, 5]\n",
      "[5, 2, 3, 1]\n"
     ]
    }
   ],
   "source": [
    "## 스택\n",
    "\n",
    "stack = []\n",
    "stack.append(5)  # 리스트의 끝에 데이터 추가\n",
    "stack.append(2)\n",
    "stack.append(3)\n",
    "stack.append(7)\n",
    "stack.pop()      # 나중에 들어온 데이터가 먼저 나가기 때문에 7이 삭제\n",
    "stack.append(1)\n",
    "stack.append(4)\n",
    "stack.pop()\n",
    "\n",
    "print(stack[::-1])  # 최상단(가장 나중에 들어온, 오른쪽) 원소부터 출력\n",
    "print(stack)  # 최하단(가장 먼저 들어온, 왼쪽) 원소부터 출력"
   ]
  },
  {
   "attachments": {},
   "cell_type": "markdown",
   "metadata": {},
   "source": [
    "### 큐\n",
    " - 먼저 들어온 데이터가 먼저 나가는 선입선출 형태\n",
    " - push(삽입): append, pop(삭제): popleft 메서드를 이용해 사용\n",
    " - 일반적인 리스트로 구현시 시간복잡도가 O(N) 이지만 파이썬의 deque 라이브러리를 이용시 시간복잡도가 O(1)이 되어 매우 빠름\n",
    " - 다만 deque 라이브러리의 경우 무작위 접근의 시간복잡도가 O(N)이고 내부적으로 linked list를 사용해 n번째 데이터 접근에 n번의 순회가 필요함\n",
    " - 너비우선탐색(BFS), 캐시(Cache) 구현, 우선순위 작업 예약 등등에 사용\n",
    " "
   ]
  },
  {
   "cell_type": "code",
   "execution_count": 3,
   "metadata": {},
   "outputs": [
    {
     "name": "stdout",
     "output_type": "stream",
     "text": [
      "deque([3, 7, 1, 4])\n",
      "deque([4, 1, 7, 3])\n",
      "[4, 1, 7, 3]\n"
     ]
    }
   ],
   "source": [
    "## 큐\n",
    "\n",
    "from collections import deque\n",
    "\n",
    "# 큐(Queue) 구현을 위해 deque 라이브러리 사용\n",
    "# deque 라이브러리의 경우 stack 자료구조에도 사용할 수 있는 편리한 list-like 매서드\n",
    "\n",
    "queue = deque()\n",
    "\n",
    "queue.append(5)\n",
    "queue.append(2)\n",
    "queue.append(3)\n",
    "queue.append(7)\n",
    "queue.popleft()  # queue의 첫번째 값인 5 삭제\n",
    "queue.append(1)\n",
    "queue.append(4)\n",
    "queue.popleft()  # 맨 첫번째 값인 2 삭제\n",
    "\n",
    "print(queue)  # 먼저 들어온 순서대로 출력\n",
    "queue.reverse()  # 역순으로 바꾸기\n",
    "print(queue)  # 나중에 들어온 원소부터 출력\n",
    "print(list(queue))  # deque객체를 list 형식으로 바꾸고 싶을때 list로 감싸면됨"
   ]
  },
  {
   "attachments": {},
   "cell_type": "markdown",
   "metadata": {},
   "source": [
    "### "
   ]
  },
  {
   "attachments": {},
   "cell_type": "markdown",
   "metadata": {},
   "source": [
    "### 우선순위에 따라 데이터를 꺼내는 자료구조\n",
    "- 우선순위가 가장 높은 데이터부터 추출\n",
    "- 단순 리스트 or 힙(heap)을 이용하여 구현\n",
    "- 리스트를 이용시 삽입 삭제의 시간복잡도가 O(1), O(N) 이지만 힙은 O(logN)으로 삽입 삭제의 시간복잡도가 동일"
   ]
  },
  {
   "attachments": {},
   "cell_type": "markdown",
   "metadata": {},
   "source": [
    "#### 완전 이진 트리\n",
    "- 완전 이진 트리란 루트노드부터 시작하여 왼쪽 자식노드 오른쪽 자식노드 순서대로 데이터가 차례대로 삽입되는 트리"
   ]
  },
  {
   "attachments": {},
   "cell_type": "markdown",
   "metadata": {},
   "source": [
    "##### 힙(heap)의 특징\n",
    "- 힙은 완전 이진트리 자료구조의 일종\n",
    "- 힙에서는 항상 루트노드(root node)를 제거\n",
    "- 최소힙(min heap)\n",
    "    - 루트노드가 가장 작은 값을 가짐\n",
    "    - 따라서 값이 가장 작은 데이터가 우선적으로 제거\n",
    "- 최대힙(max heap)\n",
    "    - 루트노드가 가장 큰 값을 가짐\n",
    "    - 따라서 값이 가장 큰 데이터가 우선적으로 제거\n",
    "- 최소 힙 구성함수: Min-Heapify()\n",
    "    - 상향식: 부모노드로 거슬러 올라가며, 부모보다 자신의 값이 더 작은경우에 위치를 교체\n",
    "    - 하향식: 자식노드로 거슬러 내려가며 더 값이 작은 자식노드와 위치를 교체\n",
    "    - 원소가 제거될 때는 가장 마지막 노드가 루트 노드로 오도록 위치를 변경\n",
    "    - 그 후 루트노드에서 하샹식으로 Heapify()를 진행"
   ]
  },
  {
   "cell_type": "code",
   "execution_count": 3,
   "metadata": {},
   "outputs": [
    {
     "name": "stdout",
     "output_type": "stream",
     "text": [
      "1\n",
      "1\n",
      "2\n",
      "2\n",
      "2\n",
      "3\n",
      "5\n",
      "6\n",
      "12\n",
      "78\n"
     ]
    }
   ],
   "source": [
    "## 우선순위 큐\n",
    "import sys\n",
    "import heapq\n",
    "\n",
    "# input = sys.stdin.readline\n",
    "# 파이썬의 경우 heapq는 기본적으로 min heap을 지원\n",
    "\n",
    "\n",
    "# 구조 이해를 위해 함수를 만들었지만 heapq.heapify(list)를 이용하여 사용하면 됨\n",
    "def heapsort(iterable):\n",
    "    h = []\n",
    "    result = []\n",
    "    # 모든 원소를 차례대로 힙에 삽입\n",
    "    for value in iterable:\n",
    "        heapq.heappush(h, value)\n",
    "    # 힙에 삽입된 모든 원소를 차례대로 꺼내어 담기\n",
    "    # 만약 max heap을 사용하고 싶다면 -를 붙여서 데이터를 꺼내면 됨\n",
    "    for i in range(len(h)):\n",
    "        result.append(heapq.heappop(h))\n",
    "    return result\n",
    "\n",
    "n = int(input())\n",
    "arr = []\n",
    "\n",
    "for i in range(n):\n",
    "    arr.append(int(input()))\n",
    "\n",
    "res = heapsort(arr)     # 내장된 모듈인 heapq.heapify(res)를 이용해도 됨\n",
    "\n",
    "# min heap으로 작동하기 때문에 오름차순 정렬이됨\n",
    "for i in range(n):\n",
    "    print(res[i])"
   ]
  },
  {
   "attachments": {},
   "cell_type": "markdown",
   "metadata": {},
   "source": [
    "### 그리디\n",
    " - 현재 상황에서 지금 당장 좋은것만 고르는 방법을 의미\n",
    " - 그리디 해법은 정당성 분석이 중요\n",
    "   - 단순히 가장 좋아보이는 것을 반복적으로 선택해도 최적의 해를 구할수 있는지 검토필요\n",
    " - 일반적인 상황에서 그리디 알고리즘은 최적애 해를 보장할 수 없을때가 많음"
   ]
  },
  {
   "attachments": {},
   "cell_type": "markdown",
   "metadata": {},
   "source": [
    "#### 문제 1) 거스름 돈\n",
    "  - 손님에게 거스름돈을 줄때 500, 100, 50, 10원짜리 동전을 어떻게 줘야 최소의 갯수로 줄 수 있을까?\n",
    "    - 가장 큰 화폐단위부터 돈을 거슬러 주면 된다.\n",
    "    - ex) 1260원이면 500원 2개 100원 2개 50원 1개 10원 1개 총 6개\n",
    "  - 위와 같은 방식이 최적의 해를 보장하는 이유는?\n",
    "    - 가지고 있는 동전의 큰 단위가 항상 작은 단위의 배수이기 때문에 작은 단위의 동전들을 종합해 다른해가 나올 수 없기 때문\n",
    "    - 만약 800원을 거슬러 주는데 동전이 500, 400, 100 이라면?\n",
    "    - 같은 알고리즘 이라면 500원 1개 100원 3개가 최적해가 될테지만 실제론 400원 2개가 정답. 500이 400의 배수가 아니기 때문에 틀린 방법이됨\n",
    "  "
   ]
  },
  {
   "cell_type": "code",
   "execution_count": 1,
   "metadata": {},
   "outputs": [
    {
     "name": "stdout",
     "output_type": "stream",
     "text": [
      "6\n"
     ]
    }
   ],
   "source": [
    "## 그리디 문제 1 예시\n",
    "\n",
    "n = 1260\n",
    "count = 0\n",
    "\n",
    "# 큰 단위의 화폐부터 차례대로 확인\n",
    "array = [500, 100, 50, 10]\n",
    "\n",
    "for coin in array:\n",
    "    count += n // coin # 해당 화폐로 거슬러 줄 수 있는 동전의 개수 세기\n",
    "    n %= coin\n",
    "    \n",
    "print(count)\n",
    "\n",
    "## 시간복잡도는 동전의 수가 K일때 O(K)이며 동전의 종류에만 영향을 받고 금액과는 상관없음"
   ]
  },
  {
   "attachments": {},
   "cell_type": "markdown",
   "metadata": {},
   "source": [
    "#### 문제 2) 1이 될 때까지\n",
    "  - 어떠한 수 N이 1이 될 때까지 다음의 두 과정 중 하나를 반복적으로 수행 단 두번째 연산은 N이 K로 나누어 떨어질때만 가능\n",
    "    1. N에서 1을 뺌\n",
    "    2. N을 K로 나눔\n",
    "    - ex) N = 17, K = 4라 하면 최초 1번의 과정을 수행후 N = 16됨. 이후 2번의 과정을 두번 수행하면 N = 1이 되며 전체 과정은 3회\n",
    "  - 가장 최소한으로 수행하는 방법은?\n",
    "    - 가능하면 나누는 작업을 먼저 수행\n",
    "  - 위와 같은 방법이 최적의 해를 보장하는 이유는?\n",
    "    - N이 아무리 큰 수여도 K로 계속 나눈다면 빼는것보다 N의 수를 빠르게 줄일 수 있기 때문 "
   ]
  },
  {
   "cell_type": "code",
   "execution_count": 23,
   "metadata": {},
   "outputs": [
    {
     "name": "stdout",
     "output_type": "stream",
     "text": [
      "2\n"
     ]
    }
   ],
   "source": [
    "## 그리디 문제 2 예시\n",
    "n, k = map(int, input().split())\n",
    "\n",
    "result = 0\n",
    "\n",
    "while True:\n",
    "    # N이 K보다 작을 때 반복문 탈출\n",
    "    if n < k:\n",
    "        break\n",
    "    \n",
    "    # N이 K로 나누어 떨어지는 수가 될 때까지 빼기\n",
    "    target = (n // k) * k   # N이 K로 나누어 떨어지지 않을 때 가장 가까운 나누어 떨어지는 수를 찾음\n",
    "    result += (n - target)  # 나누어 떨어지는 가장 가까운 수가 되려면 1을 몇번 빼야하는지, 즉 작업을 몇번 반복해야 하는지 한번에 계산\n",
    "    n = target\n",
    "\n",
    "    \n",
    "    # K로 나누기\n",
    "    result += 1\n",
    "    n //= k\n",
    "\n",
    "# 0 < N < K인 경우 N이 1이 될때까지 1씩 빼기\n",
    "result += (n-1)\n",
    "print(result)\n",
    "\n",
    "## 위와 같이 N이 K로 나누어 떨어지는 가장 가까운 수를 찾아 한번에 계산하면 일일이 나눠지는지 비교하며 1씩 빼는것보다 시간 복잡도가 감소하여 log(K)가 된다."
   ]
  },
  {
   "attachments": {},
   "cell_type": "markdown",
   "metadata": {},
   "source": [
    "#### 문제 3) 곱하기 혹은 더하기\n",
    "  - 각 자리가 숫자로만 이루어진 문자열 S가 주어졌을때, 왼쪽부터 오른쪽으로 하나씩 모든 숫자를 확인하며 숫자사이에 * 혹은 + 연산자를 넣어 결과적으로 가장 큰 수를 만듬. 단, 모든 연산은 왼쪽부터 순서대로 시행\n",
    "    - ex) S = 02984 일때 가장 큰 수는 ((((0+2)* 9)* 8)* 4) = 576\n",
    "  - 가장 큰 수를 만드는 방법은?\n",
    "    - 0, 1을 제외한 모든경우 *가 +보다 더 큰값을 만듬 따라서 두 수 중에서 하나라도 1 이하인 경우는 더하며 두 수가 모두 2 이상이면 곱하는 것이 옳은방법"
   ]
  },
  {
   "cell_type": "code",
   "execution_count": 1,
   "metadata": {},
   "outputs": [
    {
     "name": "stdout",
     "output_type": "stream",
     "text": [
      "11760\n"
     ]
    }
   ],
   "source": [
    "## 그리디 문제 3 예시\n",
    "data = input()\n",
    "\n",
    "# 첫 번째 문자를 숫자로 변경하여 대입\n",
    "result = int(data[0])\n",
    "\n",
    "for i in range(1, len(data)):\n",
    "    # 두 수 중에서 하나라도 1 이하인 경우, 곱하기 보다는 더하기 수행\n",
    "    num = int(data[i])\n",
    "    if num <= 1 or result <= 1:\n",
    "        result += num\n",
    "    else:\n",
    "        result *= num\n",
    "\n",
    "print(result)"
   ]
  },
  {
   "attachments": {},
   "cell_type": "markdown",
   "metadata": {},
   "source": [
    "#### 문제 4) 모험가 길드\n",
    "  - 모험가 N명을 대상으로 '공포도'를 측정, 모험가 그룹을 구성할때는 공포도가 X인 모험가는 반드시 X명 이상으로 구성한 모험가 그룹에 참여해야함\n",
    "    - ex) 공포도가 2 3 1 2 2 일때 그룹 1에 1, 2, 3을 그룹 2에 공포도가 2인 남은 두명을 넣어 총 2개의 그룹을 만들 수 있음\n",
    "  - 이때 N명의 모험가에 대한 정보가 주어졌을때, 여행을 떠날 수 있는 '그룹수'의 최댓값은?\n",
    "    - 오름차순 정렬 이후 공포도가 낮은 모험가부터 하나씩 확인\n",
    "    - 앞에서부터 공포도를 확인하며 현재 그룹에 포함된 모험가의 수가 현재 확인하고 있는 공포보 보다 크거나 갖다면 이를 그룹으로 설정\n",
    "  - 이와 같은 방법이 최적해를 보장하는 이유는?\n",
    "    - 공포도가 오름차순으로 정렬되어 있어 항상 최소한의 모험가의 수만 포함하여 그룹을 결성하게되므로 그룹의 수는 최대가됨"
   ]
  },
  {
   "cell_type": "code",
   "execution_count": 3,
   "metadata": {},
   "outputs": [
    {
     "name": "stdout",
     "output_type": "stream",
     "text": [
      "2\n"
     ]
    }
   ],
   "source": [
    "## 그리디 문제 4 예시\n",
    "n = int(input())\n",
    "data = list(map(int, input().split()))\n",
    "data.sort()\n",
    "\n",
    "result = 0  # 총 그룹의 수\n",
    "count = 0  # 현재 그룹에 포함된 모험가의 수\n",
    "\n",
    "for i in data:  # 공포도를 낮은 것부터 하나씩 확인\n",
    "    count += 1  # 현재 그룹에 해당 모험가를 포함\n",
    "    if count >= i:  # 현재 그룹에 포함된 모험가의 수가 현재의 공포도 이상이라면, 그룹 결성\n",
    "        result += 1  # 총 그룹의 수 증가\n",
    "        count = 0  # 현재 그룹에 포함된 모험가의 수 초기화\n",
    "\n",
    "print(result)"
   ]
  },
  {
   "attachments": {},
   "cell_type": "markdown",
   "metadata": {},
   "source": [
    "### 구현\n",
    "  - 머릿속에 있는 알고리즘을 소스코드로 바꾸는 과정\n",
    "  - 알고리즘 대회에서 구현유형의 문제는?\n",
    "    - 풀이를 떠올리는 것은 쉽지만 코드로 옮기기 어려운 문제\n",
    "  - ex)\n",
    "    - 알고리즘은 간단한데 코드가 지나칠만큼 길어지는 문제\n",
    "    - 실수 연산을 다루고, 특정 소수점 자리까지 출력해야 하는 문제\n",
    "    - 문자열을 특정한 기준에 따라서 끊어 처리해야 하는 문제\n",
    "    - 적절한 라이브러리를 찾아서 사용해야 하는 문제\n",
    "  - 일반적으로 알고리즘 문제에서의 2차원 공간은 행렬의 의미로 사용\n",
    "    - 시뮬레이션 및 완전탐색 문제에서는 2차원 공간에서의 방향벡터가 자주 활용\n"
   ]
  },
  {
   "attachments": {},
   "cell_type": "markdown",
   "metadata": {},
   "source": [
    "#### 문제 1) 상하좌우\n",
    "  - 여행가 A는 N * N 크기의 정사각형 공간위에 서있음. 이 공간은 1 X 1 크기의 정사각형으로 나누어져 있는데 가장 왼쪽 위 좌표는 (1,1), 가장 오른쪽 아래 좌표는 (N, N). A는 상, 하, 좌, 우 방향으로 이동할 수 있으며, 시작 좌표는 항상 (1, 1)\n",
    "  - A는 계획서에 따라 이동하는데 계획서는 하나의 줄에 띄어쓰기를 기준으로 L, R, U, D중 하나의 문자가 반복적으로 적혀있으며 각 문자의 의미는 왼쪽, 오른쪽, 위, 아래로 한칸 이동\n",
    "  - 이때 여행가 A가 N * N 크기의 공간을 벗어나는 움직임은 무시"
   ]
  },
  {
   "cell_type": "code",
   "execution_count": null,
   "metadata": {},
   "outputs": [],
   "source": [
    "## 구현 문제 1 예시\n",
    "n = int(input())\n",
    "x, y = 1, 1\n",
    "plans = input().split()\n",
    "\n",
    "# L, R, U, D에 따른 이동 방향\n",
    "dx = [0, 0, -1, 1]\n",
    "dy = [-1, 1, 0, 0]\n",
    "move_types = ['L', 'R', 'U', 'D']\n",
    "\n",
    "# 이동 계획을 하나씩 확인하기\n",
    "for plan in plans:\n",
    "    # 이동 후 좌표 구하기\n",
    "    for i in range(len(move_types)):\n",
    "        if plan == move_types[i]:\n",
    "            nx = x + dx[i]\n",
    "            ny = y + dy[i]\n",
    "        # 공간을 벗어나는 경우 무시\n",
    "        if nx < 1 or ny < 1 or nx > n or ny > n:\n",
    "            continue\n",
    "    # 이동 수행\n",
    "    x, y = nx, ny\n",
    "\n",
    "print(x, y)"
   ]
  },
  {
   "attachments": {},
   "cell_type": "markdown",
   "metadata": {},
   "source": [
    "#### 문제 2) 시각\n",
    "  - 정수 N이 입력되면 00시 00분 00초부터 N시 59분 59초까지의 모든 시간중에서 3이 하나라도 포함되는 모든 경우의 수를 구하는 문제\n",
    "  - 이 문제는 대표적인 완전탐색 문제유형으로 가능한 모든 시간의 경우를 하나씩 세서 풀 수 있는 문제\n",
    "  - 단순히 시간을 1씩 증가시키며 3이 하나라도 포함되어 있는지 확인"
   ]
  },
  {
   "cell_type": "code",
   "execution_count": 1,
   "metadata": {},
   "outputs": [
    {
     "name": "stdout",
     "output_type": "stream",
     "text": [
      "4725\n"
     ]
    }
   ],
   "source": [
    "## 구현 문제 2 예시\n",
    "\n",
    "# 시간 입력받기\n",
    "h = int(input())\n",
    "\n",
    "count = 0\n",
    "for i in range(h+1):\n",
    "    for j in range(60):\n",
    "        for k in range(60):\n",
    "            # 매 시간안에 '3'이 포함되어 있다면 카운트 증가\n",
    "            if '3' in str(i) + str(j) + str(k):\n",
    "                count += 1\n",
    "\n",
    "print(count)"
   ]
  },
  {
   "attachments": {},
   "cell_type": "markdown",
   "metadata": {},
   "source": [
    "#### 문제 3) 체스판 나이트\n",
    "  - 8 X 8 좌표평면에서 나이트말이 이동할 수 있는 경우의 수 출력,\n",
    "  위치를 표현할 때는 1부터 8로 표현하며 열 위치를 표현할 때는 a부터 h로 표현"
   ]
  },
  {
   "cell_type": "code",
   "execution_count": 4,
   "metadata": {},
   "outputs": [
    {
     "name": "stdout",
     "output_type": "stream",
     "text": [
      "3\n"
     ]
    }
   ],
   "source": [
    "## 구현 문제 3 예시\n",
    "\n",
    "# 현재 나이트의 위치 입력받기\n",
    "input_data = input()\n",
    "row = int(input_data[1])\n",
    "col = int(ord(input_data[0])) - int(ord('a')) + 1\n",
    "\n",
    "# 나이트가 이동할 수 있는 8가지 방향 정의\n",
    "steps = [(-2, -1), (-1, -2), (1, -2), (2, -1), (2, 1), (1, 2), (-1, 2), (-2, 1)]\n",
    "\n",
    "# 8가지 방향에 대하여 각 위치로 이동이 가능한지 확인\n",
    "result = 0\n",
    "for step in steps:\n",
    "    # 이동하고자 하는 위치 확인\n",
    "    next_row = row + step[0]\n",
    "    next_col = col + step[1]\n",
    "    # 해당 위치로 이동이 가능하다면 카운트 증가\n",
    "    if next_row >= 1 and next_row <= 8 and next_col >= 1 and next_col <= 8:\n",
    "        result += 1\n",
    "        \n",
    "print(result)"
   ]
  },
  {
   "attachments": {},
   "cell_type": "markdown",
   "metadata": {},
   "source": [
    "#### 문제 4) 문자열 재정렬\n",
    "  - 알파벳 대문자와 숫자(0~9)로만 구성된 문자열을 알파벳은 오름차순으로 정렬하고 그 뒤에 모든 숫자를 더한값을 붙여서 출력\n",
    "    - ex) K1KA5CB7 -> ABCKK13\n",
    "  - 문자열이 입력되었을 때 문자를 하나씩 확인\n",
    "    - 숫자인 경우 따로 합계를 계산\n",
    "    - 알파벳은 별도의 리스트에 저장\n",
    "  - 결과적으로 리스트에 저장된 알파벳을 정렬하고 합계를 뒤에 이어붙여 출력"
   ]
  },
  {
   "cell_type": "code",
   "execution_count": 5,
   "metadata": {},
   "outputs": [
    {
     "name": "stdout",
     "output_type": "stream",
     "text": [
      "ABCKK13\n"
     ]
    }
   ],
   "source": [
    "## 구현 문제 4 예시\n",
    "\n",
    "data = input()\n",
    "result = []\n",
    "value = 0\n",
    "\n",
    "for word in data:\n",
    "    # 알파벳인 경우 결과리스트에 삽입\n",
    "    if word.isalpha():\n",
    "        result.append(word)\n",
    "    # 숫자는 따로 더하기\n",
    "    else:\n",
    "        value += int(word)\n",
    "\n",
    "result.sort()\n",
    "\n",
    "if value != 0:\n",
    "    result.append(str(value))\n",
    "    \n",
    "print(''.join(result))"
   ]
  },
  {
   "cell_type": "code",
   "execution_count": null,
   "metadata": {},
   "outputs": [],
   "source": []
  }
 ],
 "metadata": {
  "kernelspec": {
   "display_name": "kdig",
   "language": "python",
   "name": "python3"
  },
  "language_info": {
   "codemirror_mode": {
    "name": "ipython",
    "version": 3
   },
   "file_extension": ".py",
   "mimetype": "text/x-python",
   "name": "python",
   "nbconvert_exporter": "python",
   "pygments_lexer": "ipython3",
   "version": "3.9.7"
  },
  "orig_nbformat": 4,
  "vscode": {
   "interpreter": {
    "hash": "79235f3c426277640c9689d2572c47b913f40843195eeba115616b689febf123"
   }
  }
 },
 "nbformat": 4,
 "nbformat_minor": 2
}
