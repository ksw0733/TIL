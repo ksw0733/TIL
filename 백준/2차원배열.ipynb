{
 "cells": [
  {
   "cell_type": "code",
   "execution_count": 2,
   "metadata": {},
   "outputs": [
    {
     "name": "stdout",
     "output_type": "stream",
     "text": [
      "4 4 4\n",
      "6 6 6\n",
      "5 6 100\n"
     ]
    }
   ],
   "source": [
    "## 2738번\n",
    "n, m = map(int, input().split())\n",
    "a, b = [], []\n",
    "for i in [a, b]:\n",
    "    for j in range(n):\n",
    "        i.append(list(map(int, input().split())))\n",
    "for i in range(n):\n",
    "    for j in range(m):\n",
    "        a[i][j] += b[i][j]\n",
    "    print(*a[i])"
   ]
  },
  {
   "cell_type": "code",
   "execution_count": 1,
   "metadata": {},
   "outputs": [
    {
     "name": "stdout",
     "output_type": "stream",
     "text": [
      "90\n",
      "5\n",
      "7\n"
     ]
    }
   ],
   "source": [
    "## 2566번\n",
    "import sys\n",
    "#input = sys.stdin.readline\n",
    "\n",
    "ans, x, y = -1, 0, 0\n",
    "for i in range(9):\n",
    "    arr = list(map(int, input().split()))\n",
    "    for j in range(9):\n",
    "        if arr[j] > ans:\n",
    "            ans, x, y = arr[j], i, j\n",
    "print(ans, x+1, y+1, sep='\\n')"
   ]
  },
  {
   "cell_type": "code",
   "execution_count": 3,
   "metadata": {},
   "outputs": [],
   "source": [
    "## 2563번\n",
    "import sys\n",
    "input = sys.stdin.readline\n",
    "\n",
    "paper = [[0]*101 for i in range(101)]\n",
    "\n",
    "for _ in range(int(input())):\n",
    "    a, b = map(int, input().split())\n",
    "    for i in range(10):\n",
    "        for j in range(10):\n",
    "            paper[a+i][b+j] = 1\n",
    "\n",
    "area = 0\n",
    "for i in paper:\n",
    "    area += sum(i)\n",
    "print(area)"
   ]
  },
  {
   "cell_type": "code",
   "execution_count": null,
   "metadata": {},
   "outputs": [],
   "source": []
  }
 ],
 "metadata": {
  "kernelspec": {
   "display_name": "Python 3.9.7 ('kdig')",
   "language": "python",
   "name": "python3"
  },
  "language_info": {
   "codemirror_mode": {
    "name": "ipython",
    "version": 3
   },
   "file_extension": ".py",
   "mimetype": "text/x-python",
   "name": "python",
   "nbconvert_exporter": "python",
   "pygments_lexer": "ipython3",
   "version": "3.9.7"
  },
  "orig_nbformat": 4,
  "vscode": {
   "interpreter": {
    "hash": "79235f3c426277640c9689d2572c47b913f40843195eeba115616b689febf123"
   }
  }
 },
 "nbformat": 4,
 "nbformat_minor": 2
}
